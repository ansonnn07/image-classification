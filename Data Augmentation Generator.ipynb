{
 "cells": [
  {
   "cell_type": "markdown",
   "metadata": {},
   "source": [
    "# Data Augmentation"
   ]
  },
  {
   "cell_type": "code",
   "execution_count": 1,
   "metadata": {},
   "outputs": [],
   "source": [
    "import matplotlib.pyplot as plt\n",
    "import numpy as np\n",
    "import cv2\n",
    "import os\n",
    "import PIL\n",
    "import tensorflow as tf\n",
    "import uuid\n",
    "\n",
    "from tensorflow import keras\n",
    "from tensorflow.keras import layers\n",
    "from tensorflow.keras.models import Sequential\n",
    "from keras.preprocessing.image import ImageDataGenerator\n",
    "from PIL import Image"
   ]
  },
  {
   "cell_type": "code",
   "execution_count": 2,
   "metadata": {},
   "outputs": [],
   "source": [
    "datagen = ImageDataGenerator(\n",
    "        rotation_range=0.1,\n",
    "        zoom_range=0.1,\n",
    "        horizontal_flip=True,\n",
    ")"
   ]
  },
  {
   "cell_type": "code",
   "execution_count": 3,
   "metadata": {},
   "outputs": [],
   "source": [
    "IMAGES_PATH = './handgestures/Augmented'"
   ]
  },
  {
   "cell_type": "code",
   "execution_count": 4,
   "metadata": {},
   "outputs": [],
   "source": [
    "label = ['A','B','C','D','E','F','G','H','I','J','K','L','M','N','O','P','Q','R','S','T','U','V','W','X','Y','Z']"
   ]
  },
  {
   "cell_type": "code",
   "execution_count": 7,
   "metadata": {},
   "outputs": [
    {
     "name": "stdout",
     "output_type": "stream",
     "text": [
      "Found 7200 images belonging to 24 classes.\n"
     ]
    }
   ],
   "source": [
    "i=0\n",
    "for batch in datagen.flow_from_directory(directory='./handgestures/train',\n",
    "                                        batch_size=50,\n",
    "                                        target_size=(320, 320),\n",
    "                                        color_mode=\"rgb\",\n",
    "                                        save_to_dir='./handgestures/Augmented',\n",
    "                                        save_prefix='aug',\n",
    "                                        save_format='jpg'.format(str(uuid.uuid1))):\n",
    "    \n",
    "    i += 1\n",
    "    if i > 31:\n",
    "        break"
   ]
  },
  {
   "cell_type": "code",
   "execution_count": 6,
   "metadata": {},
   "outputs": [
    {
     "name": "stdout",
     "output_type": "stream",
     "text": [
      "Found 8400 images belonging to 24 classes.\n"
     ]
    }
   ],
   "source": [
    "i=0\n",
    "for batch in datagen.flow_from_directory(directory='./handgestures/train',\n",
    "                                        batch_size=10,\n",
    "                                        target_size=(32, 32),\n",
    "                                        color_mode=\"grayscale\",\n",
    "                                        save_to_dir='./handgestures/Augmented',\n",
    "                                        save_prefix='aug',\n",
    "                                        save_format='jpg'.format(str(uuid.uuid1))):\n",
    "    \n",
    "    i += 1\n",
    "    if i > 31:\n",
    "        break"
   ]
  },
  {
   "cell_type": "code",
   "execution_count": null,
   "metadata": {},
   "outputs": [],
   "source": []
  }
 ],
 "metadata": {
  "kernelspec": {
   "display_name": "Python 3",
   "language": "python",
   "name": "python3"
  },
  "language_info": {
   "codemirror_mode": {
    "name": "ipython",
    "version": 3
   },
   "file_extension": ".py",
   "mimetype": "text/x-python",
   "name": "python",
   "nbconvert_exporter": "python",
   "pygments_lexer": "ipython3",
   "version": "3.8.10"
  }
 },
 "nbformat": 4,
 "nbformat_minor": 4
}
