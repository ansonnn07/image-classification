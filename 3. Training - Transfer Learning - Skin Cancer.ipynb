{
 "cells": [
  {
   "cell_type": "markdown",
   "id": "8683a732-5338-41d3-9d80-32bfb762c5e5",
   "metadata": {},
   "source": [
    "In this notebook, we will use another dataset from Kaggle, the skin cancer dataset of malignant VS benign ([Kaggle link](https://www.kaggle.com/fanconic/skin-cancer-malignant-vs-benign)) as another use case when using a larger curated dataset. This data was obtained from the International Skin Imaging Collaboration (ISIC) organization.\n",
    "\n",
    "In this notebook, we will use transfer learning, i.e. to make use of models that have been trained on larger and more general datasets (usually the [ImageNet](https://www.image-net.org/about.php) dataset). We use these **pre-trained models** as our foundation and fine-tune it for our custom task. This usually works very well because the models have already learnt to distinguish a lot of different features about our world, so we just train it to focus on our specific task. \n",
    "\n",
    "Transfer learning also makes training much faster and usually result in better performance compared to building and training our own model from scratch. Therefore, in most cases, transfer learning is preferred."
   ]
  },
  {
   "cell_type": "code",
   "execution_count": 1,
   "id": "7eeed029-66bf-4aba-9e2d-c44cf0a19203",
   "metadata": {},
   "outputs": [],
   "source": [
    "import matplotlib.pyplot as plt\n",
    "import numpy as np\n",
    "import os\n",
    "import time\n",
    "\n",
    "# most import image processing library, OpenCV as cv2\n",
    "import cv2\n",
    "from imutils.paths import list_images\n",
    "\n",
    "import tensorflow as tf\n",
    "from tensorflow import keras\n",
    "from tensorflow.keras import layers\n",
    "from tensorflow.keras.applications import ResNet50\n",
    "from tensorflow.keras.optimizers import Adam"
   ]
  },
  {
   "cell_type": "code",
   "execution_count": 2,
   "id": "459c3b2d-23de-4287-801a-b8cc9f5eb90f",
   "metadata": {},
   "outputs": [
    {
     "data": {
      "text/plain": [
       "[PhysicalDevice(name='/physical_device:GPU:0', device_type='GPU')]"
      ]
     },
     "execution_count": 2,
     "metadata": {},
     "output_type": "execute_result"
    }
   ],
   "source": [
    "# check whether have access to GPU\n",
    "tf.config.list_physical_devices('GPU')"
   ]
  },
  {
   "cell_type": "markdown",
   "id": "85be4776-f896-4dcd-99dc-6428c89d3be6",
   "metadata": {},
   "source": [
    "# Setup config"
   ]
  },
  {
   "cell_type": "markdown",
   "id": "6abe0bc8-db65-43f1-8d7f-5c94a75f7fbe",
   "metadata": {},
   "source": [
    "Almost the same config with the previous \"Training - Sign Language\" notebook, except for the directories to the training set and testing set, as well as CLASS_NAMES."
   ]
  },
  {
   "cell_type": "code",
   "execution_count": 3,
   "id": "b15df12d-77d8-466d-8bb5-279bb61e8e59",
   "metadata": {
    "tags": []
   },
   "outputs": [],
   "source": [
    "# File directory to the training folder.\n",
    "# Follow the config setup in the image collection notebook, or your own folder,\n",
    "# consisting of one \"training\" folder, one \"validation\" folder, and one \"testing\" folder\n",
    "DATASET_DIR = \"dataset\"\n",
    "\n",
    "# Setup training and testing paths\n",
    "# These paths should be changed accordingly\n",
    "TRAIN_PATH = os.path.join(DATASET_DIR, \"skin-cancer-kaggle\", \"train\")\n",
    "TEST_PATH = os.path.join(DATASET_DIR, \"skin-cancer-kaggle\", \"test\")\n",
    "\n",
    "# Path to model's related components\n",
    "OUTPUTS_PATH = \"outputs\"\n",
    "if not os.path.exists(OUTPUTS_PATH):\n",
    "    os.makedirs(OUTPUTS_PATH)\n",
    "\n",
    "# \"belign\" VS \"malignant\", but not sure about the order yet\n",
    "CLASS_NAMES = [\"TO BE DEFINED IN train_ds later\"]"
   ]
  },
  {
   "cell_type": "markdown",
   "id": "0bf352ca-9321-4f59-be3b-2af96b4c5ddd",
   "metadata": {
    "tags": []
   },
   "source": [
    "## Training Config"
   ]
  },
  {
   "cell_type": "code",
   "execution_count": 4,
   "id": "4824c680-61cc-4ba1-aa64-00564e3b90e8",
   "metadata": {},
   "outputs": [],
   "source": [
    "# initialize the initial learning rate, batch size, and number of\n",
    "# epochs to train for\n",
    "INIT_LR = 1e-4\n",
    "BATCH_SIZE = 32 # Number of training examples used in one iteration of training\n",
    "NUM_EPOCHS = 10\n",
    "\n",
    "# NOTE: 224x224 is the original size of the images\n",
    "IMG_HEIGHT = 224 # height of image to resize to\n",
    "IMG_WIDTH = 224 # width of image to resize to"
   ]
  },
  {
   "cell_type": "code",
   "execution_count": 5,
   "id": "269fde67-93a8-4f79-963c-fe4746941c67",
   "metadata": {},
   "outputs": [],
   "source": [
    "from datetime import datetime\n",
    "# define the path to the serialized output model after training\n",
    "# you may change the filename to your preferred name\n",
    "MODEL_PATH = os.path.join(OUTPUTS_PATH, f\"skin_cancer_classifier-{datetime.today().date()}.model\")\n",
    "\n",
    "# path to save the classification report of accuracy, precision etc.\n",
    "CLASSIF_REPORT_PATH = os.path.join(OUTPUTS_PATH, \"classification_report.txt\")\n",
    "\n",
    "# path to output loss/accuracy plot\n",
    "PLOT_PATH = os.path.join(OUTPUTS_PATH, \"plot.png\")"
   ]
  },
  {
   "cell_type": "markdown",
   "id": "aed1b310-6e64-4e80-a2bb-a19eb7151a09",
   "metadata": {},
   "source": [
    "# Inspecting dataset"
   ]
  },
  {
   "cell_type": "code",
   "execution_count": 43,
   "id": "2de870f6-d407-474b-bab7-bb5afb2639ac",
   "metadata": {},
   "outputs": [
    {
     "name": "stdout",
     "output_type": "stream",
     "text": [
      "Train set | benign = 1440\n",
      "Train set | malignant = 1197\n",
      "\n",
      "Test set | benign = 360\n",
      "Test set | malignant = 300\n",
      "\n",
      "Total benign images = 1800\n",
      "Total malignant images = 1497\n"
     ]
    }
   ],
   "source": [
    "from imutils.paths import list_images\n",
    "\n",
    "benign_train = len(list(list_images(os.path.join(TRAIN_PATH, 'benign'))))\n",
    "benign_test = len(list(list_images(os.path.join(TEST_PATH, 'benign'))))\n",
    "benign_images = benign_train + benign_test\n",
    "\n",
    "malignant_train = len(list(list_images(os.path.join(TRAIN_PATH, 'malignant'))))\n",
    "malignant_test = len(list(list_images(os.path.join(TEST_PATH, 'malignant'))))\n",
    "malignant_images = malignant_train + malignant_test\n",
    "\n",
    "print(f\"Train set | benign = {benign_train}\")\n",
    "print(f\"Train set | malignant = {malignant_train}\")\n",
    "\n",
    "print(f\"\\nTest set | benign = {benign_test}\")\n",
    "print(f\"Test set | malignant = {malignant_test}\")\n",
    "\n",
    "print(f\"\\nTotal benign images = {benign_images}\")\n",
    "print(f\"Total malignant images = {malignant_images}\")"
   ]
  },
  {
   "cell_type": "code",
   "execution_count": 8,
   "id": "92254e3b-316c-493d-b3a9-04f91081ae2d",
   "metadata": {},
   "outputs": [
    {
     "name": "stdout",
     "output_type": "stream",
     "text": [
      "Original shape = (224, 224, 3)\n",
      "Resized shape = (50, 50, 3)\n"
     ]
    },
    {
     "data": {
      "image/png": "[encoded data removed]",
      "text/plain": [
       "<Figure size 200x200 with 1 Axes>"
      ]
     },
     "metadata": {},
     "output_type": "display_data"
    }
   ],
   "source": [
    "## Showing a randomly selected resized image\n",
    "import random\n",
    "\n",
    "# resize the image to smaller to not take up too much space\n",
    "IMG_SIZE = 50\n",
    "# randomly select 1 image from train set\n",
    "img_path = random.choice(list(list_images(TRAIN_PATH)))\n",
    "# take the class label from the folder name of the image\n",
    "label = img_path.split(os.path.sep)[-2]\n",
    "\n",
    "img = cv2.imread(img_path)\n",
    "print(f\"Original shape = {img.shape}\")\n",
    "\n",
    "# convert to RGB color because OpenCV still uses BGR color\n",
    "img = cv2.cvtColor(img, cv2.COLOR_BGR2RGB)\n",
    "resized_img = cv2.resize(img, (IMG_SIZE, IMG_SIZE))\n",
    "print(f\"Resized shape = {resized_img.shape}\")\n",
    "\n",
    "plt.figure(figsize=(2, 2))\n",
    "plt.title(label)\n",
    "plt.imshow(resized_img)\n",
    "plt.show()"
   ]
  },
  {
   "cell_type": "markdown",
   "id": "95d2fc37-02a1-4235-8b2d-738a0e7561e9",
   "metadata": {
    "tags": []
   },
   "source": [
    "# Loading data using the Second Method from Training Notebook"
   ]
  },
  {
   "cell_type": "markdown",
   "id": "a6369ee7-d8d5-48bb-afab-4f3d86226110",
   "metadata": {},
   "source": [
    "Because there is no third split provided in the original dataset, we will split 20% of the given train data into validation set."
   ]
  },
  {
   "cell_type": "code",
   "execution_count": 21,
   "id": "1c97fb8b-279c-45bf-9c62-69afb1819a7d",
   "metadata": {},
   "outputs": [
    {
     "name": "stdout",
     "output_type": "stream",
     "text": [
      "Found 2637 files belonging to 2 classes.\n",
      "Using 2110 files for training.\n"
     ]
    }
   ],
   "source": [
    "train_ds = tf.keras.preprocessing.image_dataset_from_directory(\n",
    "    TRAIN_PATH,\n",
    "    shuffle=True,\n",
    "    # 20% is used for validation set, defined in val_ds later\n",
    "    validation_split=0.2,\n",
    "    subset=\"training\",\n",
    "    seed=42, # a random seed, same seed is used to replicate same results\n",
    "    image_size=(IMG_HEIGHT, IMG_WIDTH),\n",
    "    batch_size=BATCH_SIZE\n",
    ")"
   ]
  },
  {
   "cell_type": "code",
   "execution_count": 22,
   "id": "33785c9f-d4c0-4616-a115-9e8fe60e143b",
   "metadata": {},
   "outputs": [
    {
     "data": {
      "text/plain": [
       "['benign', 'malignant']"
      ]
     },
     "execution_count": 22,
     "metadata": {},
     "output_type": "execute_result"
    }
   ],
   "source": [
    "CLASS_NAMES = train_ds.class_names\n",
    "CLASS_NAMES"
   ]
  },
  {
   "cell_type": "code",
   "execution_count": 23,
   "id": "df9f62db-164b-42fc-b316-d39e58b8a7bb",
   "metadata": {},
   "outputs": [
    {
     "data": {
      "text/plain": [
       "2110"
      ]
     },
     "execution_count": 23,
     "metadata": {},
     "output_type": "execute_result"
    }
   ],
   "source": [
    "total_train = len(train_ds.file_paths)\n",
    "total_train"
   ]
  },
  {
   "cell_type": "markdown",
   "id": "7f861c08-7050-4bcf-8b4a-249f6693ec53",
   "metadata": {},
   "source": [
    "This validation dataset `val_ds` will take the remaining data (not used for training) from `TRAIN_PATH` to use for validation, this is done by setting the same `validation_split` as we defined for `train_ds`, but a different `subset` as the parameters."
   ]
  },
  {
   "cell_type": "code",
   "execution_count": 24,
   "id": "c3cb3331-91a1-47fe-bd1d-c73a025e1061",
   "metadata": {},
   "outputs": [
    {
     "name": "stdout",
     "output_type": "stream",
     "text": [
      "Found 2637 files belonging to 2 classes.\n",
      "Using 527 files for validation.\n"
     ]
    }
   ],
   "source": [
    "val_ds = tf.keras.preprocessing.image_dataset_from_directory(\n",
    "    TRAIN_PATH,\n",
    "    shuffle=False,\n",
    "    validation_split=0.2,\n",
    "    subset=\"validation\",\n",
    "    seed=42,\n",
    "    image_size=(IMG_HEIGHT, IMG_WIDTH),\n",
    "    batch_size=BATCH_SIZE\n",
    ")"
   ]
  },
  {
   "cell_type": "code",
   "execution_count": 25,
   "id": "f72e87c4-9819-429c-a286-8dc439e9625e",
   "metadata": {},
   "outputs": [
    {
     "data": {
      "text/plain": [
       "527"
      ]
     },
     "execution_count": 25,
     "metadata": {},
     "output_type": "execute_result"
    }
   ],
   "source": [
    "total_val = len(val_ds.file_paths)\n",
    "total_val"
   ]
  },
  {
   "cell_type": "code",
   "execution_count": 26,
   "id": "4b9a1db9-3db5-4882-b54f-fa0574cc3e8e",
   "metadata": {},
   "outputs": [
    {
     "name": "stdout",
     "output_type": "stream",
     "text": [
      "Found 660 files belonging to 2 classes.\n"
     ]
    }
   ],
   "source": [
    "test_ds = tf.keras.preprocessing.image_dataset_from_directory(\n",
    "    TEST_PATH,\n",
    "    shuffle=False,\n",
    "    seed=42,\n",
    "    image_size=(IMG_HEIGHT, IMG_WIDTH),\n",
    "    batch_size=BATCH_SIZE\n",
    ")"
   ]
  },
  {
   "cell_type": "code",
   "execution_count": 27,
   "id": "10884daf-7a81-4705-98c9-f999d41a2880",
   "metadata": {},
   "outputs": [
    {
     "data": {
      "text/plain": [
       "660"
      ]
     },
     "execution_count": 27,
     "metadata": {},
     "output_type": "execute_result"
    }
   ],
   "source": [
    "total_test = len(test_ds.file_paths)\n",
    "total_test"
   ]
  },
  {
   "cell_type": "code",
   "execution_count": 28,
   "id": "eb426646-0c38-4a28-94b8-1ff357feb769",
   "metadata": {},
   "outputs": [],
   "source": [
    "## Optimize for performance, just like the previous notebook\n",
    "\n",
    "AUTOTUNE = tf.data.AUTOTUNE\n",
    "train_ds = (train_ds\n",
    "            .shuffle(BATCH_SIZE * 100)\n",
    "            .cache()\n",
    "            .prefetch(AUTOTUNE)\n",
    ")\n",
    "val_ds = (val_ds\n",
    "           # no shuffle\n",
    "           .cache()\n",
    "           .prefetch(AUTOTUNE)\n",
    ")\n",
    "test_ds = (test_ds\n",
    "           # no shuffle\n",
    "           .cache()\n",
    "           .prefetch(AUTOTUNE)\n",
    ")"
   ]
  },
  {
   "cell_type": "markdown",
   "id": "968b9605-3871-4ed1-9b56-6b89e5e1d323",
   "metadata": {},
   "source": [
    "# Preparing Pre-trained model for Transfer Learning"
   ]
  },
  {
   "cell_type": "markdown",
   "id": "2e6eef00-d640-4bcc-bf62-d14f54d916a6",
   "metadata": {},
   "source": [
    "We will use a ResNet50 (Residual Network with 50 layers) model as our pre-trained model, you may use any pre-trained models available in the Keras Applications module that can be referred [here](https://www.tensorflow.org/api_docs/python/tf/keras/applications).\n",
    "\n",
    "You can also read more about ResNet from a [blogpost here](https://www.mygreatlearning.com/blog/resnet/), or refer to the [official published paper](https://arxiv.org/abs/1512.03385).\n",
    "\n",
    "For this model, we are using the Keras Functional API to build the model layers, where each layer is built in a way that's similar to calling a function, as opposed to the Sequential API that we have been using in the previous notebook."
   ]
  },
  {
   "cell_type": "code",
   "execution_count": 17,
   "id": "dd305685-519f-40d7-8bfb-7cf483e8fd31",
   "metadata": {},
   "outputs": [
    {
     "name": "stdout",
     "output_type": "stream",
     "text": [
      "[INFO] preparing model...\n"
     ]
    }
   ],
   "source": [
    "# load the ResNet-50 network, ensuring the head fully connected (FC) layer sets are left\n",
    "# off so that we only take the important layers from the network\n",
    "print(\"[INFO] preparing model...\")\n",
    "baseModel = ResNet50(\n",
    "    weights=\"imagenet\", include_top=False, input_tensor=keras.Input(shape=(224, 224, 3))\n",
    ")"
   ]
  },
  {
   "cell_type": "code",
   "execution_count": 18,
   "id": "42d63278-e855-4636-bdb1-0f71115b450c",
   "metadata": {},
   "outputs": [],
   "source": [
    "# construct the head of the model that will be placed on top of the\n",
    "# the base model\n",
    "headModel = baseModel.output\n",
    "# then add extra layers to suit our choice\n",
    "headModel = layers.AveragePooling2D(pool_size=(7, 7))(headModel)\n",
    "headModel = layers.Flatten(name=\"flatten\")(headModel)\n",
    "headModel = layers.Dense(256, activation=\"relu\")(headModel)\n",
    "headModel = layers.Dropout(0.5)(headModel)\n",
    "# the last layer is the most important to ensure the model outputs\n",
    "#  the result that we want\n",
    "headModel = layers.Dense(len(CLASS_NAMES), activation=\"softmax\")(headModel)\n",
    "\n",
    "# place the head FC model on top of the base model (this will become\n",
    "# the actual model we will train)\n",
    "model = keras.Model(inputs=baseModel.input, outputs=headModel)"
   ]
  },
  {
   "cell_type": "code",
   "execution_count": 19,
   "id": "35af8617-8873-4f9d-93bb-72e0160e1e38",
   "metadata": {},
   "outputs": [],
   "source": [
    "# loop over all layers in the base model and freeze them so they will\n",
    "# *not* be updated during the training process. This is the common process\n",
    "# of transfer learning to make sure not to destroy the weights in the original\n",
    "# pre-trained model, you may choose to unfreeze all of them later to further fine-tune\n",
    "# to your custom dataset if you wish, but it is not certain whether there will be improvement\n",
    "# until you have tried it\n",
    "for layer in baseModel.layers:\n",
    "    layer.trainable = False\n",
    "\n",
    "# compile the model, setting a decay rate for our learning rate to \n",
    "# slowly go down during the training to improve efficiency. This is\n",
    "# one way to control the updates of the model weights\n",
    "opt = Adam(learning_rate=INIT_LR, decay=INIT_LR / NUM_EPOCHS)\n",
    "model.compile(loss=\"sparse_categorical_crossentropy\", optimizer=opt, metrics=[\"accuracy\"])"
   ]
  },
  {
   "cell_type": "markdown",
   "id": "3bf319c3-b856-490b-a93a-7d714f0fa7fc",
   "metadata": {},
   "source": [
    "# Training"
   ]
  },
  {
   "cell_type": "code",
   "execution_count": 29,
   "id": "81e81a00-abe4-40f4-8e92-1523f1f4f3b0",
   "metadata": {},
   "outputs": [
    {
     "name": "stdout",
     "output_type": "stream",
     "text": [
      "[INFO] Training model...\n",
      "Epoch 1/10\n",
      "66/66 [==============================] - 21s 240ms/step - loss: 0.6071 - accuracy: 0.7265 - val_loss: 0.3393 - val_accuracy: 0.8235\n",
      "Epoch 2/10\n",
      "66/66 [==============================] - 14s 213ms/step - loss: 0.3929 - accuracy: 0.8166 - val_loss: 0.2515 - val_accuracy: 0.9051\n",
      "Epoch 3/10\n",
      "66/66 [==============================] - 14s 214ms/step - loss: 0.3512 - accuracy: 0.8393 - val_loss: 0.2371 - val_accuracy: 0.9051\n",
      "Epoch 4/10\n",
      "66/66 [==============================] - 14s 207ms/step - loss: 0.3046 - accuracy: 0.8659 - val_loss: 0.2407 - val_accuracy: 0.9051\n",
      "Epoch 5/10\n",
      "66/66 [==============================] - 13s 204ms/step - loss: 0.2882 - accuracy: 0.8583 - val_loss: 0.2183 - val_accuracy: 0.9127\n",
      "Epoch 6/10\n",
      "66/66 [==============================] - 14s 210ms/step - loss: 0.2651 - accuracy: 0.8758 - val_loss: 0.2398 - val_accuracy: 0.9032\n",
      "Epoch 7/10\n",
      "66/66 [==============================] - 14s 209ms/step - loss: 0.2545 - accuracy: 0.8839 - val_loss: 0.2164 - val_accuracy: 0.9070\n",
      "Epoch 8/10\n",
      "66/66 [==============================] - 14s 212ms/step - loss: 0.2330 - accuracy: 0.8919 - val_loss: 0.2071 - val_accuracy: 0.9203\n",
      "Epoch 9/10\n",
      "66/66 [==============================] - 14s 209ms/step - loss: 0.2249 - accuracy: 0.9014 - val_loss: 0.1722 - val_accuracy: 0.9431\n",
      "Epoch 10/10\n",
      "66/66 [==============================] - 14s 206ms/step - loss: 0.2145 - accuracy: 0.9081 - val_loss: 0.1932 - val_accuracy: 0.9298\n",
      "[INFO] Total time: 145.62 s\n"
     ]
    }
   ],
   "source": [
    "# train the model\n",
    "print(\"[INFO] Training model...\")\n",
    "start_time = time.perf_counter()\n",
    "H = model.fit(\n",
    "    train_ds,\n",
    "    validation_data=val_ds,\n",
    "    epochs=NUM_EPOCHS\n",
    ")\n",
    "end_time = time.perf_counter()\n",
    "print(f\"[INFO] Total time: {end_time - start_time:.2f} s\")"
   ]
  },
  {
   "cell_type": "code",
   "execution_count": 30,
   "id": "32f698c6-fab7-4ce8-b1a9-9c483c5c8567",
   "metadata": {},
   "outputs": [
    {
     "name": "stdout",
     "output_type": "stream",
     "text": [
      "[INFO] saving model...\n"
     ]
    },
    {
     "name": "stderr",
     "output_type": "stream",
     "text": [
      "C:\\Users\\user\\anaconda3\\envs\\tfod\\lib\\site-packages\\tensorflow\\python\\keras\\utils\\generic_utils.py:494: CustomMaskWarning: Custom mask layers require a config and must override get_config. When loading, the custom mask layer must be passed to the custom_objects argument.\n",
      "  warnings.warn('Custom mask layers require a config and must override '\n"
     ]
    }
   ],
   "source": [
    "# serialize the model to disk\n",
    "print(\"[INFO] saving model...\")\n",
    "model.save(MODEL_PATH, save_format=\"h5\")"
   ]
  },
  {
   "cell_type": "code",
   "execution_count": 31,
   "id": "c2aaf309-b213-4d2a-baad-3167dda6a201",
   "metadata": {},
   "outputs": [
    {
     "name": "stdout",
     "output_type": "stream",
     "text": [
      "Total epochs: 10\n",
      "Min val_loss: 0.17224 at epoch 9\n",
      "\n"
     ]
    },
    {
     "data": {
      "image/png": "[encoded data removed]",
      "text/plain": [
       "<Figure size 640x480 with 1 Axes>"
      ]
     },
     "metadata": {},
     "output_type": "display_data"
    }
   ],
   "source": [
    "# plot the training and validation results\n",
    "val_loss = H.history[\"val_loss\"]\n",
    "min_val_loss = np.min(val_loss)\n",
    "epoch_min_val_loss = val_loss.index(min_val_loss) + 1\n",
    "total_epochs = len(val_loss)\n",
    "print(f\"Total epochs: {total_epochs}\")\n",
    "print(f\"Min val_loss: {min_val_loss:.5f} at epoch {epoch_min_val_loss}\\n\")\n",
    "\n",
    "N = NUM_EPOCHS\n",
    "plt.style.use(\"ggplot\")\n",
    "plt.xticks(np.arange(1, N + 1))\n",
    "plt.plot(np.arange(1, N + 1), H.history[\"loss\"], label=\"train_loss\")\n",
    "plt.plot(np.arange(1, N + 1), H.history[\"val_loss\"], label=\"val_loss\")\n",
    "plt.plot(np.arange(1, N + 1), H.history[\"accuracy\"], label=\"train_acc\")\n",
    "plt.plot(np.arange(1, N + 1), H.history[\"val_accuracy\"], label=\"val_acc\")\n",
    "plt.title(\"Training Loss and Accuracy on Dataset\")\n",
    "plt.xlabel(\"Epoch #\")\n",
    "plt.ylabel(\"Loss/Accuracy\")\n",
    "plt.legend(loc=\"upper left\")\n",
    "# save the figure\n",
    "plt.savefig(PLOT_PATH)\n",
    "plt.show()"
   ]
  },
  {
   "cell_type": "markdown",
   "id": "41d17f08-c9da-4fa1-b749-195e3d0cf991",
   "metadata": {},
   "source": [
    "# Evaluation"
   ]
  },
  {
   "cell_type": "markdown",
   "id": "49dc27a4-a6c2-43ae-a84c-407045be9672",
   "metadata": {},
   "source": [
    "Similar to our previous notebook."
   ]
  },
  {
   "cell_type": "code",
   "execution_count": 32,
   "id": "bf5a713a-10d7-4416-9b9e-0ab49e386dfa",
   "metadata": {},
   "outputs": [
    {
     "name": "stdout",
     "output_type": "stream",
     "text": [
      "[INFO] Loading model ...\n",
      "[INFO] Done. [1.40 s]\n"
     ]
    }
   ],
   "source": [
    "# Load entire saved model directly\n",
    "start_time = time.perf_counter()\n",
    "print(f\"[INFO] Loading model ...\")\n",
    "model = tf.keras.models.load_model(MODEL_PATH)\n",
    "end_time = time.perf_counter()\n",
    "print(f\"[INFO] Done. [{end_time - start_time:.2f} s]\")"
   ]
  },
  {
   "cell_type": "code",
   "execution_count": 33,
   "id": "dfabbdbc-f04b-4659-873c-6a68816a9b6c",
   "metadata": {},
   "outputs": [
    {
     "name": "stdout",
     "output_type": "stream",
     "text": [
      "17/17 [==============================] - 4s 159ms/step - loss: 0.1932 - accuracy: 0.9298\n",
      "[INFO] Validation Accuracy: 92.98%\n",
      "21/21 [==============================] - 4s 192ms/step - loss: 0.2910 - accuracy: 0.8682\n",
      "[INFO] Testing Accuracy: 86.82%\n"
     ]
    }
   ],
   "source": [
    "# show the accuracy on the validation set\n",
    "(loss, accuracy) = model.evaluate(val_ds)\n",
    "print(\"[INFO] Validation Accuracy: {:.2f}%\".format(accuracy * 100))\n",
    "(loss, accuracy) = model.evaluate(test_ds)\n",
    "print(\"[INFO] Testing Accuracy: {:.2f}%\".format(accuracy * 100))"
   ]
  },
  {
   "cell_type": "code",
   "execution_count": 34,
   "id": "45a05f6d-23bc-49ae-93a5-706720555271",
   "metadata": {},
   "outputs": [
    {
     "name": "stdout",
     "output_type": "stream",
     "text": [
      "Wall time: 3.95 s\n"
     ]
    },
    {
     "data": {
      "text/plain": [
       "(660, 2)"
      ]
     },
     "execution_count": 34,
     "metadata": {},
     "output_type": "execute_result"
    }
   ],
   "source": [
    "%%time\n",
    "preds = model.predict(test_ds)\n",
    "preds.shape"
   ]
  },
  {
   "cell_type": "code",
   "execution_count": 35,
   "id": "246eda0d-7919-40fe-84e0-2952a799fdfd",
   "metadata": {},
   "outputs": [
    {
     "data": {
      "text/plain": [
       "(660,)"
      ]
     },
     "execution_count": 35,
     "metadata": {},
     "output_type": "execute_result"
    }
   ],
   "source": [
    "preds = np.argmax(preds, axis=-1)\n",
    "preds.shape"
   ]
  },
  {
   "cell_type": "code",
   "execution_count": 36,
   "id": "2e6ae1e6-6629-40bc-bf99-b1ad4312dbee",
   "metadata": {},
   "outputs": [
    {
     "data": {
      "text/plain": [
       "(660,)"
      ]
     },
     "execution_count": 36,
     "metadata": {},
     "output_type": "execute_result"
    }
   ],
   "source": [
    "y_true = np.concatenate([y for x, y in test_ds], axis=0)\n",
    "y_true.shape"
   ]
  },
  {
   "cell_type": "code",
   "execution_count": 37,
   "id": "9ebb44d1-254c-4122-acf8-becd54d36742",
   "metadata": {},
   "outputs": [
    {
     "name": "stdout",
     "output_type": "stream",
     "text": [
      "              precision    recall  f1-score   support\n",
      "\n",
      "      benign       0.89      0.86      0.88       360\n",
      "   malignant       0.84      0.87      0.86       300\n",
      "\n",
      "    accuracy                           0.87       660\n",
      "   macro avg       0.87      0.87      0.87       660\n",
      "weighted avg       0.87      0.87      0.87       660\n",
      "\n"
     ]
    }
   ],
   "source": [
    "from sklearn.metrics import classification_report\n",
    "\n",
    "# show a nicely formatted classification report\n",
    "classif_report = classification_report(\n",
    "    y_true, preds, target_names=CLASS_NAMES\n",
    ")\n",
    "print(classif_report)\n",
    "with open(CLASSIF_REPORT_PATH, \"w\") as f:\n",
    "    f.write(classif_report)"
   ]
  },
  {
   "cell_type": "code",
   "execution_count": 44,
   "id": "bc439bc7-0dd9-4eb1-9200-907e89acb51e",
   "metadata": {},
   "outputs": [
    {
     "data": {
      "text/plain": [
       "660"
      ]
     },
     "execution_count": 44,
     "metadata": {},
     "output_type": "execute_result"
    }
   ],
   "source": [
    "np.sum(cm)"
   ]
  },
  {
   "cell_type": "code",
   "execution_count": 51,
   "id": "520f6edd-134f-411c-8944-5350fa326cba",
   "metadata": {},
   "outputs": [
    {
     "data": {
      "image/png": "[encoded data removed]",
      "text/plain": [
       "<Figure size 300x300 with 1 Axes>"
      ]
     },
     "metadata": {},
     "output_type": "display_data"
    }
   ],
   "source": [
    "from sklearn.metrics import confusion_matrix\n",
    "import seaborn as sns\n",
    "\n",
    "cm = confusion_matrix(y_true, preds)\n",
    "\n",
    "fig = plt.figure(figsize=(3, 3))\n",
    "ax = sns.heatmap(\n",
    "    cm,\n",
    "    cmap=\"Blues\",\n",
    "    annot=True,\n",
    "    fmt=\"d\",\n",
    "    cbar=False,\n",
    ")\n",
    "\n",
    "plt.title(\"Confusion Matrix\", size=12, fontfamily=\"serif\")\n",
    "plt.savefig(os.path.join(OUTPUTS_PATH, \"cm_skin_cancer.png\"))\n",
    "plt.ylabel('Actual')\n",
    "plt.xlabel('Predicted')\n",
    "plt.show()"
   ]
  },
  {
   "cell_type": "code",
   "execution_count": null,
   "id": "93fd3541-e571-47c9-b009-824ef94e9175",
   "metadata": {},
   "outputs": [],
   "source": []
  }
 ],
 "metadata": {
  "kernelspec": {
   "display_name": "tfod",
   "language": "python",
   "name": "tfod"
  },
  "language_info": {
   "codemirror_mode": {
    "name": "ipython",
    "version": 3
   },
   "file_extension": ".py",
   "mimetype": "text/x-python",
   "name": "python",
   "nbconvert_exporter": "python",
   "pygments_lexer": "ipython3",
   "version": "3.8.11"
  }
 },
 "nbformat": 4,
 "nbformat_minor": 5
}
