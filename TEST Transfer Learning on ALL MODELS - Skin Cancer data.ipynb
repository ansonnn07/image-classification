{
 "cells": [
  {
   "cell_type": "markdown",
   "id": "8683a732-5338-41d3-9d80-32bfb762c5e5",
   "metadata": {},
   "source": [
    "In this notebook, we will use another dataset from Kaggle, the skin cancer dataset of malignant VS benign ([Kaggle link](https://www.kaggle.com/fanconic/skin-cancer-malignant-vs-benign)) as another use case when using a larger curated dataset. This data was obtained from the International Skin Imaging Collaboration (ISIC) organization.\n",
    "\n",
    "In this notebook, we will use transfer learning, i.e. to make use of models that have been trained on larger and more general datasets (usually the [ImageNet](https://www.image-net.org/about.php) dataset). We use these **pre-trained models** as our foundation and fine-tune it for our custom task. This usually works very well because the models have already learnt to distinguish a lot of different features about our world, so we just train it to focus on our specific task. \n",
    "\n",
    "Transfer learning also makes training much faster and usually result in better performance compared to building and training our own model from scratch. Therefore, in most cases, transfer learning is preferred."
   ]
  },
  {
   "cell_type": "code",
   "execution_count": 1,
   "id": "7eeed029-66bf-4aba-9e2d-c44cf0a19203",
   "metadata": {},
   "outputs": [],
   "source": [
    "import matplotlib.pyplot as plt\n",
    "import numpy as np\n",
    "import os\n",
    "import time\n",
    "\n",
    "# most import image processing library, OpenCV as cv2\n",
    "import cv2\n",
    "from imutils.paths import list_images\n",
    "\n",
    "import tensorflow as tf\n",
    "from tensorflow import keras\n",
    "from tensorflow.keras import layers\n",
    "from tensorflow.keras.applications import ResNet50\n",
    "from tensorflow.keras.optimizers import Adam"
   ]
  },
  {
   "cell_type": "code",
   "execution_count": 2,
   "id": "459c3b2d-23de-4287-801a-b8cc9f5eb90f",
   "metadata": {},
   "outputs": [
    {
     "data": {
      "text/plain": [
       "[PhysicalDevice(name='/physical_device:GPU:0', device_type='GPU')]"
      ]
     },
     "execution_count": 2,
     "metadata": {},
     "output_type": "execute_result"
    }
   ],
   "source": [
    "# check whether have access to GPU\n",
    "tf.config.list_physical_devices('GPU')"
   ]
  },
  {
   "cell_type": "markdown",
   "id": "f1dc431d",
   "metadata": {},
   "source": [
    "# Keras Applications preprocess_input and func"
   ]
  },
  {
   "cell_type": "code",
   "execution_count": 3,
   "id": "f4df1a58",
   "metadata": {},
   "outputs": [],
   "source": [
    "# to get the architecture's module name to obtain preprocess_input func\n",
    "arch2module_name = {\n",
    "    \"DenseNet121\": 'densenet',\n",
    "    \"DenseNet169\": 'densenet',\n",
    "    \"DenseNet201\": 'densenet',\n",
    "    \"EfficientNetB0\": 'efficientnet',\n",
    "    \"EfficientNetB1\": 'efficientnet',\n",
    "    \"EfficientNetB2\": 'efficientnet',\n",
    "    \"EfficientNetB3\": 'efficientnet',\n",
    "    \"EfficientNetB4\": 'efficientnet',\n",
    "    \"EfficientNetB5\": 'efficientnet',\n",
    "    \"EfficientNetB6\": 'efficientnet',\n",
    "    \"EfficientNetB7\": 'efficientnet',\n",
    "    \"InceptionResNetV2\": 'inception_resnet_v2',\n",
    "    \"InceptionV3\": 'inception_v3',\n",
    "    \"MobileNet\": 'mobilenet',\n",
    "    \"MobileNetV2\": 'mobilenet_v2',\n",
    "    \"MobileNetV3Large\": 'mobilenet_v3',\n",
    "    \"MobileNetV3Small\": 'mobilenet_v3',\n",
    "    \"NASNetLarge\": 'nasnet',\n",
    "    \"NASNetMobile\": 'nasnet',\n",
    "    \"ResNet101\": 'resnet',\n",
    "    \"ResNet101V2\": 'resnet_v2',\n",
    "    \"ResNet152\": 'resnet',\n",
    "    \"ResNet152V2\": 'resnet_v2',\n",
    "    \"ResNet50\": 'resnet',\n",
    "    \"ResNet50V2\": 'resnet_v2',\n",
    "    \"VGG16\": 'vgg16',\n",
    "    \"VGG19\": 'vgg19',\n",
    "    \"Xception\": 'xception'\n",
    "}"
   ]
  },
  {
   "cell_type": "code",
   "execution_count": 4,
   "id": "50edb5cc",
   "metadata": {},
   "outputs": [
    {
     "data": {
      "text/plain": [
       "<function keras.applications.resnet.ResNet50(include_top=True, weights='imagenet', input_tensor=None, input_shape=None, pooling=None, classes=1000, **kwargs)>"
      ]
     },
     "metadata": {},
     "output_type": "display_data"
    },
    {
     "data": {
      "text/plain": [
       "<function keras.applications.resnet.preprocess_input(x, data_format=None)>"
      ]
     },
     "metadata": {},
     "output_type": "display_data"
    }
   ],
   "source": [
    "from tensorflow.keras import applications\n",
    "from operator import attrgetter\n",
    "\n",
    "def get_model_and_preprocess_func(model_func_name=\"ResNet50\"):\n",
    "    # model_func_name = \"ResNet50\"\n",
    "    model_fn = getattr(applications, model_func_name)\n",
    "\n",
    "    preprocess_module = arch2module_name[model_func_name]\n",
    "    # preprocess_input = getattr(getattr(applications, preprocess_module), \"preprocess_input\")\n",
    "    preprocess_input = attrgetter(f'{preprocess_module}.preprocess_input')(applications)\n",
    "    return model_fn, preprocess_input\n",
    "\n",
    "model_fn, preprocess_input = get_model_and_preprocess_func()\n",
    "display(model_fn, preprocess_input)\n",
    "# del (model_fn, preprocess_input)"
   ]
  },
  {
   "cell_type": "code",
   "execution_count": 5,
   "id": "154ba735",
   "metadata": {},
   "outputs": [
    {
     "data": {
      "text/plain": [
       "0"
      ]
     },
     "execution_count": 5,
     "metadata": {},
     "output_type": "execute_result"
    }
   ],
   "source": [
    "import gc\n",
    "gc.collect()"
   ]
  },
  {
   "cell_type": "markdown",
   "id": "85be4776-f896-4dcd-99dc-6428c89d3be6",
   "metadata": {},
   "source": [
    "# Setup config"
   ]
  },
  {
   "cell_type": "markdown",
   "id": "6abe0bc8-db65-43f1-8d7f-5c94a75f7fbe",
   "metadata": {},
   "source": [
    "Almost the same config with the previous \"Training - Sign Language\" notebook, except for the directories to the training set and testing set, as well as CLASS_NAMES."
   ]
  },
  {
   "cell_type": "code",
   "execution_count": 9,
   "id": "b15df12d-77d8-466d-8bb5-279bb61e8e59",
   "metadata": {
    "tags": []
   },
   "outputs": [],
   "source": [
    "# File directory to the training folder.\n",
    "# Follow the config setup in the image collection notebook, or your own folder,\n",
    "# consisting of one \"training\" folder, one \"validation\" folder, and one \"testing\" folder\n",
    "DATASET_DIR = r\"E:\\Backup from Kuantan\\ANSON\\SHRDC Data\\Image Classification Data\\Kaggle - Skin Cancer - Malignant vs Benign\\skin-cancer-kaggle\"\n",
    "\n",
    "# Setup training and testing paths\n",
    "# These paths should be changed accordingly\n",
    "TRAIN_PATH = os.path.join(DATASET_DIR, \"train\")\n",
    "TEST_PATH = os.path.join(DATASET_DIR, \"test\")\n",
    "\n",
    "# Path to model's related components\n",
    "OUTPUTS_PATH = \"outputs_TEST\"\n",
    "if not os.path.exists(OUTPUTS_PATH):\n",
    "    os.makedirs(OUTPUTS_PATH)\n",
    "\n",
    "# \"belign\" VS \"malignant\", but not sure about the order yet\n",
    "CLASS_NAMES = [\"TO BE DEFINED IN train_ds later\"]"
   ]
  },
  {
   "cell_type": "markdown",
   "id": "0bf352ca-9321-4f59-be3b-2af96b4c5ddd",
   "metadata": {
    "tags": []
   },
   "source": [
    "## Training Config"
   ]
  },
  {
   "cell_type": "code",
   "execution_count": 140,
   "id": "4824c680-61cc-4ba1-aa64-00564e3b90e8",
   "metadata": {},
   "outputs": [],
   "source": [
    "# initialize the initial learning rate, batch size, and number of\n",
    "# epochs to train for\n",
    "INIT_LR = 1e-4\n",
    "BATCH_SIZE = 32 # Number of training examples used in one iteration of training\n",
    "NUM_EPOCHS = 10\n",
    "\n",
    "# NOTE: 224x224 is the original size of the images for most pretrained models\n",
    "IMG_HEIGHT = 224 # height of image to resize to\n",
    "IMG_WIDTH = 224 # width of image to resize to\n",
    "\n",
    "# WAS TESTING 100 x 100 for faster training for ALL MODELS\n",
    "# IMG_HEIGHT = 100 # height of image to resize to\n",
    "# IMG_WIDTH = 100 # width of image to resize to"
   ]
  },
  {
   "cell_type": "code",
   "execution_count": 141,
   "id": "269fde67-93a8-4f79-963c-fe4746941c67",
   "metadata": {},
   "outputs": [],
   "source": [
    "from datetime import datetime\n",
    "# define the path to the serialized output model after training\n",
    "# you may change the filename to your preferred name\n",
    "MODEL_PATH = os.path.join(OUTPUTS_PATH, f\"skin_cancer_classifier-{datetime.today().date()}.model\")\n",
    "\n",
    "# path to save the classification report of accuracy, precision etc.\n",
    "CLASSIF_REPORT_PATH = os.path.join(OUTPUTS_PATH, \"classification_report.txt\")\n",
    "\n",
    "# path to output loss/accuracy plot\n",
    "PLOT_PATH = os.path.join(OUTPUTS_PATH, \"plot.png\")"
   ]
  },
  {
   "cell_type": "markdown",
   "id": "c7f2032c",
   "metadata": {},
   "source": [
    "# Training result visualization function"
   ]
  },
  {
   "cell_type": "code",
   "execution_count": 142,
   "id": "50b6d6c5",
   "metadata": {},
   "outputs": [],
   "source": [
    "def plot_train_res(history):\n",
    "    val_loss = history.history[\"val_loss\"]\n",
    "    min_val_loss = np.min(val_loss)\n",
    "    epoch_min_val_loss = val_loss.index(min_val_loss) + 1\n",
    "    total_epochs = len(val_loss)\n",
    "    print(f\"Total epochs: {total_epochs}\")\n",
    "    print(f\"Min val_loss: {min_val_loss:.5f} at epoch {epoch_min_val_loss}\\n\")\n",
    "\n",
    "    N = NUM_EPOCHS\n",
    "    xticks = np.arange(1, N + 1)\n",
    "    plt.style.use(\"ggplot\")\n",
    "    plt.figure(figsize=(12, 8))\n",
    "    plt.xticks(xticks)\n",
    "    plt.plot(xticks, history.history[\"loss\"], label=\"train_loss\")\n",
    "    plt.plot(xticks, history.history[\"val_loss\"], label=\"val_loss\")\n",
    "    plt.plot(xticks, history.history[\"accuracy\"], label=\"train_acc\")\n",
    "    plt.plot(xticks, history.history[\"val_accuracy\"], label=\"val_acc\")\n",
    "    plt.title(\"Training Loss and Accuracy on Dataset\")\n",
    "    plt.xlabel(\"Epoch #\")\n",
    "    plt.ylabel(\"Loss/Accuracy\")\n",
    "    plt.legend(loc=\"upper right\")\n",
    "    # save the figure\n",
    "    plt.savefig(PLOT_PATH)\n",
    "    plt.show()"
   ]
  },
  {
   "cell_type": "markdown",
   "id": "aed1b310-6e64-4e80-a2bb-a19eb7151a09",
   "metadata": {},
   "source": [
    "# Inspecting dataset"
   ]
  },
  {
   "cell_type": "code",
   "execution_count": 143,
   "id": "2de870f6-d407-474b-bab7-bb5afb2639ac",
   "metadata": {},
   "outputs": [
    {
     "name": "stdout",
     "output_type": "stream",
     "text": [
      "Train set | benign = 1440\n",
      "Train set | malignant = 1197\n",
      "\n",
      "Test set | benign = 360\n",
      "Test set | malignant = 300\n",
      "\n",
      "Total benign images = 1800\n",
      "Total malignant images = 1497\n"
     ]
    }
   ],
   "source": [
    "from imutils.paths import list_images\n",
    "\n",
    "benign_train = len(list(list_images(os.path.join(TRAIN_PATH, 'benign'))))\n",
    "benign_test = len(list(list_images(os.path.join(TEST_PATH, 'benign'))))\n",
    "benign_images = benign_train + benign_test\n",
    "\n",
    "malignant_train = len(list(list_images(os.path.join(TRAIN_PATH, 'malignant'))))\n",
    "malignant_test = len(list(list_images(os.path.join(TEST_PATH, 'malignant'))))\n",
    "malignant_images = malignant_train + malignant_test\n",
    "\n",
    "print(f\"Train set | benign = {benign_train}\")\n",
    "print(f\"Train set | malignant = {malignant_train}\")\n",
    "\n",
    "print(f\"\\nTest set | benign = {benign_test}\")\n",
    "print(f\"Test set | malignant = {malignant_test}\")\n",
    "\n",
    "print(f\"\\nTotal benign images = {benign_images}\")\n",
    "print(f\"Total malignant images = {malignant_images}\")"
   ]
  },
  {
   "cell_type": "code",
   "execution_count": 150,
   "id": "92254e3b-316c-493d-b3a9-04f91081ae2d",
   "metadata": {},
   "outputs": [
    {
     "name": "stdout",
     "output_type": "stream",
     "text": [
      "Original shape = (224, 224, 3)\n",
      "Resized shape = (50, 50, 3)\n"
     ]
    },
    {
     "data": {
      "image/png": "[encoded data removed]",
      "text/plain": [
       "<Figure size 144x144 with 1 Axes>"
      ]
     },
     "metadata": {},
     "output_type": "display_data"
    }
   ],
   "source": [
    "## Showing a randomly selected resized image\n",
    "import random\n",
    "\n",
    "# resize the image to smaller to not take up too much space\n",
    "IMG_SIZE = 50\n",
    "# randomly select 1 image from train set\n",
    "img_path = random.choice(list(list_images(TRAIN_PATH)))\n",
    "# take the class label from the folder name of the image\n",
    "label = img_path.split(os.path.sep)[-2]\n",
    "\n",
    "img = cv2.imread(img_path)\n",
    "print(f\"Original shape = {img.shape}\")\n",
    "\n",
    "# convert to RGB color because OpenCV still uses BGR color\n",
    "img = cv2.cvtColor(img, cv2.COLOR_BGR2RGB)\n",
    "resized_img = cv2.resize(img, (IMG_SIZE, IMG_SIZE))\n",
    "print(f\"Resized shape = {resized_img.shape}\")\n",
    "\n",
    "plt.figure(figsize=(2, 2))\n",
    "plt.title(label)\n",
    "plt.grid(False)\n",
    "plt.imshow(resized_img)\n",
    "plt.show()"
   ]
  },
  {
   "cell_type": "markdown",
   "id": "95d2fc37-02a1-4235-8b2d-738a0e7561e9",
   "metadata": {
    "tags": []
   },
   "source": [
    "# Loading data using the Second Method from Training Notebook"
   ]
  },
  {
   "cell_type": "markdown",
   "id": "a6369ee7-d8d5-48bb-afab-4f3d86226110",
   "metadata": {},
   "source": [
    "Because there is no third split provided in the original dataset, we will split 20% of the given train data into validation set."
   ]
  },
  {
   "cell_type": "code",
   "execution_count": 151,
   "id": "1c97fb8b-279c-45bf-9c62-69afb1819a7d",
   "metadata": {},
   "outputs": [
    {
     "name": "stdout",
     "output_type": "stream",
     "text": [
      "Found 2637 files belonging to 2 classes.\n",
      "Using 2110 files for training.\n"
     ]
    }
   ],
   "source": [
    "train_ds = tf.keras.preprocessing.image_dataset_from_directory(\n",
    "    TRAIN_PATH,\n",
    "    shuffle=True,\n",
    "    # 20% is used for validation set, defined in val_ds later\n",
    "    validation_split=0.2,\n",
    "    subset=\"training\",\n",
    "    seed=42, # a random seed, same seed is used to replicate same results\n",
    "    image_size=(IMG_HEIGHT, IMG_WIDTH),\n",
    "    batch_size=BATCH_SIZE,\n",
    "    # DEFAULT MODE IS \"int\", which is integer label encoder\n",
    "    # whiel 'categorical' is one-hot encoder\n",
    "    label_mode='categorical'\n",
    ")"
   ]
  },
  {
   "cell_type": "code",
   "execution_count": 152,
   "id": "33785c9f-d4c0-4616-a115-9e8fe60e143b",
   "metadata": {},
   "outputs": [
    {
     "data": {
      "text/plain": [
       "['benign', 'malignant']"
      ]
     },
     "execution_count": 152,
     "metadata": {},
     "output_type": "execute_result"
    }
   ],
   "source": [
    "CLASS_NAMES = train_ds.class_names\n",
    "CLASS_NAMES"
   ]
  },
  {
   "cell_type": "code",
   "execution_count": 153,
   "id": "df9f62db-164b-42fc-b316-d39e58b8a7bb",
   "metadata": {},
   "outputs": [
    {
     "data": {
      "text/plain": [
       "2110"
      ]
     },
     "execution_count": 153,
     "metadata": {},
     "output_type": "execute_result"
    }
   ],
   "source": [
    "total_train = len(train_ds.file_paths)\n",
    "total_train"
   ]
  },
  {
   "cell_type": "markdown",
   "id": "7f861c08-7050-4bcf-8b4a-249f6693ec53",
   "metadata": {},
   "source": [
    "This validation dataset `val_ds` will take the remaining data (not used for training) from `TRAIN_PATH` to use for validation, this is done by setting the same `validation_split` as we defined for `train_ds`, but a different `subset` as the parameters."
   ]
  },
  {
   "cell_type": "code",
   "execution_count": 154,
   "id": "c3cb3331-91a1-47fe-bd1d-c73a025e1061",
   "metadata": {},
   "outputs": [
    {
     "name": "stdout",
     "output_type": "stream",
     "text": [
      "Found 2637 files belonging to 2 classes.\n",
      "Using 527 files for validation.\n"
     ]
    }
   ],
   "source": [
    "val_ds = tf.keras.preprocessing.image_dataset_from_directory(\n",
    "    TRAIN_PATH,\n",
    "    shuffle=False,\n",
    "    seed=42,\n",
    "    validation_split=0.2,\n",
    "    subset=\"validation\",\n",
    "    image_size=(IMG_HEIGHT, IMG_WIDTH),\n",
    "    batch_size=BATCH_SIZE,\n",
    "    label_mode='categorical'\n",
    ")"
   ]
  },
  {
   "cell_type": "code",
   "execution_count": 155,
   "id": "f72e87c4-9819-429c-a286-8dc439e9625e",
   "metadata": {},
   "outputs": [
    {
     "data": {
      "text/plain": [
       "527"
      ]
     },
     "execution_count": 155,
     "metadata": {},
     "output_type": "execute_result"
    }
   ],
   "source": [
    "total_val = len(val_ds.file_paths)\n",
    "total_val"
   ]
  },
  {
   "cell_type": "code",
   "execution_count": 156,
   "id": "4b9a1db9-3db5-4882-b54f-fa0574cc3e8e",
   "metadata": {},
   "outputs": [
    {
     "name": "stdout",
     "output_type": "stream",
     "text": [
      "Found 660 files belonging to 2 classes.\n"
     ]
    }
   ],
   "source": [
    "test_ds = tf.keras.preprocessing.image_dataset_from_directory(\n",
    "    TEST_PATH,\n",
    "    shuffle=False,\n",
    "    image_size=(IMG_HEIGHT, IMG_WIDTH),\n",
    "    batch_size=BATCH_SIZE,\n",
    "    label_mode='categorical'\n",
    ")"
   ]
  },
  {
   "cell_type": "code",
   "execution_count": 157,
   "id": "10884daf-7a81-4705-98c9-f999d41a2880",
   "metadata": {},
   "outputs": [
    {
     "data": {
      "text/plain": [
       "660"
      ]
     },
     "execution_count": 157,
     "metadata": {},
     "output_type": "execute_result"
    }
   ],
   "source": [
    "total_test = len(test_ds.file_paths)\n",
    "total_test"
   ]
  },
  {
   "cell_type": "markdown",
   "id": "f1e418e2",
   "metadata": {},
   "source": [
    "# Check loaded data of `image_dataset_from_directory()`"
   ]
  },
  {
   "cell_type": "code",
   "execution_count": 158,
   "id": "b1bf9e70",
   "metadata": {},
   "outputs": [
    {
     "name": "stdout",
     "output_type": "stream",
     "text": [
      "(224, 224, 3)\n",
      "tf.Tensor([1. 0.], shape=(2,), dtype=float32)\n"
     ]
    }
   ],
   "source": [
    "for batch_images, batch_labels in train_ds.take(1):\n",
    "    print(batch_images[0].shape)\n",
    "    print(batch_labels[0])"
   ]
  },
  {
   "cell_type": "markdown",
   "id": "aba46de3",
   "metadata": {},
   "source": [
    "# get_dataset() function"
   ]
  },
  {
   "cell_type": "code",
   "execution_count": 159,
   "id": "eb426646-0c38-4a28-94b8-1ff357feb769",
   "metadata": {},
   "outputs": [
    {
     "data": {
      "text/plain": [
       "66"
      ]
     },
     "execution_count": 159,
     "metadata": {},
     "output_type": "execute_result"
    }
   ],
   "source": [
    "## Optimize for performance, just like the previous notebook\n",
    "from functools import partial\n",
    "\n",
    "def get_dataset(train_ds, val_ds, test_ds, preprocess_fn=None):\n",
    "    def preprocess(image, label, preprocess_fn=preprocess_fn):\n",
    "        image = preprocess_fn(image)\n",
    "        return image, label\n",
    "\n",
    "    # NOTE: TAKING ONLY a few batches for faster training\n",
    "    # NOTE: MUST RUN THE image_dataset_from_directory() again if you want to\n",
    "    #   change this sample_bs size AFTER TRAINING\n",
    "    # sample_bs = 3\n",
    "    AUTOTUNE = tf.data.AUTOTUNE\n",
    "    train_ds = (train_ds\n",
    "                # .take(sample_bs)\n",
    "                .map(preprocess, num_parallel_calls=AUTOTUNE)\n",
    "                .shuffle(BATCH_SIZE * 100)\n",
    "                .cache()\n",
    "                .prefetch(AUTOTUNE)\n",
    "    )\n",
    "    val_ds = (val_ds\n",
    "            # .take(sample_bs)\n",
    "            # no shuffle\n",
    "            .map(preprocess, num_parallel_calls=AUTOTUNE)\n",
    "            .cache()\n",
    "            .prefetch(AUTOTUNE)\n",
    "    )\n",
    "    test_ds = (test_ds\n",
    "            # .take(sample_bs)\n",
    "            # no shuffle\n",
    "            .map(preprocess, num_parallel_calls=AUTOTUNE)\n",
    "            .cache()\n",
    "            .prefetch(AUTOTUNE)\n",
    "    )\n",
    "    return train_ds, val_ds, test_ds\n",
    "\n",
    "get_ds = partial(get_dataset, train_ds=train_ds, val_ds=val_ds, test_ds=test_ds)\n",
    "train, val, test = get_ds(preprocess_fn=preprocess_input)\n",
    "len(train)"
   ]
  },
  {
   "cell_type": "code",
   "execution_count": 160,
   "id": "9f71618a",
   "metadata": {},
   "outputs": [
    {
     "name": "stdout",
     "output_type": "stream",
     "text": [
      "(32, 224, 224, 3)\n",
      "tf.Tensor(\n",
      "[[1. 0.]\n",
      " [0. 1.]\n",
      " [0. 1.]\n",
      " [0. 1.]\n",
      " [1. 0.]\n",
      " [0. 1.]\n",
      " [1. 0.]\n",
      " [1. 0.]\n",
      " [0. 1.]\n",
      " [1. 0.]\n",
      " [1. 0.]\n",
      " [0. 1.]\n",
      " [0. 1.]\n",
      " [1. 0.]\n",
      " [0. 1.]\n",
      " [0. 1.]\n",
      " [0. 1.]\n",
      " [1. 0.]\n",
      " [1. 0.]\n",
      " [1. 0.]\n",
      " [1. 0.]\n",
      " [0. 1.]\n",
      " [1. 0.]\n",
      " [1. 0.]\n",
      " [1. 0.]\n",
      " [0. 1.]\n",
      " [1. 0.]\n",
      " [0. 1.]\n",
      " [1. 0.]\n",
      " [1. 0.]\n",
      " [1. 0.]\n",
      " [0. 1.]], shape=(32, 2), dtype=float32)\n"
     ]
    }
   ],
   "source": [
    "for x, y in train_ds.take(1):\n",
    "    print(x.shape)\n",
    "    print(y)"
   ]
  },
  {
   "cell_type": "markdown",
   "id": "968b9605-3871-4ed1-9b56-6b89e5e1d323",
   "metadata": {},
   "source": [
    "# get_model() function"
   ]
  },
  {
   "cell_type": "markdown",
   "id": "2e6eef00-d640-4bcc-bf62-d14f54d916a6",
   "metadata": {},
   "source": [
    "We will use a ResNet50 (Residual Network with 50 layers) model as our pre-trained model, you may use any pre-trained models available in the Keras Applications module that can be referred [here](https://www.tensorflow.org/api_docs/python/tf/keras/applications).\n",
    "\n",
    "You can also read more about ResNet from a [blogpost here](https://www.mygreatlearning.com/blog/resnet/), or refer to the [official published paper](https://arxiv.org/abs/1512.03385).\n",
    "\n",
    "For this model, we are using the Keras Functional API to build the model layers, where each layer is built in a way that's similar to calling a function, as opposed to the Sequential API that we have been using in the previous notebook."
   ]
  },
  {
   "cell_type": "code",
   "execution_count": 161,
   "id": "dd305685-519f-40d7-8bfb-7cf483e8fd31",
   "metadata": {},
   "outputs": [],
   "source": [
    "def get_model(model_fn):\n",
    "    tf.keras.backend.clear_session()\n",
    "    # load the ResNet-50 network, ensuring the head fully connected (FC) layer sets are left\n",
    "    # off so that we only take the important layers from the network\n",
    "    print(f\"[INFO] preparing model for {model_fn.__name__}...\")\n",
    "\n",
    "    input_shape = (IMG_HEIGHT, IMG_WIDTH, 3)\n",
    "\n",
    "    if 'nasnet' in model_fn.__name__.lower():\n",
    "        # nasnet only supports a specific input_shape for \"imagenet\" weights,\n",
    "        # check NASNetLarge and NASNetMobile docs for details\n",
    "        # https://www.tensorflow.org/api_docs/python/tf/keras/applications/nasnet/NASNetLarge\n",
    "        print(\"Not using imagenet weights\")\n",
    "        weights = None\n",
    "    else:\n",
    "        weights = \"imagenet\"\n",
    "\n",
    "    baseModel = model_fn(\n",
    "        weights=weights, include_top=False, input_shape=input_shape\n",
    "    )\n",
    "\n",
    "    # NOTE: CHECK THIS OUT for BATCHNORM FREEZING https://keras.io/guides/transfer_learning/#finetuning\n",
    "    # OR THIS (same as above) https://www.tensorflow.org/guide/keras/transfer_learning\n",
    "\n",
    "    # loop over all layers in the base model and freeze them so they will\n",
    "    # *not* be updated during the training process. This is the common process\n",
    "    # of transfer learning to make sure not to destroy the weights in the original\n",
    "    # pre-trained model, you may choose to unfreeze all of them later to further fine-tune\n",
    "    # to your custom dataset if you wish, but it is not certain whether there will be improvement\n",
    "    # until you have tried it\n",
    "    baseModel.trainable = False\n",
    "\n",
    "    inputs = keras.Input(shape=input_shape)\n",
    "    # We make sure that the base_model is running in inference mode here,\n",
    "    # by passing `training=False`. This is important for fine-tuning, as you will\n",
    "    # learn in a few paragraphs.\n",
    "    headModel = baseModel(inputs, training=False)\n",
    "\n",
    "    # construct the head of the model that will be placed on top of the\n",
    "    # the base model\n",
    "    # headModel = baseModel.output\n",
    "    \n",
    "    # then add extra layers to suit our choice\n",
    "    error = True\n",
    "    pool_sizes = (7, 5)\n",
    "    for pool_size in pool_sizes:\n",
    "        try:\n",
    "            pooled = layers.AveragePooling2D(pool_size=pool_size)(headModel)\n",
    "        except Exception as e:\n",
    "            msg = e\n",
    "            print(msg)\n",
    "        else:\n",
    "            error = False\n",
    "            print(\n",
    "                f\"[INFO] Using AveragePooling2D with pool_size = {pool_size}\")\n",
    "            headModel = pooled\n",
    "\n",
    "            headModel = layers.Flatten(name=\"flatten\")(headModel)\n",
    "            break\n",
    "    if error:\n",
    "        print(\n",
    "            \"Skipping AveragePooling2D layer due to small layer's input_size\")\n",
    "        print(\"Using GlobalAveragePooling2D layer\")\n",
    "        # GlobalAveragePooling2D does not need a Flatten layer\n",
    "        headModel = layers.GlobalAveragePooling2D()(headModel)\n",
    "\n",
    "    headModel = layers.Dense(256, activation=\"relu\")(headModel)\n",
    "    headModel = layers.Dropout(0.5)(headModel)\n",
    "\n",
    "    # the last layer is the most important to ensure the model outputs\n",
    "    #  the result that we want\n",
    "    headModel = layers.Dense(len(CLASS_NAMES), activation=\"softmax\")(headModel)\n",
    "\n",
    "    # place the head FC model on top of the base model (this will become\n",
    "    # the actual model we will train)\n",
    "    # model = keras.Model(inputs=baseModel.input, outputs=headModel)\n",
    "    model = keras.Model(inputs=inputs, outputs=headModel)\n",
    "\n",
    "    # compile the model, setting a decay rate for our learning rate to \n",
    "    # slowly go down during the training to improve efficiency. This is\n",
    "    # one way to control the updates of the model weights\n",
    "    opt = Adam(learning_rate=INIT_LR, decay=INIT_LR / NUM_EPOCHS)\n",
    "    # use sparse categorical crossentropy (CE) for integer label-encoded vector (`label_mode='int'`)\n",
    "    # model.compile(loss=\"sparse_categorical_crossentropy\", optimizer=opt, metrics=[\"accuracy\"])\n",
    "    # use normal categorical crossentropy (CE) for one-hot encoded vector (`label_mode='categorical'`)\n",
    "    model.compile(loss=\"binary_crossentropy\", optimizer=opt, metrics=[\"accuracy\"])\n",
    "    return model"
   ]
  },
  {
   "cell_type": "code",
   "execution_count": 162,
   "id": "4fe74927",
   "metadata": {},
   "outputs": [
    {
     "name": "stdout",
     "output_type": "stream",
     "text": [
      "[INFO] preparing model for ResNet50...\n",
      "[INFO] Using AveragePooling2D with pool_size = 7\n"
     ]
    },
    {
     "data": {
      "text/plain": [
       "'ResNet50'"
      ]
     },
     "execution_count": 162,
     "metadata": {},
     "output_type": "execute_result"
    }
   ],
   "source": [
    "model_fn, preprocess_input = get_model_and_preprocess_func(\"ResNet50\")\n",
    "model = get_model(model_fn)\n",
    "train_ds, val_ds, test_ds = get_ds(preprocess_fn=preprocess_input)\n",
    "model_fn.__name__"
   ]
  },
  {
   "cell_type": "markdown",
   "id": "3bf319c3-b856-490b-a93a-7d714f0fa7fc",
   "metadata": {},
   "source": [
    "# Training"
   ]
  },
  {
   "cell_type": "markdown",
   "id": "cbbbc82e",
   "metadata": {},
   "source": [
    "## ResNet50"
   ]
  },
  {
   "cell_type": "code",
   "execution_count": 163,
   "id": "81e81a00-abe4-40f4-8e92-1523f1f4f3b0",
   "metadata": {},
   "outputs": [
    {
     "name": "stdout",
     "output_type": "stream",
     "text": [
      "[INFO] Training model...\n",
      "Epoch 1/10\n",
      "66/66 [==============================] - 13s 145ms/step - loss: 0.5983 - accuracy: 0.7246 - val_loss: 0.3473 - val_accuracy: 0.8463\n",
      "Epoch 2/10\n",
      "66/66 [==============================] - 9s 131ms/step - loss: 0.4096 - accuracy: 0.8308 - val_loss: 0.2799 - val_accuracy: 0.8880\n",
      "Epoch 3/10\n",
      "66/66 [==============================] - 9s 132ms/step - loss: 0.3593 - accuracy: 0.8474 - val_loss: 0.2311 - val_accuracy: 0.9089\n",
      "Epoch 4/10\n",
      "66/66 [==============================] - 9s 132ms/step - loss: 0.3277 - accuracy: 0.8573 - val_loss: 0.2083 - val_accuracy: 0.9203\n",
      "Epoch 5/10\n",
      "66/66 [==============================] - 8s 123ms/step - loss: 0.3020 - accuracy: 0.8739 - val_loss: 0.2249 - val_accuracy: 0.9089\n",
      "Epoch 6/10\n",
      "66/66 [==============================] - 8s 119ms/step - loss: 0.2822 - accuracy: 0.8801 - val_loss: 0.1715 - val_accuracy: 0.9317s: 0.2749 - accu - ETA: 3s - loss: 0.2809 -  - ETA: 3s - loss: 0.2944 - accuracy - ETA: 2s - loss: 0.2891 - accuracy - ETA: 2s - loss: 0.2884 - accuracy:  - ETA: 0s - loss: 0.2838 - accuracy: 0.\n",
      "Epoch 7/10\n",
      "66/66 [==============================] - 8s 115ms/step - loss: 0.2611 - accuracy: 0.8872 - val_loss: 0.1846 - val_accuracy: 0.91656 - accuracy: 0.88 - ETA: 1s - loss: 0 - ETA: 0s - loss: 0.2593 - accuracy\n",
      "Epoch 8/10\n",
      "66/66 [==============================] - 8s 115ms/step - loss: 0.2610 - accuracy: 0.8910 - val_loss: 0.1892 - val_accuracy: 0.9165: 0. - ETA: 4s - loss: 0.2595 - accuracy - ETA: 3s - loss: 0.2622 -  - ETA: 3s - loss: 0.2722 - ac - ETA: 2s - loss: 0.2652 - ac\n",
      "Epoch 9/10\n",
      "66/66 [==============================] - 8s 122ms/step - loss: 0.2431 - accuracy: 0.9009 - val_loss: 0.1790 - val_accuracy: 0.9241\n",
      "Epoch 10/10\n",
      "66/66 [==============================] - 8s 120ms/step - loss: 0.2310 - accuracy: 0.9095 - val_loss: 0.1650 - val_accuracy: 0.9317.2313 - accuracy:  - ETA: 1s - loss: 0.2310  - ETA: 0s - loss: 0.2310 - accuracy: \n",
      "[INFO] Total time: 86.44 s\n"
     ]
    }
   ],
   "source": [
    "# NOTE: ORIGINAL without preprocess_input! DO NOT TOUCH THIS! train the model\n",
    "print(\"[INFO] Training model...\")\n",
    "start_time = time.perf_counter()\n",
    "H = model.fit(\n",
    "    train_ds,\n",
    "    validation_data=val_ds,\n",
    "    epochs=NUM_EPOCHS\n",
    ")\n",
    "end_time = time.perf_counter()\n",
    "print(f\"[INFO] Total time: {end_time - start_time:.2f} s\")"
   ]
  },
  {
   "cell_type": "markdown",
   "id": "d928d5ef",
   "metadata": {},
   "source": [
    "## Visualize train results"
   ]
  },
  {
   "cell_type": "code",
   "execution_count": 109,
   "id": "4349f320",
   "metadata": {},
   "outputs": [
    {
     "name": "stdout",
     "output_type": "stream",
     "text": [
      "Total epochs: 15\n",
      "Min val_loss: 0.12903 at epoch 14\n",
      "\n"
     ]
    },
    {
     "data": {
      "image/png": "[encoded data removed]",
      "text/plain": [
       "<Figure size 864x576 with 1 Axes>"
      ]
     },
     "metadata": {},
     "output_type": "display_data"
    }
   ],
   "source": [
    "plot_train_res(H)"
   ]
  },
  {
   "cell_type": "code",
   "execution_count": 34,
   "id": "81e81a00-abe4-40f4-8e92-1523f1f4f3b0",
   "metadata": {},
   "outputs": [
    {
     "name": "stdout",
     "output_type": "stream",
     "text": [
      "[INFO] Training model...\n",
      "Epoch 1/10\n",
      "66/66 [==============================] - 18s 155ms/step - loss: 0.6412 - accuracy: 0.7265 - val_loss: 0.2512 - val_accuracy: 0.8880\n",
      "Epoch 2/10\n",
      "66/66 [==============================] - 8s 127ms/step - loss: 0.4017 - accuracy: 0.8313 - val_loss: 0.2956 - val_accuracy: 0.8596\n",
      "Epoch 3/10\n",
      "66/66 [==============================] - 8s 127ms/step - loss: 0.3293 - accuracy: 0.8540 - val_loss: 0.2162 - val_accuracy: 0.9070\n",
      "Epoch 4/10\n",
      "66/66 [==============================] - 8s 127ms/step - loss: 0.2954 - accuracy: 0.8768 - val_loss: 0.2674 - val_accuracy: 0.8767\n",
      "Epoch 5/10\n",
      "66/66 [==============================] - 7s 113ms/step - loss: 0.2812 - accuracy: 0.8749 - val_loss: 0.2340 - val_accuracy: 0.8918\n",
      "Epoch 6/10\n",
      "66/66 [==============================] - 8s 120ms/step - loss: 0.2530 - accuracy: 0.8915 - val_loss: 0.1878 - val_accuracy: 0.9165\n",
      "Epoch 7/10\n",
      "66/66 [==============================] - 8s 123ms/step - loss: 0.2380 - accuracy: 0.8953 - val_loss: 0.1941 - val_accuracy: 0.8975\n",
      "Epoch 8/10\n",
      "66/66 [==============================] - 8s 114ms/step - loss: 0.2161 - accuracy: 0.9071 - val_loss: 0.1991 - val_accuracy: 0.9070\n",
      "Epoch 9/10\n",
      "66/66 [==============================] - 8s 115ms/step - loss: 0.2040 - accuracy: 0.9109 - val_loss: 0.1628 - val_accuracy: 0.9241\n",
      "Epoch 10/10\n",
      "66/66 [==============================] - 7s 113ms/step - loss: 0.1898 - accuracy: 0.9213 - val_loss: 0.1831 - val_accuracy: 0.9127\n",
      "[INFO] Total time: 88.71 s\n"
     ]
    }
   ],
   "source": [
    "# NOTE: NEW WITH PREPROCESS_INPUT\n",
    "print(\"[INFO] Training model...\")\n",
    "start_time = time.perf_counter()\n",
    "H = model.fit(\n",
    "    train_ds,\n",
    "    validation_data=val_ds,\n",
    "    epochs=NUM_EPOCHS\n",
    ")\n",
    "end_time = time.perf_counter()\n",
    "print(f\"[INFO] Total time: {end_time - start_time:.2f} s\")"
   ]
  },
  {
   "cell_type": "markdown",
   "id": "655082ae",
   "metadata": {},
   "source": [
    "# TRAIN FOR ALL MODELS"
   ]
  },
  {
   "cell_type": "markdown",
   "id": "3546283b",
   "metadata": {},
   "source": [
    "Note that some of these are using image size of only `(100, 100, 3)` to speed up the training process."
   ]
  },
  {
   "cell_type": "code",
   "execution_count": 57,
   "id": "4fe74927",
   "metadata": {},
   "outputs": [
    {
     "name": "stdout",
     "output_type": "stream",
     "text": [
      "[INFO] preparing model for DenseNet121...\n"
     ]
    },
    {
     "data": {
      "text/plain": [
       "<function keras.applications.densenet.preprocess_input(x, data_format=None)>"
      ]
     },
     "metadata": {},
     "output_type": "display_data"
    },
    {
     "name": "stdout",
     "output_type": "stream",
     "text": [
      "[INFO] Training model for 'DenseNet121'...\n",
      "Epoch 1/5\n",
      "66/66 [==============================] - 14s 150ms/step - loss: 0.6642 - accuracy: 0.6550 - val_loss: 0.4744 - val_accuracy: 0.7571\n",
      "Epoch 2/5\n",
      "66/66 [==============================] - 8s 119ms/step - loss: 0.4688 - accuracy: 0.7900 - val_loss: 0.4274 - val_accuracy: 0.7799\n",
      "Epoch 3/5\n",
      "66/66 [==============================] - 8s 118ms/step - loss: 0.4074 - accuracy: 0.8270 - val_loss: 0.4058 - val_accuracy: 0.8065\n",
      "Epoch 4/5\n",
      "66/66 [==============================] - 8s 124ms/step - loss: 0.3791 - accuracy: 0.8280 - val_loss: 0.3633 - val_accuracy: 0.8387\n",
      "Epoch 5/5\n",
      "66/66 [==============================] - 8s 119ms/step - loss: 0.3550 - accuracy: 0.8479 - val_loss: 0.3388 - val_accuracy: 0.8577\n",
      "[INFO] Total time: 46.05 s\n",
      "\n",
      "[INFO] preparing model for DenseNet169...\n"
     ]
    },
    {
     "data": {
      "text/plain": [
       "<function keras.applications.densenet.preprocess_input(x, data_format=None)>"
      ]
     },
     "metadata": {},
     "output_type": "display_data"
    },
    {
     "name": "stdout",
     "output_type": "stream",
     "text": [
      "[INFO] Training model for 'DenseNet169'...\n",
      "Epoch 1/5\n",
      "66/66 [==============================] - 19s 201ms/step - loss: 0.6559 - accuracy: 0.6796 - val_loss: 0.3336 - val_accuracy: 0.8710\n",
      "Epoch 2/5\n",
      "66/66 [==============================] - 10s 158ms/step - loss: 0.4835 - accuracy: 0.7739 - val_loss: 0.2901 - val_accuracy: 0.8899\n",
      "Epoch 3/5\n",
      "66/66 [==============================] - 10s 154ms/step - loss: 0.4040 - accuracy: 0.8223 - val_loss: 0.2846 - val_accuracy: 0.8975\n",
      "Epoch 4/5\n",
      "66/66 [==============================] - 10s 151ms/step - loss: 0.3679 - accuracy: 0.8346 - val_loss: 0.2645 - val_accuracy: 0.8956\n",
      "Epoch 5/5\n",
      "66/66 [==============================] - 10s 159ms/step - loss: 0.3446 - accuracy: 0.8389 - val_loss: 0.2427 - val_accuracy: 0.9013\n",
      "[INFO] Total time: 60.43 s\n",
      "\n",
      "[INFO] preparing model for DenseNet201...\n"
     ]
    },
    {
     "data": {
      "text/plain": [
       "<function keras.applications.densenet.preprocess_input(x, data_format=None)>"
      ]
     },
     "metadata": {},
     "output_type": "display_data"
    },
    {
     "name": "stdout",
     "output_type": "stream",
     "text": [
      "[INFO] Training model for 'DenseNet201'...\n",
      "Epoch 1/5\n",
      "66/66 [==============================] - 22s 222ms/step - loss: 0.5694 - accuracy: 0.7100 - val_loss: 0.4308 - val_accuracy: 0.8065\n",
      "Epoch 2/5\n",
      "66/66 [==============================] - 13s 200ms/step - loss: 0.4199 - accuracy: 0.8194 - val_loss: 0.3308 - val_accuracy: 0.8861\n",
      "Epoch 3/5\n",
      "66/66 [==============================] - 14s 209ms/step - loss: 0.3748 - accuracy: 0.8299 - val_loss: 0.3379 - val_accuracy: 0.8767\n",
      "Epoch 4/5\n",
      "66/66 [==============================] - 14s 207ms/step - loss: 0.3404 - accuracy: 0.8564 - val_loss: 0.2836 - val_accuracy: 0.8956\n",
      "Epoch 5/5\n",
      "66/66 [==============================] - 13s 201ms/step - loss: 0.3289 - accuracy: 0.8668 - val_loss: 0.2923 - val_accuracy: 0.8767\n",
      "[INFO] Total time: 75.84 s\n",
      "\n",
      "[INFO] preparing model for EfficientNetB0...\n",
      "Downloading data from https://storage.googleapis.com/keras-applications/efficientnetb0_notop.h5\n",
      "16711680/16705208 [==============================] - 1s 0us/step\n",
      "16719872/16705208 [==============================] - 1s 0us/step\n"
     ]
    },
    {
     "data": {
      "text/plain": [
       "<function keras.applications.efficientnet.preprocess_input(x, data_format=None)>"
      ]
     },
     "metadata": {},
     "output_type": "display_data"
    },
    {
     "name": "stdout",
     "output_type": "stream",
     "text": [
      "[INFO] Training model for 'EfficientNetB0'...\n",
      "Epoch 1/5\n",
      "66/66 [==============================] - 13s 123ms/step - loss: 0.5498 - accuracy: 0.7081 - val_loss: 0.4388 - val_accuracy: 0.7837\n",
      "Epoch 2/5\n",
      "66/66 [==============================] - 6s 98ms/step - loss: 0.4194 - accuracy: 0.7962 - val_loss: 0.4098 - val_accuracy: 0.8027\n",
      "Epoch 3/5\n",
      "66/66 [==============================] - 6s 93ms/step - loss: 0.3954 - accuracy: 0.8118 - val_loss: 0.3717 - val_accuracy: 0.8349\n",
      "Epoch 4/5\n",
      "66/66 [==============================] - 6s 93ms/step - loss: 0.3652 - accuracy: 0.8336 - val_loss: 0.3480 - val_accuracy: 0.8368\n",
      "Epoch 5/5\n",
      "66/66 [==============================] - 6s 92ms/step - loss: 0.3461 - accuracy: 0.8384 - val_loss: 0.3200 - val_accuracy: 0.8482\n",
      "[INFO] Total time: 37.75 s\n",
      "\n",
      "[INFO] preparing model for EfficientNetB1...\n",
      "Downloading data from https://storage.googleapis.com/keras-applications/efficientnetb1_notop.h5\n",
      "27025408/27018416 [==============================] - 2s 0us/step\n",
      "27033600/27018416 [==============================] - 2s 0us/step\n"
     ]
    },
    {
     "data": {
      "text/plain": [
       "<function keras.applications.efficientnet.preprocess_input(x, data_format=None)>"
      ]
     },
     "metadata": {},
     "output_type": "display_data"
    },
    {
     "name": "stdout",
     "output_type": "stream",
     "text": [
      "[INFO] Training model for 'EfficientNetB1'...\n",
      "Epoch 1/5\n",
      "66/66 [==============================] - 15s 149ms/step - loss: 0.5415 - accuracy: 0.7161 - val_loss: 0.4246 - val_accuracy: 0.7989\n",
      "Epoch 2/5\n",
      "66/66 [==============================] - 8s 128ms/step - loss: 0.4198 - accuracy: 0.8005 - val_loss: 0.3588 - val_accuracy: 0.8311\n",
      "Epoch 3/5\n",
      "66/66 [==============================] - 9s 137ms/step - loss: 0.3919 - accuracy: 0.8190 - val_loss: 0.3444 - val_accuracy: 0.8368\n",
      "Epoch 4/5\n",
      "66/66 [==============================] - 9s 132ms/step - loss: 0.3686 - accuracy: 0.8332 - val_loss: 0.3081 - val_accuracy: 0.8558\n",
      "Epoch 5/5\n",
      "66/66 [==============================] - 9s 134ms/step - loss: 0.3507 - accuracy: 0.8365 - val_loss: 0.3112 - val_accuracy: 0.8520\n",
      "[INFO] Total time: 50.12 s\n",
      "\n",
      "[INFO] preparing model for EfficientNetB2...\n",
      "Downloading data from https://storage.googleapis.com/keras-applications/efficientnetb2_notop.h5\n",
      "31793152/31790344 [==============================] - 2s 0us/step\n",
      "31801344/31790344 [==============================] - 2s 0us/step\n"
     ]
    },
    {
     "data": {
      "text/plain": [
       "<function keras.applications.efficientnet.preprocess_input(x, data_format=None)>"
      ]
     },
     "metadata": {},
     "output_type": "display_data"
    },
    {
     "name": "stdout",
     "output_type": "stream",
     "text": [
      "[INFO] Training model for 'EfficientNetB2'...\n",
      "Epoch 1/5\n",
      "66/66 [==============================] - 16s 165ms/step - loss: 0.5679 - accuracy: 0.7009 - val_loss: 0.4913 - val_accuracy: 0.7495\n",
      "Epoch 2/5\n",
      "66/66 [==============================] - 9s 140ms/step - loss: 0.4369 - accuracy: 0.8005 - val_loss: 0.4034 - val_accuracy: 0.8102\n",
      "Epoch 3/5\n",
      "66/66 [==============================] - 9s 140ms/step - loss: 0.3802 - accuracy: 0.8365 - val_loss: 0.3743 - val_accuracy: 0.8273\n",
      "Epoch 4/5\n",
      "66/66 [==============================] - 9s 138ms/step - loss: 0.3775 - accuracy: 0.8227 - val_loss: 0.3584 - val_accuracy: 0.8349\n",
      "Epoch 5/5\n",
      "66/66 [==============================] - 9s 137ms/step - loss: 0.3493 - accuracy: 0.8436 - val_loss: 0.3233 - val_accuracy: 0.8558\n",
      "[INFO] Total time: 53.02 s\n",
      "\n",
      "[INFO] preparing model for EfficientNetB3...\n",
      "Downloading data from https://storage.googleapis.com/keras-applications/efficientnetb3_notop.h5\n",
      "43941888/43941136 [==============================] - 3s 0us/step\n",
      "43950080/43941136 [==============================] - 3s 0us/step\n"
     ]
    },
    {
     "data": {
      "text/plain": [
       "<function keras.applications.efficientnet.preprocess_input(x, data_format=None)>"
      ]
     },
     "metadata": {},
     "output_type": "display_data"
    },
    {
     "name": "stdout",
     "output_type": "stream",
     "text": [
      "[INFO] Training model for 'EfficientNetB3'...\n",
      "Epoch 1/5\n",
      "66/66 [==============================] - 20s 211ms/step - loss: 0.5921 - accuracy: 0.6768 - val_loss: 0.5249 - val_accuracy: 0.7514\n",
      "Epoch 2/5\n",
      "66/66 [==============================] - 12s 181ms/step - loss: 0.4314 - accuracy: 0.8076 - val_loss: 0.4154 - val_accuracy: 0.8046\n",
      "Epoch 3/5\n",
      "66/66 [==============================] - 12s 176ms/step - loss: 0.3956 - accuracy: 0.8104 - val_loss: 0.3724 - val_accuracy: 0.8349\n",
      "Epoch 4/5\n",
      "66/66 [==============================] - 12s 178ms/step - loss: 0.3521 - accuracy: 0.8436 - val_loss: 0.3739 - val_accuracy: 0.8349\n",
      "Epoch 5/5\n",
      "66/66 [==============================] - 12s 179ms/step - loss: 0.3482 - accuracy: 0.8379 - val_loss: 0.3547 - val_accuracy: 0.8463\n",
      "[INFO] Total time: 67.34 s\n",
      "\n",
      "[INFO] preparing model for EfficientNetB4...\n",
      "Downloading data from https://storage.googleapis.com/keras-applications/efficientnetb4_notop.h5\n",
      "71688192/71686520 [==============================] - 5s 0us/step\n",
      "71696384/71686520 [==============================] - 5s 0us/step\n"
     ]
    },
    {
     "data": {
      "text/plain": [
       "<function keras.applications.efficientnet.preprocess_input(x, data_format=None)>"
      ]
     },
     "metadata": {},
     "output_type": "display_data"
    },
    {
     "name": "stdout",
     "output_type": "stream",
     "text": [
      "[INFO] Training model for 'EfficientNetB4'...\n",
      "Epoch 1/5\n",
      "66/66 [==============================] - 26s 275ms/step - loss: 0.5411 - accuracy: 0.7161 - val_loss: 0.4482 - val_accuracy: 0.7723\n",
      "Epoch 2/5\n",
      "66/66 [==============================] - 15s 235ms/step - loss: 0.4077 - accuracy: 0.8185 - val_loss: 0.3696 - val_accuracy: 0.8216\n",
      "Epoch 3/5\n",
      "66/66 [==============================] - 15s 232ms/step - loss: 0.3749 - accuracy: 0.8270 - val_loss: 0.3125 - val_accuracy: 0.8539\n",
      "Epoch 4/5\n",
      "66/66 [==============================] - 16s 236ms/step - loss: 0.3586 - accuracy: 0.8336 - val_loss: 0.2865 - val_accuracy: 0.8691\n",
      "Epoch 5/5\n",
      "66/66 [==============================] - 15s 231ms/step - loss: 0.3393 - accuracy: 0.8498 - val_loss: 0.3216 - val_accuracy: 0.8425\n",
      "[INFO] Total time: 87.79 s\n",
      "\n",
      "[INFO] preparing model for EfficientNetB5...\n",
      "Downloading data from https://storage.googleapis.com/keras-applications/efficientnetb5_notop.h5\n",
      "115269632/115263384 [==============================] - 9s 0us/step\n",
      "115277824/115263384 [==============================] - 9s 0us/step\n"
     ]
    },
    {
     "data": {
      "text/plain": [
       "<function keras.applications.efficientnet.preprocess_input(x, data_format=None)>"
      ]
     },
     "metadata": {},
     "output_type": "display_data"
    },
    {
     "name": "stdout",
     "output_type": "stream",
     "text": [
      "[INFO] Training model for 'EfficientNetB5'...\n",
      "Epoch 1/5\n",
      "66/66 [==============================] - 33s 360ms/step - loss: 0.5628 - accuracy: 0.6877 - val_loss: 0.4298 - val_accuracy: 0.7932\n",
      "Epoch 2/5\n",
      "66/66 [==============================] - 20s 308ms/step - loss: 0.4205 - accuracy: 0.7943 - val_loss: 0.3837 - val_accuracy: 0.8292\n",
      "Epoch 3/5\n",
      "66/66 [==============================] - 21s 313ms/step - loss: 0.3945 - accuracy: 0.8185 - val_loss: 0.3702 - val_accuracy: 0.8311\n",
      "Epoch 4/5\n",
      "66/66 [==============================] - 21s 314ms/step - loss: 0.3737 - accuracy: 0.8261 - val_loss: 0.3467 - val_accuracy: 0.8444\n",
      "Epoch 5/5\n",
      "66/66 [==============================] - 20s 308ms/step - loss: 0.3444 - accuracy: 0.8507 - val_loss: 0.3113 - val_accuracy: 0.8672\n",
      "[INFO] Total time: 115.02 s\n",
      "\n",
      "[INFO] preparing model for EfficientNetB6...\n",
      "Downloading data from https://storage.googleapis.com/keras-applications/efficientnetb6_notop.h5\n",
      "165240832/165234480 [==============================] - 13s 0us/step\n",
      "165249024/165234480 [==============================] - 13s 0us/step\n"
     ]
    },
    {
     "data": {
      "text/plain": [
       "<function keras.applications.efficientnet.preprocess_input(x, data_format=None)>"
      ]
     },
     "metadata": {},
     "output_type": "display_data"
    },
    {
     "name": "stdout",
     "output_type": "stream",
     "text": [
      "[INFO] Training model for 'EfficientNetB6'...\n",
      "Epoch 1/5\n",
      "66/66 [==============================] - 42s 462ms/step - loss: 0.5491 - accuracy: 0.7152 - val_loss: 0.4296 - val_accuracy: 0.7875\n",
      "Epoch 2/5\n",
      "66/66 [==============================] - 27s 407ms/step - loss: 0.4324 - accuracy: 0.8000 - val_loss: 0.4184 - val_accuracy: 0.7856\n",
      "Epoch 3/5\n",
      "66/66 [==============================] - 27s 406ms/step - loss: 0.3974 - accuracy: 0.8246 - val_loss: 0.3830 - val_accuracy: 0.8008\n",
      "Epoch 4/5\n",
      "66/66 [==============================] - 27s 407ms/step - loss: 0.3707 - accuracy: 0.8322 - val_loss: 0.3464 - val_accuracy: 0.8311\n",
      "Epoch 5/5\n",
      "66/66 [==============================] - 27s 407ms/step - loss: 0.3629 - accuracy: 0.8398 - val_loss: 0.3464 - val_accuracy: 0.8330\n",
      "[INFO] Total time: 148.63 s\n",
      "\n",
      "[INFO] preparing model for EfficientNetB7...\n",
      "Downloading data from https://storage.googleapis.com/keras-applications/efficientnetb7_notop.h5\n",
      "258080768/258076736 [==============================] - 20s 0us/step\n",
      "258088960/258076736 [==============================] - 20s 0us/step\n"
     ]
    },
    {
     "data": {
      "text/plain": [
       "<function keras.applications.efficientnet.preprocess_input(x, data_format=None)>"
      ]
     },
     "metadata": {},
     "output_type": "display_data"
    },
    {
     "name": "stdout",
     "output_type": "stream",
     "text": [
      "[INFO] Training model for 'EfficientNetB7'...\n",
      "Epoch 1/5\n",
      "66/66 [==============================] - 55s 625ms/step - loss: 0.5515 - accuracy: 0.7109 - val_loss: 0.4369 - val_accuracy: 0.7970\n",
      "Epoch 2/5\n",
      "66/66 [==============================] - 36s 552ms/step - loss: 0.4318 - accuracy: 0.8052 - val_loss: 0.3800 - val_accuracy: 0.8349\n",
      "Epoch 3/5\n",
      "66/66 [==============================] - 36s 552ms/step - loss: 0.3867 - accuracy: 0.8275 - val_loss: 0.3324 - val_accuracy: 0.8501\n",
      "Epoch 4/5\n",
      "66/66 [==============================] - 36s 553ms/step - loss: 0.3737 - accuracy: 0.8289 - val_loss: 0.3304 - val_accuracy: 0.8501\n",
      "Epoch 5/5\n",
      "66/66 [==============================] - 36s 553ms/step - loss: 0.3565 - accuracy: 0.8464 - val_loss: 0.2980 - val_accuracy: 0.8805\n",
      "[INFO] Total time: 200.14 s\n",
      "\n",
      "[INFO] preparing model for InceptionResNetV2...\n",
      "Downloading data from https://storage.googleapis.com/tensorflow/keras-applications/inception_resnet_v2/inception_resnet_v2_weights_tf_dim_ordering_tf_kernels_notop.h5\n",
      "219062272/219055592 [==============================] - 18s 0us/step\n",
      "219070464/219055592 [==============================] - 18s 0us/step\n"
     ]
    },
    {
     "ename": "ValueError",
     "evalue": "Exception encountered when calling layer \"average_pooling2d_19\" (type AveragePooling2D).\n\nNegative dimension size caused by subtracting 7 from 5 for '{{node average_pooling2d_19/AvgPool}} = AvgPool[T=DT_FLOAT, data_format=\"NHWC\", ksize=[1, 7, 7, 1], padding=\"VALID\", strides=[1, 7, 7, 1]](Placeholder)' with input shapes: [?,5,5,1536].\n\nCall arguments received:\n  • inputs=tf.Tensor(shape=(None, 5, 5, 1536), dtype=float32)",
     "output_type": "error",
     "traceback": [
      "\u001b[1;31m---------------------------------------------------------------------------\u001b[0m",
      "\u001b[1;31mValueError\u001b[0m                                Traceback (most recent call last)",
      "\u001b[1;32m~\\AppData\\Local\\Temp/ipykernel_8404/3292362029.py\u001b[0m in \u001b[0;36m<module>\u001b[1;34m\u001b[0m\n\u001b[0;32m      3\u001b[0m \u001b[1;32mfor\u001b[0m \u001b[0march_name\u001b[0m \u001b[1;32min\u001b[0m \u001b[0march2module_name\u001b[0m\u001b[1;33m:\u001b[0m\u001b[1;33m\u001b[0m\u001b[1;33m\u001b[0m\u001b[0m\n\u001b[0;32m      4\u001b[0m     \u001b[0mmodel_fn\u001b[0m\u001b[1;33m,\u001b[0m \u001b[0mpreprocess_input\u001b[0m \u001b[1;33m=\u001b[0m \u001b[0mget_model_and_preprocess_func\u001b[0m\u001b[1;33m(\u001b[0m\u001b[0march_name\u001b[0m\u001b[1;33m)\u001b[0m\u001b[1;33m\u001b[0m\u001b[1;33m\u001b[0m\u001b[0m\n\u001b[1;32m----> 5\u001b[1;33m     \u001b[0mmodel\u001b[0m \u001b[1;33m=\u001b[0m \u001b[0mget_model\u001b[0m\u001b[1;33m(\u001b[0m\u001b[0mmodel_fn\u001b[0m\u001b[1;33m)\u001b[0m\u001b[1;33m\u001b[0m\u001b[1;33m\u001b[0m\u001b[0m\n\u001b[0m\u001b[0;32m      6\u001b[0m     \u001b[0mdisplay\u001b[0m\u001b[1;33m(\u001b[0m\u001b[0mpreprocess_input\u001b[0m\u001b[1;33m)\u001b[0m\u001b[1;33m\u001b[0m\u001b[1;33m\u001b[0m\u001b[0m\n\u001b[0;32m      7\u001b[0m     \u001b[0mtrain_ds\u001b[0m\u001b[1;33m,\u001b[0m \u001b[0mval_ds\u001b[0m\u001b[1;33m,\u001b[0m \u001b[0mtest_ds\u001b[0m \u001b[1;33m=\u001b[0m \u001b[0mget_ds\u001b[0m\u001b[1;33m(\u001b[0m\u001b[0mpreprocess_fn\u001b[0m\u001b[1;33m=\u001b[0m\u001b[0mpreprocess_input\u001b[0m\u001b[1;33m)\u001b[0m\u001b[1;33m\u001b[0m\u001b[1;33m\u001b[0m\u001b[0m\n",
      "\u001b[1;32m~\\AppData\\Local\\Temp/ipykernel_8404/3845770823.py\u001b[0m in \u001b[0;36mget_model\u001b[1;34m(model_fn)\u001b[0m\n\u001b[0;32m     10\u001b[0m     \u001b[0mheadModel\u001b[0m \u001b[1;33m=\u001b[0m \u001b[0mbaseModel\u001b[0m\u001b[1;33m.\u001b[0m\u001b[0moutput\u001b[0m\u001b[1;33m\u001b[0m\u001b[1;33m\u001b[0m\u001b[0m\n\u001b[0;32m     11\u001b[0m     \u001b[1;31m# then add extra layers to suit our choice\u001b[0m\u001b[1;33m\u001b[0m\u001b[1;33m\u001b[0m\u001b[1;33m\u001b[0m\u001b[0m\n\u001b[1;32m---> 12\u001b[1;33m     \u001b[0mheadModel\u001b[0m \u001b[1;33m=\u001b[0m \u001b[0mlayers\u001b[0m\u001b[1;33m.\u001b[0m\u001b[0mAveragePooling2D\u001b[0m\u001b[1;33m(\u001b[0m\u001b[0mpool_size\u001b[0m\u001b[1;33m=\u001b[0m\u001b[1;33m(\u001b[0m\u001b[1;36m7\u001b[0m\u001b[1;33m,\u001b[0m \u001b[1;36m7\u001b[0m\u001b[1;33m)\u001b[0m\u001b[1;33m)\u001b[0m\u001b[1;33m(\u001b[0m\u001b[0mheadModel\u001b[0m\u001b[1;33m)\u001b[0m\u001b[1;33m\u001b[0m\u001b[1;33m\u001b[0m\u001b[0m\n\u001b[0m\u001b[0;32m     13\u001b[0m     \u001b[0mheadModel\u001b[0m \u001b[1;33m=\u001b[0m \u001b[0mlayers\u001b[0m\u001b[1;33m.\u001b[0m\u001b[0mFlatten\u001b[0m\u001b[1;33m(\u001b[0m\u001b[0mname\u001b[0m\u001b[1;33m=\u001b[0m\u001b[1;34m\"flatten\"\u001b[0m\u001b[1;33m)\u001b[0m\u001b[1;33m(\u001b[0m\u001b[0mheadModel\u001b[0m\u001b[1;33m)\u001b[0m\u001b[1;33m\u001b[0m\u001b[1;33m\u001b[0m\u001b[0m\n\u001b[0;32m     14\u001b[0m     \u001b[0mheadModel\u001b[0m \u001b[1;33m=\u001b[0m \u001b[0mlayers\u001b[0m\u001b[1;33m.\u001b[0m\u001b[0mDense\u001b[0m\u001b[1;33m(\u001b[0m\u001b[1;36m256\u001b[0m\u001b[1;33m,\u001b[0m \u001b[0mactivation\u001b[0m\u001b[1;33m=\u001b[0m\u001b[1;34m\"relu\"\u001b[0m\u001b[1;33m)\u001b[0m\u001b[1;33m(\u001b[0m\u001b[0mheadModel\u001b[0m\u001b[1;33m)\u001b[0m\u001b[1;33m\u001b[0m\u001b[1;33m\u001b[0m\u001b[0m\n",
      "\u001b[1;32m~\\Anaconda3\\envs\\tf\\lib\\site-packages\\keras\\utils\\traceback_utils.py\u001b[0m in \u001b[0;36merror_handler\u001b[1;34m(*args, **kwargs)\u001b[0m\n\u001b[0;32m     65\u001b[0m     \u001b[1;32mexcept\u001b[0m \u001b[0mException\u001b[0m \u001b[1;32mas\u001b[0m \u001b[0me\u001b[0m\u001b[1;33m:\u001b[0m  \u001b[1;31m# pylint: disable=broad-except\u001b[0m\u001b[1;33m\u001b[0m\u001b[1;33m\u001b[0m\u001b[0m\n\u001b[0;32m     66\u001b[0m       \u001b[0mfiltered_tb\u001b[0m \u001b[1;33m=\u001b[0m \u001b[0m_process_traceback_frames\u001b[0m\u001b[1;33m(\u001b[0m\u001b[0me\u001b[0m\u001b[1;33m.\u001b[0m\u001b[0m__traceback__\u001b[0m\u001b[1;33m)\u001b[0m\u001b[1;33m\u001b[0m\u001b[1;33m\u001b[0m\u001b[0m\n\u001b[1;32m---> 67\u001b[1;33m       \u001b[1;32mraise\u001b[0m \u001b[0me\u001b[0m\u001b[1;33m.\u001b[0m\u001b[0mwith_traceback\u001b[0m\u001b[1;33m(\u001b[0m\u001b[0mfiltered_tb\u001b[0m\u001b[1;33m)\u001b[0m \u001b[1;32mfrom\u001b[0m \u001b[1;32mNone\u001b[0m\u001b[1;33m\u001b[0m\u001b[1;33m\u001b[0m\u001b[0m\n\u001b[0m\u001b[0;32m     68\u001b[0m     \u001b[1;32mfinally\u001b[0m\u001b[1;33m:\u001b[0m\u001b[1;33m\u001b[0m\u001b[1;33m\u001b[0m\u001b[0m\n\u001b[0;32m     69\u001b[0m       \u001b[1;32mdel\u001b[0m \u001b[0mfiltered_tb\u001b[0m\u001b[1;33m\u001b[0m\u001b[1;33m\u001b[0m\u001b[0m\n",
      "\u001b[1;32m~\\Anaconda3\\envs\\tf\\lib\\site-packages\\tensorflow\\python\\framework\\ops.py\u001b[0m in \u001b[0;36m_create_c_op\u001b[1;34m(graph, node_def, inputs, control_inputs, op_def)\u001b[0m\n\u001b[0;32m   1937\u001b[0m   \u001b[1;32mexcept\u001b[0m \u001b[0merrors\u001b[0m\u001b[1;33m.\u001b[0m\u001b[0mInvalidArgumentError\u001b[0m \u001b[1;32mas\u001b[0m \u001b[0me\u001b[0m\u001b[1;33m:\u001b[0m\u001b[1;33m\u001b[0m\u001b[1;33m\u001b[0m\u001b[0m\n\u001b[0;32m   1938\u001b[0m     \u001b[1;31m# Convert to ValueError for backwards compatibility.\u001b[0m\u001b[1;33m\u001b[0m\u001b[1;33m\u001b[0m\u001b[1;33m\u001b[0m\u001b[0m\n\u001b[1;32m-> 1939\u001b[1;33m     \u001b[1;32mraise\u001b[0m \u001b[0mValueError\u001b[0m\u001b[1;33m(\u001b[0m\u001b[0me\u001b[0m\u001b[1;33m.\u001b[0m\u001b[0mmessage\u001b[0m\u001b[1;33m)\u001b[0m\u001b[1;33m\u001b[0m\u001b[1;33m\u001b[0m\u001b[0m\n\u001b[0m\u001b[0;32m   1940\u001b[0m \u001b[1;33m\u001b[0m\u001b[0m\n\u001b[0;32m   1941\u001b[0m   \u001b[1;32mreturn\u001b[0m \u001b[0mc_op\u001b[0m\u001b[1;33m\u001b[0m\u001b[1;33m\u001b[0m\u001b[0m\n",
      "\u001b[1;31mValueError\u001b[0m: Exception encountered when calling layer \"average_pooling2d_19\" (type AveragePooling2D).\n\nNegative dimension size caused by subtracting 7 from 5 for '{{node average_pooling2d_19/AvgPool}} = AvgPool[T=DT_FLOAT, data_format=\"NHWC\", ksize=[1, 7, 7, 1], padding=\"VALID\", strides=[1, 7, 7, 1]](Placeholder)' with input shapes: [?,5,5,1536].\n\nCall arguments received:\n  • inputs=tf.Tensor(shape=(None, 5, 5, 1536), dtype=float32)"
     ]
    }
   ],
   "source": [
    "from IPython.display import display\n",
    "\n",
    "for arch_name in arch2module_name:\n",
    "    model_fn, preprocess_input = get_model_and_preprocess_func(arch_name)\n",
    "    model = get_model(model_fn)\n",
    "    display(preprocess_input)\n",
    "    train_ds, val_ds, test_ds = get_ds(preprocess_fn=preprocess_input)\n",
    "    print(f\"[INFO] Training model for '{arch_name}'...\")\n",
    "    start_time = time.perf_counter()\n",
    "    H = model.fit(\n",
    "        train_ds,\n",
    "        validation_data=val_ds,\n",
    "        epochs=5\n",
    "    )\n",
    "    end_time = time.perf_counter()\n",
    "    print(f\"[INFO] Total time: {end_time - start_time:.2f} s\\n\")"
   ]
  },
  {
   "cell_type": "markdown",
   "id": "5210d8ff",
   "metadata": {},
   "source": [
    "## Debugging error models"
   ]
  },
  {
   "cell_type": "markdown",
   "id": "df4be771",
   "metadata": {},
   "source": [
    "### Inception error with AveragePooling2D"
   ]
  },
  {
   "cell_type": "code",
   "execution_count": 50,
   "id": "7c2cd8ee",
   "metadata": {},
   "outputs": [
    {
     "name": "stdout",
     "output_type": "stream",
     "text": [
      "[INFO] preparing model for InceptionResNetV2...\n",
      "Exception encountered when calling layer \"average_pooling2d_1\" (type AveragePooling2D).\n",
      "\n",
      "Negative dimension size caused by subtracting 7 from 1 for '{{node average_pooling2d_1/AvgPool}} = AvgPool[T=DT_FLOAT, data_format=\"NHWC\", ksize=[1, 7, 7, 1], padding=\"VALID\", strides=[1, 7, 7, 1]](Placeholder)' with input shapes: [?,1,1,1536].\n",
      "\n",
      "Call arguments received:\n",
      "  • inputs=tf.Tensor(shape=(None, 1, 1, 1536), dtype=float32)\n",
      "Exception encountered when calling layer \"average_pooling2d_2\" (type AveragePooling2D).\n",
      "\n",
      "Negative dimension size caused by subtracting 5 from 1 for '{{node average_pooling2d_2/AvgPool}} = AvgPool[T=DT_FLOAT, data_format=\"NHWC\", ksize=[1, 5, 5, 1], padding=\"VALID\", strides=[1, 5, 5, 1]](Placeholder)' with input shapes: [?,1,1,1536].\n",
      "\n",
      "Call arguments received:\n",
      "  • inputs=tf.Tensor(shape=(None, 1, 1, 1536), dtype=float32)\n",
      "Skipping AveragePooling2D layer due to small layer's input_size\n",
      "Using GlobalAveragePooling2D layer\n"
     ]
    },
    {
     "data": {
      "text/plain": [
       "<function keras.applications.inception_resnet_v2.preprocess_input(x, data_format=None)>"
      ]
     },
     "metadata": {},
     "output_type": "display_data"
    },
    {
     "name": "stdout",
     "output_type": "stream",
     "text": [
      "[INFO] Training model for 'InceptionResNetV2'...\n",
      "Epoch 1/10\n",
      "66/66 [==============================] - 28s 128ms/step - loss: 0.8908 - accuracy: 0.6005 - val_loss: 0.5555 - val_accuracy: 0.7135\n",
      "Epoch 2/10\n",
      "66/66 [==============================] - 5s 78ms/step - loss: 0.6068 - accuracy: 0.7185 - val_loss: 0.4790 - val_accuracy: 0.7685\n",
      "Epoch 3/10\n",
      "66/66 [==============================] - 5s 79ms/step - loss: 0.5165 - accuracy: 0.7502 - val_loss: 0.3927 - val_accuracy: 0.8501\n",
      "Epoch 4/10\n",
      "66/66 [==============================] - 5s 80ms/step - loss: 0.4980 - accuracy: 0.7668 - val_loss: 0.4147 - val_accuracy: 0.8197\n",
      "Epoch 5/10\n",
      "66/66 [==============================] - 5s 76ms/step - loss: 0.4407 - accuracy: 0.7848 - val_loss: 0.3516 - val_accuracy: 0.8729\n",
      "Epoch 6/10\n",
      "66/66 [==============================] - 5s 76ms/step - loss: 0.4290 - accuracy: 0.8005 - val_loss: 0.3284 - val_accuracy: 0.8880\n",
      "Epoch 7/10\n",
      "66/66 [==============================] - 5s 83ms/step - loss: 0.4078 - accuracy: 0.8251 - val_loss: 0.3186 - val_accuracy: 0.8786\n",
      "Epoch 8/10\n",
      "66/66 [==============================] - 5s 79ms/step - loss: 0.3854 - accuracy: 0.8341 - val_loss: 0.3054 - val_accuracy: 0.8880\n",
      "Epoch 9/10\n",
      "66/66 [==============================] - 5s 79ms/step - loss: 0.3694 - accuracy: 0.8379 - val_loss: 0.2794 - val_accuracy: 0.8994\n",
      "Epoch 10/10\n",
      "66/66 [==============================] - 5s 79ms/step - loss: 0.3559 - accuracy: 0.8365 - val_loss: 0.2729 - val_accuracy: 0.9070\n",
      "[INFO] Total time: 75.00 s\n",
      "\n",
      "[INFO] Trying to save and load the model ...\n",
      "[INFO] Total time save & load: 5.60 s\n",
      "\n"
     ]
    }
   ],
   "source": [
    "from IPython.display import display\n",
    "\n",
    "model_path = 'temp_model.h5'\n",
    "start = False\n",
    "for arch_name in arch2module_name:\n",
    "    if not start:\n",
    "        # start at the model with error to debug\n",
    "        if arch_name == 'InceptionResNetV2':\n",
    "            start = True\n",
    "        else:\n",
    "            continue\n",
    "    model_fn, preprocess_input = get_model_and_preprocess_func(arch_name)\n",
    "    model = get_model(model_fn)\n",
    "    display(preprocess_input)\n",
    "    train_ds, val_ds, test_ds = get_ds(preprocess_fn=preprocess_input)\n",
    "    print(f\"[INFO] Training model for '{arch_name}'...\")\n",
    "    start_time = time.perf_counter()\n",
    "    H = model.fit(\n",
    "        train_ds,\n",
    "        validation_data=val_ds,\n",
    "        epochs=10\n",
    "    )\n",
    "    end_time = time.perf_counter()\n",
    "    print(f\"[INFO] Total time: {end_time - start_time:.2f} s\\n\")\n",
    "\n",
    "    # model.evaluate(test_ds)\n",
    "\n",
    "    print('[INFO] Trying to save and load the model ...')\n",
    "    model.save(model_path, save_traces=True)\n",
    "    start_time = time.perf_counter()\n",
    "    # model = get_model(model_fn)\n",
    "    # model = model.load_weights(model_path)  # must save weights only can load\n",
    "    model = tf.keras.models.load_model(model_path, custom_objects=None)\n",
    "    end_time = time.perf_counter()\n",
    "    print(f\"[INFO] Total time save & load: {end_time - start_time:.2f} s\\n\")\n",
    "\n",
    "    # model.evaluate(test_ds)\n",
    "\n",
    "    break"
   ]
  },
  {
   "cell_type": "code",
   "execution_count": 53,
   "id": "7c2cd8ee",
   "metadata": {},
   "outputs": [
    {
     "name": "stdout",
     "output_type": "stream",
     "text": [
      "[INFO] preparing model for InceptionResNetV2...\n",
      "Exception encountered when calling layer \"average_pooling2d_1\" (type AveragePooling2D).\n",
      "\n",
      "Negative dimension size caused by subtracting 7 from 1 for '{{node average_pooling2d_1/AvgPool}} = AvgPool[T=DT_FLOAT, data_format=\"NHWC\", ksize=[1, 7, 7, 1], padding=\"VALID\", strides=[1, 7, 7, 1]](Placeholder)' with input shapes: [?,1,1,1536].\n",
      "\n",
      "Call arguments received:\n",
      "  • inputs=tf.Tensor(shape=(None, 1, 1, 1536), dtype=float32)\n",
      "Exception encountered when calling layer \"average_pooling2d_2\" (type AveragePooling2D).\n",
      "\n",
      "Negative dimension size caused by subtracting 5 from 1 for '{{node average_pooling2d_2/AvgPool}} = AvgPool[T=DT_FLOAT, data_format=\"NHWC\", ksize=[1, 5, 5, 1], padding=\"VALID\", strides=[1, 5, 5, 1]](Placeholder)' with input shapes: [?,1,1,1536].\n",
      "\n",
      "Call arguments received:\n",
      "  • inputs=tf.Tensor(shape=(None, 1, 1, 1536), dtype=float32)\n",
      "Skipping AveragePooling2D layer due to small layer's input_size\n",
      "Using GlobalAveragePooling2D layer\n"
     ]
    },
    {
     "data": {
      "text/plain": [
       "<function keras.applications.inception_resnet_v2.preprocess_input(x, data_format=None)>"
      ]
     },
     "metadata": {},
     "output_type": "display_data"
    },
    {
     "name": "stdout",
     "output_type": "stream",
     "text": [
      "[INFO] Training model for 'InceptionResNetV2'...\n",
      "Epoch 1/10\n",
      "66/66 [==============================] - 15s 116ms/step - loss: 0.8195 - accuracy: 0.5545 - val_loss: 0.8423 - val_accuracy: 0.4801\n",
      "Epoch 2/10\n",
      "66/66 [==============================] - 5s 79ms/step - loss: 0.7102 - accuracy: 0.6137 - val_loss: 0.7445 - val_accuracy: 0.5427\n",
      "Epoch 3/10\n",
      "66/66 [==============================] - 5s 81ms/step - loss: 0.6457 - accuracy: 0.6488 - val_loss: 0.6848 - val_accuracy: 0.5939\n",
      "Epoch 4/10\n",
      "66/66 [==============================] - 5s 77ms/step - loss: 0.6025 - accuracy: 0.6839 - val_loss: 0.6432 - val_accuracy: 0.6281\n",
      "Epoch 5/10\n",
      "66/66 [==============================] - 5s 82ms/step - loss: 0.5712 - accuracy: 0.7066 - val_loss: 0.6116 - val_accuracy: 0.6546\n",
      "Epoch 6/10\n",
      "66/66 [==============================] - 6s 90ms/step - loss: 0.5474 - accuracy: 0.7289 - val_loss: 0.5863 - val_accuracy: 0.6603\n",
      "Epoch 7/10\n",
      "66/66 [==============================] - 6s 86ms/step - loss: 0.5286 - accuracy: 0.7403 - val_loss: 0.5659 - val_accuracy: 0.6698\n",
      "Epoch 8/10\n",
      "66/66 [==============================] - 6s 84ms/step - loss: 0.5132 - accuracy: 0.7469 - val_loss: 0.5492 - val_accuracy: 0.6945\n",
      "Epoch 9/10\n",
      "66/66 [==============================] - 6s 84ms/step - loss: 0.5004 - accuracy: 0.7526 - val_loss: 0.5353 - val_accuracy: 0.6945\n",
      "Epoch 10/10\n",
      "66/66 [==============================] - 5s 78ms/step - loss: 0.4894 - accuracy: 0.7611 - val_loss: 0.5233 - val_accuracy: 0.7154\n",
      "[INFO] Total time: 64.20 s\n",
      "\n",
      "[INFO] Trying to save and load the model ...\n",
      "[INFO] Total time save & load: 5.88 s\n",
      "\n"
     ]
    }
   ],
   "source": [
    "# NOTE: THIS IS WITHOUT USING THE EXTRA DENSE + DROPOUT TO COMPARE\n",
    "# Adding Dense + Dropout seems like performance improved much faster\n",
    "\n",
    "model_path = 'temp_model.h5'\n",
    "start = False\n",
    "for arch_name in arch2module_name:\n",
    "    if not start:\n",
    "        # start at the model with error to debug\n",
    "        if arch_name == 'InceptionResNetV2':\n",
    "            start = True\n",
    "        else:\n",
    "            continue\n",
    "    model_fn, preprocess_input = get_model_and_preprocess_func(arch_name)\n",
    "    model = get_model(model_fn)\n",
    "    display(preprocess_input)\n",
    "    train_ds, val_ds, test_ds = get_ds(preprocess_fn=preprocess_input)\n",
    "    print(f\"[INFO] Training model for '{arch_name}'...\")\n",
    "    start_time = time.perf_counter()\n",
    "    H = model.fit(\n",
    "        train_ds,\n",
    "        validation_data=val_ds,\n",
    "        epochs=10\n",
    "    )\n",
    "    end_time = time.perf_counter()\n",
    "    print(f\"[INFO] Total time: {end_time - start_time:.2f} s\\n\")\n",
    "\n",
    "    # model.evaluate(test_ds)\n",
    "\n",
    "    print('[INFO] Trying to save and load the model ...')\n",
    "    model.save(model_path, save_traces=True)\n",
    "    start_time = time.perf_counter()\n",
    "    # model = get_model(model_fn)\n",
    "    # model = model.load_weights(model_path)  # must save weights only can load\n",
    "    model = tf.keras.models.load_model(model_path, custom_objects=None)\n",
    "    end_time = time.perf_counter()\n",
    "    print(f\"[INFO] Total time save & load: {end_time - start_time:.2f} s\\n\")\n",
    "\n",
    "    # model.evaluate(test_ds)\n",
    "\n",
    "    break"
   ]
  },
  {
   "cell_type": "code",
   "execution_count": 58,
   "id": "5fd74205",
   "metadata": {},
   "outputs": [
    {
     "data": {
      "text/plain": [
       "8896"
      ]
     },
     "execution_count": 58,
     "metadata": {},
     "output_type": "execute_result"
    }
   ],
   "source": [
    "import gc\n",
    "tf.keras.backend.clear_session()\n",
    "gc.collect()"
   ]
  },
  {
   "cell_type": "markdown",
   "id": "df4be771",
   "metadata": {},
   "source": [
    "### MobileNet error with AveragePooling2D"
   ]
  },
  {
   "cell_type": "markdown",
   "id": "553ef21b",
   "metadata": {},
   "source": [
    "MobileNet seems to only work with `pool_size` of 1"
   ]
  },
  {
   "cell_type": "code",
   "execution_count": 74,
   "id": "7c2cd8ee",
   "metadata": {},
   "outputs": [
    {
     "name": "stdout",
     "output_type": "stream",
     "text": [
      "[INFO] preparing model for MobileNetV3Large...\n",
      "Exception encountered when calling layer \"average_pooling2d\" (type AveragePooling2D).\n",
      "\n",
      "Negative dimension size caused by subtracting 7 from 1 for '{{node average_pooling2d/AvgPool}} = AvgPool[T=DT_FLOAT, data_format=\"NHWC\", ksize=[1, 7, 7, 1], padding=\"VALID\", strides=[1, 7, 7, 1]](Placeholder)' with input shapes: [?,1,1,1280].\n",
      "\n",
      "Call arguments received:\n",
      "  • inputs=tf.Tensor(shape=(None, 1, 1, 1280), dtype=float32)\n",
      "Exception encountered when calling layer \"average_pooling2d_1\" (type AveragePooling2D).\n",
      "\n",
      "Negative dimension size caused by subtracting 3 from 1 for '{{node average_pooling2d_1/AvgPool}} = AvgPool[T=DT_FLOAT, data_format=\"NHWC\", ksize=[1, 3, 3, 1], padding=\"VALID\", strides=[1, 3, 3, 1]](Placeholder)' with input shapes: [?,1,1,1280].\n",
      "\n",
      "Call arguments received:\n",
      "  • inputs=tf.Tensor(shape=(None, 1, 1, 1280), dtype=float32)\n",
      "Exception encountered when calling layer \"average_pooling2d_2\" (type AveragePooling2D).\n",
      "\n",
      "Negative dimension size caused by subtracting 2 from 1 for '{{node average_pooling2d_2/AvgPool}} = AvgPool[T=DT_FLOAT, data_format=\"NHWC\", ksize=[1, 2, 2, 1], padding=\"VALID\", strides=[1, 2, 2, 1]](Placeholder)' with input shapes: [?,1,1,1280].\n",
      "\n",
      "Call arguments received:\n",
      "  • inputs=tf.Tensor(shape=(None, 1, 1, 1280), dtype=float32)\n"
     ]
    },
    {
     "data": {
      "text/plain": [
       "<function keras.applications.mobilenet_v3.preprocess_input(x, data_format=None)>"
      ]
     },
     "metadata": {},
     "output_type": "display_data"
    },
    {
     "name": "stdout",
     "output_type": "stream",
     "text": [
      "[INFO] Training model for 'MobileNetV3Large'...\n",
      "Epoch 1/10\n",
      "66/66 [==============================] - 7s 68ms/step - loss: 0.6538 - accuracy: 0.6640 - val_loss: 0.3905 - val_accuracy: 0.8254\n",
      "Epoch 2/10\n",
      "66/66 [==============================] - 4s 57ms/step - loss: 0.4846 - accuracy: 0.7597 - val_loss: 0.3330 - val_accuracy: 0.8653\n",
      "Epoch 3/10\n",
      "66/66 [==============================] - 4s 60ms/step - loss: 0.4258 - accuracy: 0.7991 - val_loss: 0.2922 - val_accuracy: 0.8767\n",
      "Epoch 4/10\n",
      "66/66 [==============================] - 4s 58ms/step - loss: 0.3911 - accuracy: 0.8251 - val_loss: 0.2626 - val_accuracy: 0.8880\n",
      "Epoch 5/10\n",
      "66/66 [==============================] - 4s 57ms/step - loss: 0.3550 - accuracy: 0.8327 - val_loss: 0.2227 - val_accuracy: 0.9222\n",
      "Epoch 6/10\n",
      "66/66 [==============================] - 4s 57ms/step - loss: 0.3287 - accuracy: 0.8545 - val_loss: 0.2288 - val_accuracy: 0.9146\n",
      "Epoch 7/10\n",
      "66/66 [==============================] - 4s 57ms/step - loss: 0.3182 - accuracy: 0.8640 - val_loss: 0.2022 - val_accuracy: 0.9317\n",
      "Epoch 8/10\n",
      "66/66 [==============================] - 4s 57ms/step - loss: 0.2978 - accuracy: 0.8730 - val_loss: 0.1904 - val_accuracy: 0.9317\n",
      "Epoch 9/10\n",
      "66/66 [==============================] - 4s 56ms/step - loss: 0.2660 - accuracy: 0.8910 - val_loss: 0.2061 - val_accuracy: 0.9146\n",
      "Epoch 10/10\n",
      "66/66 [==============================] - 4s 57ms/step - loss: 0.2672 - accuracy: 0.8896 - val_loss: 0.1871 - val_accuracy: 0.9336\n",
      "[INFO] Total time: 40.96 s\n",
      "\n",
      "[INFO] preparing model for MobileNetV3Small...\n",
      "Exception encountered when calling layer \"average_pooling2d\" (type AveragePooling2D).\n",
      "\n",
      "Negative dimension size caused by subtracting 7 from 1 for '{{node average_pooling2d/AvgPool}} = AvgPool[T=DT_FLOAT, data_format=\"NHWC\", ksize=[1, 7, 7, 1], padding=\"VALID\", strides=[1, 7, 7, 1]](Placeholder)' with input shapes: [?,1,1,1024].\n",
      "\n",
      "Call arguments received:\n",
      "  • inputs=tf.Tensor(shape=(None, 1, 1, 1024), dtype=float32)\n",
      "Exception encountered when calling layer \"average_pooling2d_1\" (type AveragePooling2D).\n",
      "\n",
      "Negative dimension size caused by subtracting 3 from 1 for '{{node average_pooling2d_1/AvgPool}} = AvgPool[T=DT_FLOAT, data_format=\"NHWC\", ksize=[1, 3, 3, 1], padding=\"VALID\", strides=[1, 3, 3, 1]](Placeholder)' with input shapes: [?,1,1,1024].\n",
      "\n",
      "Call arguments received:\n",
      "  • inputs=tf.Tensor(shape=(None, 1, 1, 1024), dtype=float32)\n",
      "Exception encountered when calling layer \"average_pooling2d_2\" (type AveragePooling2D).\n",
      "\n",
      "Negative dimension size caused by subtracting 2 from 1 for '{{node average_pooling2d_2/AvgPool}} = AvgPool[T=DT_FLOAT, data_format=\"NHWC\", ksize=[1, 2, 2, 1], padding=\"VALID\", strides=[1, 2, 2, 1]](Placeholder)' with input shapes: [?,1,1,1024].\n",
      "\n",
      "Call arguments received:\n",
      "  • inputs=tf.Tensor(shape=(None, 1, 1, 1024), dtype=float32)\n"
     ]
    },
    {
     "data": {
      "text/plain": [
       "<function keras.applications.mobilenet_v3.preprocess_input(x, data_format=None)>"
      ]
     },
     "metadata": {},
     "output_type": "display_data"
    },
    {
     "name": "stdout",
     "output_type": "stream",
     "text": [
      "[INFO] Training model for 'MobileNetV3Small'...\n",
      "Epoch 1/10\n",
      "66/66 [==============================] - 5s 44ms/step - loss: 0.5593 - accuracy: 0.7123 - val_loss: 0.4368 - val_accuracy: 0.8121\n",
      "Epoch 2/10\n",
      "66/66 [==============================] - 2s 31ms/step - loss: 0.4169 - accuracy: 0.8166 - val_loss: 0.3340 - val_accuracy: 0.8615\n",
      "Epoch 3/10\n",
      "66/66 [==============================] - 2s 32ms/step - loss: 0.3790 - accuracy: 0.8251 - val_loss: 0.2997 - val_accuracy: 0.8805\n",
      "Epoch 4/10\n",
      "66/66 [==============================] - 2s 32ms/step - loss: 0.3341 - accuracy: 0.8521 - val_loss: 0.2982 - val_accuracy: 0.8710\n",
      "Epoch 5/10\n",
      "66/66 [==============================] - 2s 32ms/step - loss: 0.3192 - accuracy: 0.8621 - val_loss: 0.2782 - val_accuracy: 0.8786\n",
      "Epoch 6/10\n",
      "66/66 [==============================] - 2s 31ms/step - loss: 0.3074 - accuracy: 0.8664 - val_loss: 0.2560 - val_accuracy: 0.8861\n",
      "Epoch 7/10\n",
      "66/66 [==============================] - 2s 30ms/step - loss: 0.2955 - accuracy: 0.8768 - val_loss: 0.2464 - val_accuracy: 0.8918\n",
      "Epoch 8/10\n",
      "66/66 [==============================] - 2s 31ms/step - loss: 0.2782 - accuracy: 0.8848 - val_loss: 0.2284 - val_accuracy: 0.9032\n",
      "Epoch 9/10\n",
      "66/66 [==============================] - 2s 34ms/step - loss: 0.2658 - accuracy: 0.8848 - val_loss: 0.2201 - val_accuracy: 0.9089\n",
      "Epoch 10/10\n",
      "66/66 [==============================] - 2s 32ms/step - loss: 0.2453 - accuracy: 0.9024 - val_loss: 0.2111 - val_accuracy: 0.9070\n",
      "[INFO] Total time: 24.16 s\n",
      "\n",
      "[INFO] preparing model for NASNetLarge...\n",
      "Downloading data from https://storage.googleapis.com/tensorflow/keras-applications/nasnet/NASNet-large-no-top.h5\n",
      "343613440/343610240 [==============================] - 29s 0us/step\n",
      "343621632/343610240 [==============================] - 29s 0us/step\n"
     ]
    },
    {
     "data": {
      "text/plain": [
       "<function keras.applications.nasnet.preprocess_input(x, data_format=None)>"
      ]
     },
     "metadata": {},
     "output_type": "display_data"
    },
    {
     "name": "stdout",
     "output_type": "stream",
     "text": [
      "[INFO] Training model for 'NASNetLarge'...\n",
      "Epoch 1/10\n",
      "66/66 [==============================] - 52s 580ms/step - loss: 0.6311 - accuracy: 0.6488 - val_loss: 0.5546 - val_accuracy: 0.6262\n",
      "Epoch 2/10\n",
      "66/66 [==============================] - 34s 518ms/step - loss: 0.5331 - accuracy: 0.7455 - val_loss: 0.4772 - val_accuracy: 0.7419\n",
      "Epoch 3/10\n",
      "66/66 [==============================] - 34s 516ms/step - loss: 0.4810 - accuracy: 0.7934 - val_loss: 0.4598 - val_accuracy: 0.7609\n",
      "Epoch 4/10\n",
      "66/66 [==============================] - 34s 516ms/step - loss: 0.4412 - accuracy: 0.8137 - val_loss: 0.4238 - val_accuracy: 0.7951\n",
      "Epoch 5/10\n",
      "66/66 [==============================] - 33s 501ms/step - loss: 0.4152 - accuracy: 0.8275 - val_loss: 0.3875 - val_accuracy: 0.8159\n",
      "Epoch 6/10\n",
      "66/66 [==============================] - 33s 507ms/step - loss: 0.3988 - accuracy: 0.8289 - val_loss: 0.3746 - val_accuracy: 0.8197\n",
      "Epoch 7/10\n",
      "66/66 [==============================] - 34s 521ms/step - loss: 0.3712 - accuracy: 0.8431 - val_loss: 0.3594 - val_accuracy: 0.8235\n",
      "Epoch 8/10\n",
      "66/66 [==============================] - 34s 517ms/step - loss: 0.3521 - accuracy: 0.8550 - val_loss: 0.3334 - val_accuracy: 0.8463\n",
      "Epoch 9/10\n",
      "66/66 [==============================] - 33s 508ms/step - loss: 0.3332 - accuracy: 0.8697 - val_loss: 0.3083 - val_accuracy: 0.8710\n",
      "Epoch 10/10\n",
      "66/66 [==============================] - 34s 517ms/step - loss: 0.3284 - accuracy: 0.8682 - val_loss: 0.3238 - val_accuracy: 0.8520\n",
      "[INFO] Total time: 356.34 s\n",
      "\n",
      "[INFO] preparing model for NASNetMobile...\n",
      "Downloading data from https://storage.googleapis.com/tensorflow/keras-applications/nasnet/NASNet-mobile-no-top.h5\n",
      "19996672/19993432 [==============================] - 1s 0us/step\n",
      "20004864/19993432 [==============================] - 1s 0us/step\n"
     ]
    },
    {
     "data": {
      "text/plain": [
       "<function keras.applications.nasnet.preprocess_input(x, data_format=None)>"
      ]
     },
     "metadata": {},
     "output_type": "display_data"
    },
    {
     "name": "stdout",
     "output_type": "stream",
     "text": [
      "[INFO] Training model for 'NASNetMobile'...\n",
      "Epoch 1/10\n",
      "66/66 [==============================] - 21s 168ms/step - loss: 0.6184 - accuracy: 0.6649 - val_loss: 0.4528 - val_accuracy: 0.8178\n",
      "Epoch 2/10\n",
      "66/66 [==============================] - 8s 117ms/step - loss: 0.4936 - accuracy: 0.7592 - val_loss: 0.3675 - val_accuracy: 0.8672\n",
      "Epoch 3/10\n",
      "66/66 [==============================] - 8s 117ms/step - loss: 0.4528 - accuracy: 0.7839 - val_loss: 0.3814 - val_accuracy: 0.8444\n",
      "Epoch 4/10\n",
      "66/66 [==============================] - 8s 123ms/step - loss: 0.4252 - accuracy: 0.8047 - val_loss: 0.3268 - val_accuracy: 0.8861\n",
      "Epoch 5/10\n",
      "66/66 [==============================] - 8s 117ms/step - loss: 0.4082 - accuracy: 0.8095 - val_loss: 0.3266 - val_accuracy: 0.8824\n",
      "Epoch 6/10\n",
      "66/66 [==============================] - 8s 117ms/step - loss: 0.3757 - accuracy: 0.8232 - val_loss: 0.2945 - val_accuracy: 0.8899\n",
      "Epoch 7/10\n",
      "66/66 [==============================] - 8s 117ms/step - loss: 0.3525 - accuracy: 0.8512 - val_loss: 0.2836 - val_accuracy: 0.8937\n",
      "Epoch 8/10\n",
      "66/66 [==============================] - 8s 123ms/step - loss: 0.3542 - accuracy: 0.8384 - val_loss: 0.2858 - val_accuracy: 0.8918\n",
      "Epoch 9/10\n",
      "66/66 [==============================] - 8s 117ms/step - loss: 0.3412 - accuracy: 0.8483 - val_loss: 0.2663 - val_accuracy: 0.9051\n",
      "Epoch 10/10\n",
      "66/66 [==============================] - 8s 117ms/step - loss: 0.3248 - accuracy: 0.8555 - val_loss: 0.2421 - val_accuracy: 0.9127\n",
      "[INFO] Total time: 91.00 s\n",
      "\n",
      "[INFO] preparing model for ResNet101...\n",
      "Downloading data from https://storage.googleapis.com/tensorflow/keras-applications/resnet/resnet101_weights_tf_dim_ordering_tf_kernels_notop.h5\n",
      "171450368/171446536 [==============================] - 13s 0us/step\n",
      "171458560/171446536 [==============================] - 13s 0us/step\n"
     ]
    },
    {
     "data": {
      "text/plain": [
       "<function keras.applications.resnet.preprocess_input(x, data_format=None)>"
      ]
     },
     "metadata": {},
     "output_type": "display_data"
    },
    {
     "name": "stdout",
     "output_type": "stream",
     "text": [
      "[INFO] Training model for 'ResNet101'...\n",
      "Epoch 1/10\n",
      "66/66 [==============================] - 19s 216ms/step - loss: 0.7011 - accuracy: 0.6981 - val_loss: 0.2956 - val_accuracy: 0.8729\n",
      "Epoch 2/10\n",
      "66/66 [==============================] - 13s 201ms/step - loss: 0.4556 - accuracy: 0.8024 - val_loss: 0.2434 - val_accuracy: 0.8899\n",
      "Epoch 3/10\n",
      "66/66 [==============================] - 13s 193ms/step - loss: 0.3890 - accuracy: 0.8351 - val_loss: 0.2238 - val_accuracy: 0.9051\n",
      "Epoch 4/10\n",
      "66/66 [==============================] - 12s 186ms/step - loss: 0.3337 - accuracy: 0.8512 - val_loss: 0.2449 - val_accuracy: 0.8843\n",
      "Epoch 5/10\n",
      "66/66 [==============================] - 12s 182ms/step - loss: 0.3187 - accuracy: 0.8607 - val_loss: 0.2482 - val_accuracy: 0.8843\n",
      "Epoch 6/10\n",
      "66/66 [==============================] - 12s 182ms/step - loss: 0.2888 - accuracy: 0.8825 - val_loss: 0.2309 - val_accuracy: 0.8899\n",
      "Epoch 7/10\n",
      "66/66 [==============================] - 13s 199ms/step - loss: 0.2651 - accuracy: 0.8839 - val_loss: 0.2069 - val_accuracy: 0.9108\n",
      "Epoch 8/10\n",
      "66/66 [==============================] - 13s 194ms/step - loss: 0.2461 - accuracy: 0.8981 - val_loss: 0.1656 - val_accuracy: 0.9393\n",
      "Epoch 9/10\n",
      "66/66 [==============================] - 13s 201ms/step - loss: 0.2243 - accuracy: 0.9024 - val_loss: 0.1903 - val_accuracy: 0.9184\n",
      "Epoch 10/10\n",
      "66/66 [==============================] - 13s 194ms/step - loss: 0.2228 - accuracy: 0.9033 - val_loss: 0.1601 - val_accuracy: 0.9355\n",
      "[INFO] Total time: 133.19 s\n",
      "\n",
      "[INFO] preparing model for ResNet101V2...\n",
      "Downloading data from https://storage.googleapis.com/tensorflow/keras-applications/resnet/resnet101v2_weights_tf_dim_ordering_tf_kernels_notop.h5\n",
      "171319296/171317808 [==============================] - 22s 0us/step\n",
      "171327488/171317808 [==============================] - 22s 0us/step\n"
     ]
    },
    {
     "data": {
      "text/plain": [
       "<function keras.applications.resnet_v2.preprocess_input(x, data_format=None)>"
      ]
     },
     "metadata": {},
     "output_type": "display_data"
    },
    {
     "name": "stdout",
     "output_type": "stream",
     "text": [
      "[INFO] Training model for 'ResNet101V2'...\n",
      "Epoch 1/10\n",
      "66/66 [==============================] - 19s 228ms/step - loss: 0.9365 - accuracy: 0.6109 - val_loss: 0.7251 - val_accuracy: 0.6319\n",
      "Epoch 2/10\n",
      "66/66 [==============================] - 13s 192ms/step - loss: 0.6519 - accuracy: 0.7052 - val_loss: 0.5722 - val_accuracy: 0.7078\n",
      "Epoch 3/10\n",
      "66/66 [==============================] - 13s 197ms/step - loss: 0.5322 - accuracy: 0.7412 - val_loss: 0.4981 - val_accuracy: 0.7628\n",
      "Epoch 4/10\n",
      "66/66 [==============================] - 13s 199ms/step - loss: 0.4679 - accuracy: 0.7758 - val_loss: 0.4439 - val_accuracy: 0.7894\n",
      "Epoch 5/10\n",
      "66/66 [==============================] - 13s 191ms/step - loss: 0.4155 - accuracy: 0.8085 - val_loss: 0.4349 - val_accuracy: 0.7913\n",
      "Epoch 6/10\n",
      "66/66 [==============================] - 13s 198ms/step - loss: 0.4049 - accuracy: 0.7991 - val_loss: 0.4413 - val_accuracy: 0.7970\n",
      "Epoch 7/10\n",
      "66/66 [==============================] - 13s 191ms/step - loss: 0.3776 - accuracy: 0.8156 - val_loss: 0.3623 - val_accuracy: 0.8235\n",
      "Epoch 8/10\n",
      "66/66 [==============================] - 13s 198ms/step - loss: 0.3629 - accuracy: 0.8360 - val_loss: 0.3920 - val_accuracy: 0.8178\n",
      "Epoch 9/10\n",
      "66/66 [==============================] - 13s 192ms/step - loss: 0.3475 - accuracy: 0.8370 - val_loss: 0.3362 - val_accuracy: 0.8349\n",
      "Epoch 10/10\n",
      "66/66 [==============================] - 13s 197ms/step - loss: 0.3236 - accuracy: 0.8502 - val_loss: 0.3366 - val_accuracy: 0.8406\n",
      "[INFO] Total time: 135.03 s\n",
      "\n",
      "[INFO] preparing model for ResNet152...\n",
      "Downloading data from https://storage.googleapis.com/tensorflow/keras-applications/resnet/resnet152_weights_tf_dim_ordering_tf_kernels_notop.h5\n",
      "234700800/234698864 [==============================] - 26s 0us/step\n",
      "234708992/234698864 [==============================] - 26s 0us/step\n"
     ]
    },
    {
     "data": {
      "text/plain": [
       "<function keras.applications.resnet.preprocess_input(x, data_format=None)>"
      ]
     },
     "metadata": {},
     "output_type": "display_data"
    },
    {
     "name": "stdout",
     "output_type": "stream",
     "text": [
      "[INFO] Training model for 'ResNet152'...\n",
      "Epoch 1/10\n",
      "66/66 [==============================] - ETA: 0s - loss: 0.7861 - accuracy: 0.7109"
     ]
    },
    {
     "ename": "KeyboardInterrupt",
     "evalue": "",
     "output_type": "error",
     "traceback": [
      "\u001b[1;31m---------------------------------------------------------------------------\u001b[0m",
      "\u001b[1;31mKeyboardInterrupt\u001b[0m                         Traceback (most recent call last)",
      "\u001b[1;32m~\\AppData\\Local\\Temp/ipykernel_8404/4143223885.py\u001b[0m in \u001b[0;36m<module>\u001b[1;34m\u001b[0m\n\u001b[0;32m     15\u001b[0m     \u001b[0mprint\u001b[0m\u001b[1;33m(\u001b[0m\u001b[1;34mf\"[INFO] Training model for '{arch_name}'...\"\u001b[0m\u001b[1;33m)\u001b[0m\u001b[1;33m\u001b[0m\u001b[1;33m\u001b[0m\u001b[0m\n\u001b[0;32m     16\u001b[0m     \u001b[0mstart_time\u001b[0m \u001b[1;33m=\u001b[0m \u001b[0mtime\u001b[0m\u001b[1;33m.\u001b[0m\u001b[0mperf_counter\u001b[0m\u001b[1;33m(\u001b[0m\u001b[1;33m)\u001b[0m\u001b[1;33m\u001b[0m\u001b[1;33m\u001b[0m\u001b[0m\n\u001b[1;32m---> 17\u001b[1;33m     H = model.fit(\n\u001b[0m\u001b[0;32m     18\u001b[0m         \u001b[0mtrain_ds\u001b[0m\u001b[1;33m,\u001b[0m\u001b[1;33m\u001b[0m\u001b[1;33m\u001b[0m\u001b[0m\n\u001b[0;32m     19\u001b[0m         \u001b[0mvalidation_data\u001b[0m\u001b[1;33m=\u001b[0m\u001b[0mval_ds\u001b[0m\u001b[1;33m,\u001b[0m\u001b[1;33m\u001b[0m\u001b[1;33m\u001b[0m\u001b[0m\n",
      "\u001b[1;32m~\\Anaconda3\\envs\\tf\\lib\\site-packages\\keras\\utils\\traceback_utils.py\u001b[0m in \u001b[0;36merror_handler\u001b[1;34m(*args, **kwargs)\u001b[0m\n\u001b[0;32m     62\u001b[0m     \u001b[0mfiltered_tb\u001b[0m \u001b[1;33m=\u001b[0m \u001b[1;32mNone\u001b[0m\u001b[1;33m\u001b[0m\u001b[1;33m\u001b[0m\u001b[0m\n\u001b[0;32m     63\u001b[0m     \u001b[1;32mtry\u001b[0m\u001b[1;33m:\u001b[0m\u001b[1;33m\u001b[0m\u001b[1;33m\u001b[0m\u001b[0m\n\u001b[1;32m---> 64\u001b[1;33m       \u001b[1;32mreturn\u001b[0m \u001b[0mfn\u001b[0m\u001b[1;33m(\u001b[0m\u001b[1;33m*\u001b[0m\u001b[0margs\u001b[0m\u001b[1;33m,\u001b[0m \u001b[1;33m**\u001b[0m\u001b[0mkwargs\u001b[0m\u001b[1;33m)\u001b[0m\u001b[1;33m\u001b[0m\u001b[1;33m\u001b[0m\u001b[0m\n\u001b[0m\u001b[0;32m     65\u001b[0m     \u001b[1;32mexcept\u001b[0m \u001b[0mException\u001b[0m \u001b[1;32mas\u001b[0m \u001b[0me\u001b[0m\u001b[1;33m:\u001b[0m  \u001b[1;31m# pylint: disable=broad-except\u001b[0m\u001b[1;33m\u001b[0m\u001b[1;33m\u001b[0m\u001b[0m\n\u001b[0;32m     66\u001b[0m       \u001b[0mfiltered_tb\u001b[0m \u001b[1;33m=\u001b[0m \u001b[0m_process_traceback_frames\u001b[0m\u001b[1;33m(\u001b[0m\u001b[0me\u001b[0m\u001b[1;33m.\u001b[0m\u001b[0m__traceback__\u001b[0m\u001b[1;33m)\u001b[0m\u001b[1;33m\u001b[0m\u001b[1;33m\u001b[0m\u001b[0m\n",
      "\u001b[1;32m~\\Anaconda3\\envs\\tf\\lib\\site-packages\\keras\\engine\\training.py\u001b[0m in \u001b[0;36mfit\u001b[1;34m(self, x, y, batch_size, epochs, verbose, callbacks, validation_split, validation_data, shuffle, class_weight, sample_weight, initial_epoch, steps_per_epoch, validation_steps, validation_batch_size, validation_freq, max_queue_size, workers, use_multiprocessing)\u001b[0m\n\u001b[0;32m   1250\u001b[0m                 \u001b[0mmodel\u001b[0m\u001b[1;33m=\u001b[0m\u001b[0mself\u001b[0m\u001b[1;33m,\u001b[0m\u001b[1;33m\u001b[0m\u001b[1;33m\u001b[0m\u001b[0m\n\u001b[0;32m   1251\u001b[0m                 steps_per_execution=self._steps_per_execution)\n\u001b[1;32m-> 1252\u001b[1;33m           val_logs = self.evaluate(\n\u001b[0m\u001b[0;32m   1253\u001b[0m               \u001b[0mx\u001b[0m\u001b[1;33m=\u001b[0m\u001b[0mval_x\u001b[0m\u001b[1;33m,\u001b[0m\u001b[1;33m\u001b[0m\u001b[1;33m\u001b[0m\u001b[0m\n\u001b[0;32m   1254\u001b[0m               \u001b[0my\u001b[0m\u001b[1;33m=\u001b[0m\u001b[0mval_y\u001b[0m\u001b[1;33m,\u001b[0m\u001b[1;33m\u001b[0m\u001b[1;33m\u001b[0m\u001b[0m\n",
      "\u001b[1;32m~\\Anaconda3\\envs\\tf\\lib\\site-packages\\keras\\utils\\traceback_utils.py\u001b[0m in \u001b[0;36merror_handler\u001b[1;34m(*args, **kwargs)\u001b[0m\n\u001b[0;32m     62\u001b[0m     \u001b[0mfiltered_tb\u001b[0m \u001b[1;33m=\u001b[0m \u001b[1;32mNone\u001b[0m\u001b[1;33m\u001b[0m\u001b[1;33m\u001b[0m\u001b[0m\n\u001b[0;32m     63\u001b[0m     \u001b[1;32mtry\u001b[0m\u001b[1;33m:\u001b[0m\u001b[1;33m\u001b[0m\u001b[1;33m\u001b[0m\u001b[0m\n\u001b[1;32m---> 64\u001b[1;33m       \u001b[1;32mreturn\u001b[0m \u001b[0mfn\u001b[0m\u001b[1;33m(\u001b[0m\u001b[1;33m*\u001b[0m\u001b[0margs\u001b[0m\u001b[1;33m,\u001b[0m \u001b[1;33m**\u001b[0m\u001b[0mkwargs\u001b[0m\u001b[1;33m)\u001b[0m\u001b[1;33m\u001b[0m\u001b[1;33m\u001b[0m\u001b[0m\n\u001b[0m\u001b[0;32m     65\u001b[0m     \u001b[1;32mexcept\u001b[0m \u001b[0mException\u001b[0m \u001b[1;32mas\u001b[0m \u001b[0me\u001b[0m\u001b[1;33m:\u001b[0m  \u001b[1;31m# pylint: disable=broad-except\u001b[0m\u001b[1;33m\u001b[0m\u001b[1;33m\u001b[0m\u001b[0m\n\u001b[0;32m     66\u001b[0m       \u001b[0mfiltered_tb\u001b[0m \u001b[1;33m=\u001b[0m \u001b[0m_process_traceback_frames\u001b[0m\u001b[1;33m(\u001b[0m\u001b[0me\u001b[0m\u001b[1;33m.\u001b[0m\u001b[0m__traceback__\u001b[0m\u001b[1;33m)\u001b[0m\u001b[1;33m\u001b[0m\u001b[1;33m\u001b[0m\u001b[0m\n",
      "\u001b[1;32m~\\Anaconda3\\envs\\tf\\lib\\site-packages\\keras\\engine\\training.py\u001b[0m in \u001b[0;36mevaluate\u001b[1;34m(self, x, y, batch_size, verbose, sample_weight, steps, callbacks, max_queue_size, workers, use_multiprocessing, return_dict, **kwargs)\u001b[0m\n\u001b[0;32m   1535\u001b[0m             \u001b[1;32mwith\u001b[0m \u001b[0mtf\u001b[0m\u001b[1;33m.\u001b[0m\u001b[0mprofiler\u001b[0m\u001b[1;33m.\u001b[0m\u001b[0mexperimental\u001b[0m\u001b[1;33m.\u001b[0m\u001b[0mTrace\u001b[0m\u001b[1;33m(\u001b[0m\u001b[1;34m'test'\u001b[0m\u001b[1;33m,\u001b[0m \u001b[0mstep_num\u001b[0m\u001b[1;33m=\u001b[0m\u001b[0mstep\u001b[0m\u001b[1;33m,\u001b[0m \u001b[0m_r\u001b[0m\u001b[1;33m=\u001b[0m\u001b[1;36m1\u001b[0m\u001b[1;33m)\u001b[0m\u001b[1;33m:\u001b[0m\u001b[1;33m\u001b[0m\u001b[1;33m\u001b[0m\u001b[0m\n\u001b[0;32m   1536\u001b[0m               \u001b[0mcallbacks\u001b[0m\u001b[1;33m.\u001b[0m\u001b[0mon_test_batch_begin\u001b[0m\u001b[1;33m(\u001b[0m\u001b[0mstep\u001b[0m\u001b[1;33m)\u001b[0m\u001b[1;33m\u001b[0m\u001b[1;33m\u001b[0m\u001b[0m\n\u001b[1;32m-> 1537\u001b[1;33m               \u001b[0mtmp_logs\u001b[0m \u001b[1;33m=\u001b[0m \u001b[0mself\u001b[0m\u001b[1;33m.\u001b[0m\u001b[0mtest_function\u001b[0m\u001b[1;33m(\u001b[0m\u001b[0miterator\u001b[0m\u001b[1;33m)\u001b[0m\u001b[1;33m\u001b[0m\u001b[1;33m\u001b[0m\u001b[0m\n\u001b[0m\u001b[0;32m   1538\u001b[0m               \u001b[1;32mif\u001b[0m \u001b[0mdata_handler\u001b[0m\u001b[1;33m.\u001b[0m\u001b[0mshould_sync\u001b[0m\u001b[1;33m:\u001b[0m\u001b[1;33m\u001b[0m\u001b[1;33m\u001b[0m\u001b[0m\n\u001b[0;32m   1539\u001b[0m                 \u001b[0mcontext\u001b[0m\u001b[1;33m.\u001b[0m\u001b[0masync_wait\u001b[0m\u001b[1;33m(\u001b[0m\u001b[1;33m)\u001b[0m\u001b[1;33m\u001b[0m\u001b[1;33m\u001b[0m\u001b[0m\n",
      "\u001b[1;32m~\\Anaconda3\\envs\\tf\\lib\\site-packages\\tensorflow\\python\\util\\traceback_utils.py\u001b[0m in \u001b[0;36merror_handler\u001b[1;34m(*args, **kwargs)\u001b[0m\n\u001b[0;32m    148\u001b[0m     \u001b[0mfiltered_tb\u001b[0m \u001b[1;33m=\u001b[0m \u001b[1;32mNone\u001b[0m\u001b[1;33m\u001b[0m\u001b[1;33m\u001b[0m\u001b[0m\n\u001b[0;32m    149\u001b[0m     \u001b[1;32mtry\u001b[0m\u001b[1;33m:\u001b[0m\u001b[1;33m\u001b[0m\u001b[1;33m\u001b[0m\u001b[0m\n\u001b[1;32m--> 150\u001b[1;33m       \u001b[1;32mreturn\u001b[0m \u001b[0mfn\u001b[0m\u001b[1;33m(\u001b[0m\u001b[1;33m*\u001b[0m\u001b[0margs\u001b[0m\u001b[1;33m,\u001b[0m \u001b[1;33m**\u001b[0m\u001b[0mkwargs\u001b[0m\u001b[1;33m)\u001b[0m\u001b[1;33m\u001b[0m\u001b[1;33m\u001b[0m\u001b[0m\n\u001b[0m\u001b[0;32m    151\u001b[0m     \u001b[1;32mexcept\u001b[0m \u001b[0mException\u001b[0m \u001b[1;32mas\u001b[0m \u001b[0me\u001b[0m\u001b[1;33m:\u001b[0m\u001b[1;33m\u001b[0m\u001b[1;33m\u001b[0m\u001b[0m\n\u001b[0;32m    152\u001b[0m       \u001b[0mfiltered_tb\u001b[0m \u001b[1;33m=\u001b[0m \u001b[0m_process_traceback_frames\u001b[0m\u001b[1;33m(\u001b[0m\u001b[0me\u001b[0m\u001b[1;33m.\u001b[0m\u001b[0m__traceback__\u001b[0m\u001b[1;33m)\u001b[0m\u001b[1;33m\u001b[0m\u001b[1;33m\u001b[0m\u001b[0m\n",
      "\u001b[1;32m~\\Anaconda3\\envs\\tf\\lib\\site-packages\\tensorflow\\python\\eager\\def_function.py\u001b[0m in \u001b[0;36m__call__\u001b[1;34m(self, *args, **kwds)\u001b[0m\n\u001b[0;32m    908\u001b[0m \u001b[1;33m\u001b[0m\u001b[0m\n\u001b[0;32m    909\u001b[0m       \u001b[1;32mwith\u001b[0m \u001b[0mOptionalXlaContext\u001b[0m\u001b[1;33m(\u001b[0m\u001b[0mself\u001b[0m\u001b[1;33m.\u001b[0m\u001b[0m_jit_compile\u001b[0m\u001b[1;33m)\u001b[0m\u001b[1;33m:\u001b[0m\u001b[1;33m\u001b[0m\u001b[1;33m\u001b[0m\u001b[0m\n\u001b[1;32m--> 910\u001b[1;33m         \u001b[0mresult\u001b[0m \u001b[1;33m=\u001b[0m \u001b[0mself\u001b[0m\u001b[1;33m.\u001b[0m\u001b[0m_call\u001b[0m\u001b[1;33m(\u001b[0m\u001b[1;33m*\u001b[0m\u001b[0margs\u001b[0m\u001b[1;33m,\u001b[0m \u001b[1;33m**\u001b[0m\u001b[0mkwds\u001b[0m\u001b[1;33m)\u001b[0m\u001b[1;33m\u001b[0m\u001b[1;33m\u001b[0m\u001b[0m\n\u001b[0m\u001b[0;32m    911\u001b[0m \u001b[1;33m\u001b[0m\u001b[0m\n\u001b[0;32m    912\u001b[0m       \u001b[0mnew_tracing_count\u001b[0m \u001b[1;33m=\u001b[0m \u001b[0mself\u001b[0m\u001b[1;33m.\u001b[0m\u001b[0mexperimental_get_tracing_count\u001b[0m\u001b[1;33m(\u001b[0m\u001b[1;33m)\u001b[0m\u001b[1;33m\u001b[0m\u001b[1;33m\u001b[0m\u001b[0m\n",
      "\u001b[1;32m~\\Anaconda3\\envs\\tf\\lib\\site-packages\\tensorflow\\python\\eager\\def_function.py\u001b[0m in \u001b[0;36m_call\u001b[1;34m(self, *args, **kwds)\u001b[0m\n\u001b[0;32m    956\u001b[0m       \u001b[1;31m# This is the first call of __call__, so we have to initialize.\u001b[0m\u001b[1;33m\u001b[0m\u001b[1;33m\u001b[0m\u001b[1;33m\u001b[0m\u001b[0m\n\u001b[0;32m    957\u001b[0m       \u001b[0minitializers\u001b[0m \u001b[1;33m=\u001b[0m \u001b[1;33m[\u001b[0m\u001b[1;33m]\u001b[0m\u001b[1;33m\u001b[0m\u001b[1;33m\u001b[0m\u001b[0m\n\u001b[1;32m--> 958\u001b[1;33m       \u001b[0mself\u001b[0m\u001b[1;33m.\u001b[0m\u001b[0m_initialize\u001b[0m\u001b[1;33m(\u001b[0m\u001b[0margs\u001b[0m\u001b[1;33m,\u001b[0m \u001b[0mkwds\u001b[0m\u001b[1;33m,\u001b[0m \u001b[0madd_initializers_to\u001b[0m\u001b[1;33m=\u001b[0m\u001b[0minitializers\u001b[0m\u001b[1;33m)\u001b[0m\u001b[1;33m\u001b[0m\u001b[1;33m\u001b[0m\u001b[0m\n\u001b[0m\u001b[0;32m    959\u001b[0m     \u001b[1;32mfinally\u001b[0m\u001b[1;33m:\u001b[0m\u001b[1;33m\u001b[0m\u001b[1;33m\u001b[0m\u001b[0m\n\u001b[0;32m    960\u001b[0m       \u001b[1;31m# At this point we know that the initialization is complete (or less\u001b[0m\u001b[1;33m\u001b[0m\u001b[1;33m\u001b[0m\u001b[1;33m\u001b[0m\u001b[0m\n",
      "\u001b[1;32m~\\Anaconda3\\envs\\tf\\lib\\site-packages\\tensorflow\\python\\eager\\def_function.py\u001b[0m in \u001b[0;36m_initialize\u001b[1;34m(self, args, kwds, add_initializers_to)\u001b[0m\n\u001b[0;32m    778\u001b[0m     \u001b[0mself\u001b[0m\u001b[1;33m.\u001b[0m\u001b[0m_graph_deleter\u001b[0m \u001b[1;33m=\u001b[0m \u001b[0mFunctionDeleter\u001b[0m\u001b[1;33m(\u001b[0m\u001b[0mself\u001b[0m\u001b[1;33m.\u001b[0m\u001b[0m_lifted_initializer_graph\u001b[0m\u001b[1;33m)\u001b[0m\u001b[1;33m\u001b[0m\u001b[1;33m\u001b[0m\u001b[0m\n\u001b[0;32m    779\u001b[0m     self._concrete_stateful_fn = (\n\u001b[1;32m--> 780\u001b[1;33m         self._stateful_fn._get_concrete_function_internal_garbage_collected(  # pylint: disable=protected-access\n\u001b[0m\u001b[0;32m    781\u001b[0m             *args, **kwds))\n\u001b[0;32m    782\u001b[0m \u001b[1;33m\u001b[0m\u001b[0m\n",
      "\u001b[1;32m~\\Anaconda3\\envs\\tf\\lib\\site-packages\\tensorflow\\python\\eager\\function.py\u001b[0m in \u001b[0;36m_get_concrete_function_internal_garbage_collected\u001b[1;34m(self, *args, **kwargs)\u001b[0m\n\u001b[0;32m   3155\u001b[0m       \u001b[0margs\u001b[0m\u001b[1;33m,\u001b[0m \u001b[0mkwargs\u001b[0m \u001b[1;33m=\u001b[0m \u001b[1;32mNone\u001b[0m\u001b[1;33m,\u001b[0m \u001b[1;32mNone\u001b[0m\u001b[1;33m\u001b[0m\u001b[1;33m\u001b[0m\u001b[0m\n\u001b[0;32m   3156\u001b[0m     \u001b[1;32mwith\u001b[0m \u001b[0mself\u001b[0m\u001b[1;33m.\u001b[0m\u001b[0m_lock\u001b[0m\u001b[1;33m:\u001b[0m\u001b[1;33m\u001b[0m\u001b[1;33m\u001b[0m\u001b[0m\n\u001b[1;32m-> 3157\u001b[1;33m       \u001b[0mgraph_function\u001b[0m\u001b[1;33m,\u001b[0m \u001b[0m_\u001b[0m \u001b[1;33m=\u001b[0m \u001b[0mself\u001b[0m\u001b[1;33m.\u001b[0m\u001b[0m_maybe_define_function\u001b[0m\u001b[1;33m(\u001b[0m\u001b[0margs\u001b[0m\u001b[1;33m,\u001b[0m \u001b[0mkwargs\u001b[0m\u001b[1;33m)\u001b[0m\u001b[1;33m\u001b[0m\u001b[1;33m\u001b[0m\u001b[0m\n\u001b[0m\u001b[0;32m   3158\u001b[0m     \u001b[1;32mreturn\u001b[0m \u001b[0mgraph_function\u001b[0m\u001b[1;33m\u001b[0m\u001b[1;33m\u001b[0m\u001b[0m\n\u001b[0;32m   3159\u001b[0m \u001b[1;33m\u001b[0m\u001b[0m\n",
      "\u001b[1;32m~\\Anaconda3\\envs\\tf\\lib\\site-packages\\tensorflow\\python\\eager\\function.py\u001b[0m in \u001b[0;36m_maybe_define_function\u001b[1;34m(self, args, kwargs)\u001b[0m\n\u001b[0;32m   3555\u001b[0m \u001b[1;33m\u001b[0m\u001b[0m\n\u001b[0;32m   3556\u001b[0m           \u001b[0mself\u001b[0m\u001b[1;33m.\u001b[0m\u001b[0m_function_cache\u001b[0m\u001b[1;33m.\u001b[0m\u001b[0mmissed\u001b[0m\u001b[1;33m.\u001b[0m\u001b[0madd\u001b[0m\u001b[1;33m(\u001b[0m\u001b[0mcall_context_key\u001b[0m\u001b[1;33m)\u001b[0m\u001b[1;33m\u001b[0m\u001b[1;33m\u001b[0m\u001b[0m\n\u001b[1;32m-> 3557\u001b[1;33m           \u001b[0mgraph_function\u001b[0m \u001b[1;33m=\u001b[0m \u001b[0mself\u001b[0m\u001b[1;33m.\u001b[0m\u001b[0m_create_graph_function\u001b[0m\u001b[1;33m(\u001b[0m\u001b[0margs\u001b[0m\u001b[1;33m,\u001b[0m \u001b[0mkwargs\u001b[0m\u001b[1;33m)\u001b[0m\u001b[1;33m\u001b[0m\u001b[1;33m\u001b[0m\u001b[0m\n\u001b[0m\u001b[0;32m   3558\u001b[0m           \u001b[0mself\u001b[0m\u001b[1;33m.\u001b[0m\u001b[0m_function_cache\u001b[0m\u001b[1;33m.\u001b[0m\u001b[0mprimary\u001b[0m\u001b[1;33m[\u001b[0m\u001b[0mcache_key\u001b[0m\u001b[1;33m]\u001b[0m \u001b[1;33m=\u001b[0m \u001b[0mgraph_function\u001b[0m\u001b[1;33m\u001b[0m\u001b[1;33m\u001b[0m\u001b[0m\n\u001b[0;32m   3559\u001b[0m \u001b[1;33m\u001b[0m\u001b[0m\n",
      "\u001b[1;32m~\\Anaconda3\\envs\\tf\\lib\\site-packages\\tensorflow\\python\\eager\\function.py\u001b[0m in \u001b[0;36m_create_graph_function\u001b[1;34m(self, args, kwargs, override_flat_arg_shapes)\u001b[0m\n\u001b[0;32m   3390\u001b[0m     \u001b[0marg_names\u001b[0m \u001b[1;33m=\u001b[0m \u001b[0mbase_arg_names\u001b[0m \u001b[1;33m+\u001b[0m \u001b[0mmissing_arg_names\u001b[0m\u001b[1;33m\u001b[0m\u001b[1;33m\u001b[0m\u001b[0m\n\u001b[0;32m   3391\u001b[0m     graph_function = ConcreteFunction(\n\u001b[1;32m-> 3392\u001b[1;33m         func_graph_module.func_graph_from_py_func(\n\u001b[0m\u001b[0;32m   3393\u001b[0m             \u001b[0mself\u001b[0m\u001b[1;33m.\u001b[0m\u001b[0m_name\u001b[0m\u001b[1;33m,\u001b[0m\u001b[1;33m\u001b[0m\u001b[1;33m\u001b[0m\u001b[0m\n\u001b[0;32m   3394\u001b[0m             \u001b[0mself\u001b[0m\u001b[1;33m.\u001b[0m\u001b[0m_python_function\u001b[0m\u001b[1;33m,\u001b[0m\u001b[1;33m\u001b[0m\u001b[1;33m\u001b[0m\u001b[0m\n",
      "\u001b[1;32m~\\Anaconda3\\envs\\tf\\lib\\site-packages\\tensorflow\\python\\framework\\func_graph.py\u001b[0m in \u001b[0;36mfunc_graph_from_py_func\u001b[1;34m(name, python_func, args, kwargs, signature, func_graph, autograph, autograph_options, add_control_dependencies, arg_names, op_return_value, collections, capture_by_value, override_flat_arg_shapes, acd_record_initial_resource_uses)\u001b[0m\n\u001b[0;32m   1141\u001b[0m         \u001b[0m_\u001b[0m\u001b[1;33m,\u001b[0m \u001b[0moriginal_func\u001b[0m \u001b[1;33m=\u001b[0m \u001b[0mtf_decorator\u001b[0m\u001b[1;33m.\u001b[0m\u001b[0munwrap\u001b[0m\u001b[1;33m(\u001b[0m\u001b[0mpython_func\u001b[0m\u001b[1;33m)\u001b[0m\u001b[1;33m\u001b[0m\u001b[1;33m\u001b[0m\u001b[0m\n\u001b[0;32m   1142\u001b[0m \u001b[1;33m\u001b[0m\u001b[0m\n\u001b[1;32m-> 1143\u001b[1;33m       \u001b[0mfunc_outputs\u001b[0m \u001b[1;33m=\u001b[0m \u001b[0mpython_func\u001b[0m\u001b[1;33m(\u001b[0m\u001b[1;33m*\u001b[0m\u001b[0mfunc_args\u001b[0m\u001b[1;33m,\u001b[0m \u001b[1;33m**\u001b[0m\u001b[0mfunc_kwargs\u001b[0m\u001b[1;33m)\u001b[0m\u001b[1;33m\u001b[0m\u001b[1;33m\u001b[0m\u001b[0m\n\u001b[0m\u001b[0;32m   1144\u001b[0m \u001b[1;33m\u001b[0m\u001b[0m\n\u001b[0;32m   1145\u001b[0m       \u001b[1;31m# invariant: `func_outputs` contains only Tensors, CompositeTensors,\u001b[0m\u001b[1;33m\u001b[0m\u001b[1;33m\u001b[0m\u001b[1;33m\u001b[0m\u001b[0m\n",
      "\u001b[1;32m~\\Anaconda3\\envs\\tf\\lib\\site-packages\\tensorflow\\python\\eager\\def_function.py\u001b[0m in \u001b[0;36mwrapped_fn\u001b[1;34m(*args, **kwds)\u001b[0m\n\u001b[0;32m    670\u001b[0m         \u001b[1;31m# the function a weak reference to itself to avoid a reference cycle.\u001b[0m\u001b[1;33m\u001b[0m\u001b[1;33m\u001b[0m\u001b[1;33m\u001b[0m\u001b[0m\n\u001b[0;32m    671\u001b[0m         \u001b[1;32mwith\u001b[0m \u001b[0mOptionalXlaContext\u001b[0m\u001b[1;33m(\u001b[0m\u001b[0mcompile_with_xla\u001b[0m\u001b[1;33m)\u001b[0m\u001b[1;33m:\u001b[0m\u001b[1;33m\u001b[0m\u001b[1;33m\u001b[0m\u001b[0m\n\u001b[1;32m--> 672\u001b[1;33m           \u001b[0mout\u001b[0m \u001b[1;33m=\u001b[0m \u001b[0mweak_wrapped_fn\u001b[0m\u001b[1;33m(\u001b[0m\u001b[1;33m)\u001b[0m\u001b[1;33m.\u001b[0m\u001b[0m__wrapped__\u001b[0m\u001b[1;33m(\u001b[0m\u001b[1;33m*\u001b[0m\u001b[0margs\u001b[0m\u001b[1;33m,\u001b[0m \u001b[1;33m**\u001b[0m\u001b[0mkwds\u001b[0m\u001b[1;33m)\u001b[0m\u001b[1;33m\u001b[0m\u001b[1;33m\u001b[0m\u001b[0m\n\u001b[0m\u001b[0;32m    673\u001b[0m         \u001b[1;32mreturn\u001b[0m \u001b[0mout\u001b[0m\u001b[1;33m\u001b[0m\u001b[1;33m\u001b[0m\u001b[0m\n\u001b[0;32m    674\u001b[0m \u001b[1;33m\u001b[0m\u001b[0m\n",
      "\u001b[1;32m~\\Anaconda3\\envs\\tf\\lib\\site-packages\\tensorflow\\python\\framework\\func_graph.py\u001b[0m in \u001b[0;36mautograph_handler\u001b[1;34m(*args, **kwargs)\u001b[0m\n\u001b[0;32m   1116\u001b[0m           \u001b[1;31m# TODO(mdan): Push this block higher in tf.function's call stack.\u001b[0m\u001b[1;33m\u001b[0m\u001b[1;33m\u001b[0m\u001b[1;33m\u001b[0m\u001b[0m\n\u001b[0;32m   1117\u001b[0m           \u001b[1;32mtry\u001b[0m\u001b[1;33m:\u001b[0m\u001b[1;33m\u001b[0m\u001b[1;33m\u001b[0m\u001b[0m\n\u001b[1;32m-> 1118\u001b[1;33m             return autograph.converted_call(\n\u001b[0m\u001b[0;32m   1119\u001b[0m                 \u001b[0moriginal_func\u001b[0m\u001b[1;33m,\u001b[0m\u001b[1;33m\u001b[0m\u001b[1;33m\u001b[0m\u001b[0m\n\u001b[0;32m   1120\u001b[0m                 \u001b[0margs\u001b[0m\u001b[1;33m,\u001b[0m\u001b[1;33m\u001b[0m\u001b[1;33m\u001b[0m\u001b[0m\n",
      "\u001b[1;32m~\\Anaconda3\\envs\\tf\\lib\\site-packages\\tensorflow\\python\\autograph\\impl\\api.py\u001b[0m in \u001b[0;36mconverted_call\u001b[1;34m(f, args, kwargs, caller_fn_scope, options)\u001b[0m\n\u001b[0;32m    443\u001b[0m     \u001b[1;32mtry\u001b[0m\u001b[1;33m:\u001b[0m\u001b[1;33m\u001b[0m\u001b[1;33m\u001b[0m\u001b[0m\n\u001b[0;32m    444\u001b[0m       \u001b[1;32mif\u001b[0m \u001b[0mkwargs\u001b[0m \u001b[1;32mis\u001b[0m \u001b[1;32mnot\u001b[0m \u001b[1;32mNone\u001b[0m\u001b[1;33m:\u001b[0m\u001b[1;33m\u001b[0m\u001b[1;33m\u001b[0m\u001b[0m\n\u001b[1;32m--> 445\u001b[1;33m         \u001b[0mresult\u001b[0m \u001b[1;33m=\u001b[0m \u001b[0mconverted_f\u001b[0m\u001b[1;33m(\u001b[0m\u001b[1;33m*\u001b[0m\u001b[0meffective_args\u001b[0m\u001b[1;33m,\u001b[0m \u001b[1;33m**\u001b[0m\u001b[0mkwargs\u001b[0m\u001b[1;33m)\u001b[0m\u001b[1;33m\u001b[0m\u001b[1;33m\u001b[0m\u001b[0m\n\u001b[0m\u001b[0;32m    446\u001b[0m       \u001b[1;32melse\u001b[0m\u001b[1;33m:\u001b[0m\u001b[1;33m\u001b[0m\u001b[1;33m\u001b[0m\u001b[0m\n\u001b[0;32m    447\u001b[0m         \u001b[0mresult\u001b[0m \u001b[1;33m=\u001b[0m \u001b[0mconverted_f\u001b[0m\u001b[1;33m(\u001b[0m\u001b[1;33m*\u001b[0m\u001b[0meffective_args\u001b[0m\u001b[1;33m)\u001b[0m\u001b[1;33m\u001b[0m\u001b[1;33m\u001b[0m\u001b[0m\n",
      "\u001b[1;32m~\\Anaconda3\\envs\\tf\\lib\\site-packages\\keras\\engine\\training.py\u001b[0m in \u001b[0;36mtf__test_function\u001b[1;34m(iterator)\u001b[0m\n\u001b[0;32m     13\u001b[0m                 \u001b[1;32mtry\u001b[0m\u001b[1;33m:\u001b[0m\u001b[1;33m\u001b[0m\u001b[1;33m\u001b[0m\u001b[0m\n\u001b[0;32m     14\u001b[0m                     \u001b[0mdo_return\u001b[0m \u001b[1;33m=\u001b[0m \u001b[1;32mTrue\u001b[0m\u001b[1;33m\u001b[0m\u001b[1;33m\u001b[0m\u001b[0m\n\u001b[1;32m---> 15\u001b[1;33m                     \u001b[0mretval_\u001b[0m \u001b[1;33m=\u001b[0m \u001b[0mag__\u001b[0m\u001b[1;33m.\u001b[0m\u001b[0mconverted_call\u001b[0m\u001b[1;33m(\u001b[0m\u001b[0mag__\u001b[0m\u001b[1;33m.\u001b[0m\u001b[0mld\u001b[0m\u001b[1;33m(\u001b[0m\u001b[0mstep_function\u001b[0m\u001b[1;33m)\u001b[0m\u001b[1;33m,\u001b[0m \u001b[1;33m(\u001b[0m\u001b[0mag__\u001b[0m\u001b[1;33m.\u001b[0m\u001b[0mld\u001b[0m\u001b[1;33m(\u001b[0m\u001b[0mself\u001b[0m\u001b[1;33m)\u001b[0m\u001b[1;33m,\u001b[0m \u001b[0mag__\u001b[0m\u001b[1;33m.\u001b[0m\u001b[0mld\u001b[0m\u001b[1;33m(\u001b[0m\u001b[0miterator\u001b[0m\u001b[1;33m)\u001b[0m\u001b[1;33m)\u001b[0m\u001b[1;33m,\u001b[0m \u001b[1;32mNone\u001b[0m\u001b[1;33m,\u001b[0m \u001b[0mfscope\u001b[0m\u001b[1;33m)\u001b[0m\u001b[1;33m\u001b[0m\u001b[1;33m\u001b[0m\u001b[0m\n\u001b[0m\u001b[0;32m     16\u001b[0m                 \u001b[1;32mexcept\u001b[0m\u001b[1;33m:\u001b[0m\u001b[1;33m\u001b[0m\u001b[1;33m\u001b[0m\u001b[0m\n\u001b[0;32m     17\u001b[0m                     \u001b[0mdo_return\u001b[0m \u001b[1;33m=\u001b[0m \u001b[1;32mFalse\u001b[0m\u001b[1;33m\u001b[0m\u001b[1;33m\u001b[0m\u001b[0m\n",
      "\u001b[1;32m~\\Anaconda3\\envs\\tf\\lib\\site-packages\\tensorflow\\python\\autograph\\impl\\api.py\u001b[0m in \u001b[0;36mconverted_call\u001b[1;34m(f, args, kwargs, caller_fn_scope, options)\u001b[0m\n\u001b[0;32m    381\u001b[0m \u001b[1;33m\u001b[0m\u001b[0m\n\u001b[0;32m    382\u001b[0m   \u001b[1;32mif\u001b[0m \u001b[1;32mnot\u001b[0m \u001b[0moptions\u001b[0m\u001b[1;33m.\u001b[0m\u001b[0muser_requested\u001b[0m \u001b[1;32mand\u001b[0m \u001b[0mconversion\u001b[0m\u001b[1;33m.\u001b[0m\u001b[0mis_allowlisted\u001b[0m\u001b[1;33m(\u001b[0m\u001b[0mf\u001b[0m\u001b[1;33m)\u001b[0m\u001b[1;33m:\u001b[0m\u001b[1;33m\u001b[0m\u001b[1;33m\u001b[0m\u001b[0m\n\u001b[1;32m--> 383\u001b[1;33m     \u001b[1;32mreturn\u001b[0m \u001b[0m_call_unconverted\u001b[0m\u001b[1;33m(\u001b[0m\u001b[0mf\u001b[0m\u001b[1;33m,\u001b[0m \u001b[0margs\u001b[0m\u001b[1;33m,\u001b[0m \u001b[0mkwargs\u001b[0m\u001b[1;33m,\u001b[0m \u001b[0moptions\u001b[0m\u001b[1;33m)\u001b[0m\u001b[1;33m\u001b[0m\u001b[1;33m\u001b[0m\u001b[0m\n\u001b[0m\u001b[0;32m    384\u001b[0m \u001b[1;33m\u001b[0m\u001b[0m\n\u001b[0;32m    385\u001b[0m   \u001b[1;31m# internal_convert_user_code is for example turned off when issuing a dynamic\u001b[0m\u001b[1;33m\u001b[0m\u001b[1;33m\u001b[0m\u001b[1;33m\u001b[0m\u001b[0m\n",
      "\u001b[1;32m~\\Anaconda3\\envs\\tf\\lib\\site-packages\\tensorflow\\python\\autograph\\impl\\api.py\u001b[0m in \u001b[0;36m_call_unconverted\u001b[1;34m(f, args, kwargs, options, update_cache)\u001b[0m\n\u001b[0;32m    463\u001b[0m   \u001b[1;32mif\u001b[0m \u001b[0mkwargs\u001b[0m \u001b[1;32mis\u001b[0m \u001b[1;32mnot\u001b[0m \u001b[1;32mNone\u001b[0m\u001b[1;33m:\u001b[0m\u001b[1;33m\u001b[0m\u001b[1;33m\u001b[0m\u001b[0m\n\u001b[0;32m    464\u001b[0m     \u001b[1;32mreturn\u001b[0m \u001b[0mf\u001b[0m\u001b[1;33m(\u001b[0m\u001b[1;33m*\u001b[0m\u001b[0margs\u001b[0m\u001b[1;33m,\u001b[0m \u001b[1;33m**\u001b[0m\u001b[0mkwargs\u001b[0m\u001b[1;33m)\u001b[0m\u001b[1;33m\u001b[0m\u001b[1;33m\u001b[0m\u001b[0m\n\u001b[1;32m--> 465\u001b[1;33m   \u001b[1;32mreturn\u001b[0m \u001b[0mf\u001b[0m\u001b[1;33m(\u001b[0m\u001b[1;33m*\u001b[0m\u001b[0margs\u001b[0m\u001b[1;33m)\u001b[0m\u001b[1;33m\u001b[0m\u001b[1;33m\u001b[0m\u001b[0m\n\u001b[0m\u001b[0;32m    466\u001b[0m \u001b[1;33m\u001b[0m\u001b[0m\n\u001b[0;32m    467\u001b[0m \u001b[1;33m\u001b[0m\u001b[0m\n",
      "\u001b[1;32m~\\Anaconda3\\envs\\tf\\lib\\site-packages\\keras\\engine\\training.py\u001b[0m in \u001b[0;36mstep_function\u001b[1;34m(model, iterator)\u001b[0m\n\u001b[0;32m   1354\u001b[0m \u001b[1;33m\u001b[0m\u001b[0m\n\u001b[0;32m   1355\u001b[0m       \u001b[0mdata\u001b[0m \u001b[1;33m=\u001b[0m \u001b[0mnext\u001b[0m\u001b[1;33m(\u001b[0m\u001b[0miterator\u001b[0m\u001b[1;33m)\u001b[0m\u001b[1;33m\u001b[0m\u001b[1;33m\u001b[0m\u001b[0m\n\u001b[1;32m-> 1356\u001b[1;33m       \u001b[0moutputs\u001b[0m \u001b[1;33m=\u001b[0m \u001b[0mmodel\u001b[0m\u001b[1;33m.\u001b[0m\u001b[0mdistribute_strategy\u001b[0m\u001b[1;33m.\u001b[0m\u001b[0mrun\u001b[0m\u001b[1;33m(\u001b[0m\u001b[0mrun_step\u001b[0m\u001b[1;33m,\u001b[0m \u001b[0margs\u001b[0m\u001b[1;33m=\u001b[0m\u001b[1;33m(\u001b[0m\u001b[0mdata\u001b[0m\u001b[1;33m,\u001b[0m\u001b[1;33m)\u001b[0m\u001b[1;33m)\u001b[0m\u001b[1;33m\u001b[0m\u001b[1;33m\u001b[0m\u001b[0m\n\u001b[0m\u001b[0;32m   1357\u001b[0m       outputs = reduce_per_replica(\n\u001b[0;32m   1358\u001b[0m           outputs, self.distribute_strategy, reduction='first')\n",
      "\u001b[1;32m~\\Anaconda3\\envs\\tf\\lib\\site-packages\\tensorflow\\python\\distribute\\distribute_lib.py\u001b[0m in \u001b[0;36mrun\u001b[1;34m(***failed resolving arguments***)\u001b[0m\n\u001b[0;32m   1314\u001b[0m       fn = autograph.tf_convert(\n\u001b[0;32m   1315\u001b[0m           fn, autograph_ctx.control_status_ctx(), convert_by_default=False)\n\u001b[1;32m-> 1316\u001b[1;33m       \u001b[1;32mreturn\u001b[0m \u001b[0mself\u001b[0m\u001b[1;33m.\u001b[0m\u001b[0m_extended\u001b[0m\u001b[1;33m.\u001b[0m\u001b[0mcall_for_each_replica\u001b[0m\u001b[1;33m(\u001b[0m\u001b[0mfn\u001b[0m\u001b[1;33m,\u001b[0m \u001b[0margs\u001b[0m\u001b[1;33m=\u001b[0m\u001b[0margs\u001b[0m\u001b[1;33m,\u001b[0m \u001b[0mkwargs\u001b[0m\u001b[1;33m=\u001b[0m\u001b[0mkwargs\u001b[0m\u001b[1;33m)\u001b[0m\u001b[1;33m\u001b[0m\u001b[1;33m\u001b[0m\u001b[0m\n\u001b[0m\u001b[0;32m   1317\u001b[0m \u001b[1;33m\u001b[0m\u001b[0m\n\u001b[0;32m   1318\u001b[0m   \u001b[1;32mdef\u001b[0m \u001b[0mreduce\u001b[0m\u001b[1;33m(\u001b[0m\u001b[0mself\u001b[0m\u001b[1;33m,\u001b[0m \u001b[0mreduce_op\u001b[0m\u001b[1;33m,\u001b[0m \u001b[0mvalue\u001b[0m\u001b[1;33m,\u001b[0m \u001b[0maxis\u001b[0m\u001b[1;33m)\u001b[0m\u001b[1;33m:\u001b[0m\u001b[1;33m\u001b[0m\u001b[1;33m\u001b[0m\u001b[0m\n",
      "\u001b[1;32m~\\Anaconda3\\envs\\tf\\lib\\site-packages\\tensorflow\\python\\distribute\\distribute_lib.py\u001b[0m in \u001b[0;36mcall_for_each_replica\u001b[1;34m(self, fn, args, kwargs)\u001b[0m\n\u001b[0;32m   2890\u001b[0m       \u001b[0mkwargs\u001b[0m \u001b[1;33m=\u001b[0m \u001b[1;33m{\u001b[0m\u001b[1;33m}\u001b[0m\u001b[1;33m\u001b[0m\u001b[1;33m\u001b[0m\u001b[0m\n\u001b[0;32m   2891\u001b[0m     \u001b[1;32mwith\u001b[0m \u001b[0mself\u001b[0m\u001b[1;33m.\u001b[0m\u001b[0m_container_strategy\u001b[0m\u001b[1;33m(\u001b[0m\u001b[1;33m)\u001b[0m\u001b[1;33m.\u001b[0m\u001b[0mscope\u001b[0m\u001b[1;33m(\u001b[0m\u001b[1;33m)\u001b[0m\u001b[1;33m:\u001b[0m\u001b[1;33m\u001b[0m\u001b[1;33m\u001b[0m\u001b[0m\n\u001b[1;32m-> 2892\u001b[1;33m       \u001b[1;32mreturn\u001b[0m \u001b[0mself\u001b[0m\u001b[1;33m.\u001b[0m\u001b[0m_call_for_each_replica\u001b[0m\u001b[1;33m(\u001b[0m\u001b[0mfn\u001b[0m\u001b[1;33m,\u001b[0m \u001b[0margs\u001b[0m\u001b[1;33m,\u001b[0m \u001b[0mkwargs\u001b[0m\u001b[1;33m)\u001b[0m\u001b[1;33m\u001b[0m\u001b[1;33m\u001b[0m\u001b[0m\n\u001b[0m\u001b[0;32m   2893\u001b[0m \u001b[1;33m\u001b[0m\u001b[0m\n\u001b[0;32m   2894\u001b[0m   \u001b[1;32mdef\u001b[0m \u001b[0m_call_for_each_replica\u001b[0m\u001b[1;33m(\u001b[0m\u001b[0mself\u001b[0m\u001b[1;33m,\u001b[0m \u001b[0mfn\u001b[0m\u001b[1;33m,\u001b[0m \u001b[0margs\u001b[0m\u001b[1;33m,\u001b[0m \u001b[0mkwargs\u001b[0m\u001b[1;33m)\u001b[0m\u001b[1;33m:\u001b[0m\u001b[1;33m\u001b[0m\u001b[1;33m\u001b[0m\u001b[0m\n",
      "\u001b[1;32m~\\Anaconda3\\envs\\tf\\lib\\site-packages\\tensorflow\\python\\distribute\\distribute_lib.py\u001b[0m in \u001b[0;36m_call_for_each_replica\u001b[1;34m(self, fn, args, kwargs)\u001b[0m\n\u001b[0;32m   3693\u001b[0m   \u001b[1;32mdef\u001b[0m \u001b[0m_call_for_each_replica\u001b[0m\u001b[1;33m(\u001b[0m\u001b[0mself\u001b[0m\u001b[1;33m,\u001b[0m \u001b[0mfn\u001b[0m\u001b[1;33m,\u001b[0m \u001b[0margs\u001b[0m\u001b[1;33m,\u001b[0m \u001b[0mkwargs\u001b[0m\u001b[1;33m)\u001b[0m\u001b[1;33m:\u001b[0m\u001b[1;33m\u001b[0m\u001b[1;33m\u001b[0m\u001b[0m\n\u001b[0;32m   3694\u001b[0m     \u001b[1;32mwith\u001b[0m \u001b[0mReplicaContext\u001b[0m\u001b[1;33m(\u001b[0m\u001b[0mself\u001b[0m\u001b[1;33m.\u001b[0m\u001b[0m_container_strategy\u001b[0m\u001b[1;33m(\u001b[0m\u001b[1;33m)\u001b[0m\u001b[1;33m,\u001b[0m \u001b[0mreplica_id_in_sync_group\u001b[0m\u001b[1;33m=\u001b[0m\u001b[1;36m0\u001b[0m\u001b[1;33m)\u001b[0m\u001b[1;33m:\u001b[0m\u001b[1;33m\u001b[0m\u001b[1;33m\u001b[0m\u001b[0m\n\u001b[1;32m-> 3695\u001b[1;33m       \u001b[1;32mreturn\u001b[0m \u001b[0mfn\u001b[0m\u001b[1;33m(\u001b[0m\u001b[1;33m*\u001b[0m\u001b[0margs\u001b[0m\u001b[1;33m,\u001b[0m \u001b[1;33m**\u001b[0m\u001b[0mkwargs\u001b[0m\u001b[1;33m)\u001b[0m\u001b[1;33m\u001b[0m\u001b[1;33m\u001b[0m\u001b[0m\n\u001b[0m\u001b[0;32m   3696\u001b[0m \u001b[1;33m\u001b[0m\u001b[0m\n\u001b[0;32m   3697\u001b[0m   \u001b[1;32mdef\u001b[0m \u001b[0m_reduce_to\u001b[0m\u001b[1;33m(\u001b[0m\u001b[0mself\u001b[0m\u001b[1;33m,\u001b[0m \u001b[0mreduce_op\u001b[0m\u001b[1;33m,\u001b[0m \u001b[0mvalue\u001b[0m\u001b[1;33m,\u001b[0m \u001b[0mdestinations\u001b[0m\u001b[1;33m,\u001b[0m \u001b[0moptions\u001b[0m\u001b[1;33m)\u001b[0m\u001b[1;33m:\u001b[0m\u001b[1;33m\u001b[0m\u001b[1;33m\u001b[0m\u001b[0m\n",
      "\u001b[1;32m~\\Anaconda3\\envs\\tf\\lib\\site-packages\\tensorflow\\python\\autograph\\impl\\api.py\u001b[0m in \u001b[0;36mwrapper\u001b[1;34m(*args, **kwargs)\u001b[0m\n\u001b[0;32m    694\u001b[0m       \u001b[1;32mtry\u001b[0m\u001b[1;33m:\u001b[0m\u001b[1;33m\u001b[0m\u001b[1;33m\u001b[0m\u001b[0m\n\u001b[0;32m    695\u001b[0m         \u001b[1;32mwith\u001b[0m \u001b[0mconversion_ctx\u001b[0m\u001b[1;33m:\u001b[0m\u001b[1;33m\u001b[0m\u001b[1;33m\u001b[0m\u001b[0m\n\u001b[1;32m--> 696\u001b[1;33m           \u001b[1;32mreturn\u001b[0m \u001b[0mconverted_call\u001b[0m\u001b[1;33m(\u001b[0m\u001b[0mf\u001b[0m\u001b[1;33m,\u001b[0m \u001b[0margs\u001b[0m\u001b[1;33m,\u001b[0m \u001b[0mkwargs\u001b[0m\u001b[1;33m,\u001b[0m \u001b[0moptions\u001b[0m\u001b[1;33m=\u001b[0m\u001b[0moptions\u001b[0m\u001b[1;33m)\u001b[0m\u001b[1;33m\u001b[0m\u001b[1;33m\u001b[0m\u001b[0m\n\u001b[0m\u001b[0;32m    697\u001b[0m       \u001b[1;32mexcept\u001b[0m \u001b[0mException\u001b[0m \u001b[1;32mas\u001b[0m \u001b[0me\u001b[0m\u001b[1;33m:\u001b[0m  \u001b[1;31m# pylint:disable=broad-except\u001b[0m\u001b[1;33m\u001b[0m\u001b[1;33m\u001b[0m\u001b[0m\n\u001b[0;32m    698\u001b[0m         \u001b[1;32mif\u001b[0m \u001b[0mhasattr\u001b[0m\u001b[1;33m(\u001b[0m\u001b[0me\u001b[0m\u001b[1;33m,\u001b[0m \u001b[1;34m'ag_error_metadata'\u001b[0m\u001b[1;33m)\u001b[0m\u001b[1;33m:\u001b[0m\u001b[1;33m\u001b[0m\u001b[1;33m\u001b[0m\u001b[0m\n",
      "\u001b[1;32m~\\Anaconda3\\envs\\tf\\lib\\site-packages\\tensorflow\\python\\autograph\\impl\\api.py\u001b[0m in \u001b[0;36mconverted_call\u001b[1;34m(f, args, kwargs, caller_fn_scope, options)\u001b[0m\n\u001b[0;32m    381\u001b[0m \u001b[1;33m\u001b[0m\u001b[0m\n\u001b[0;32m    382\u001b[0m   \u001b[1;32mif\u001b[0m \u001b[1;32mnot\u001b[0m \u001b[0moptions\u001b[0m\u001b[1;33m.\u001b[0m\u001b[0muser_requested\u001b[0m \u001b[1;32mand\u001b[0m \u001b[0mconversion\u001b[0m\u001b[1;33m.\u001b[0m\u001b[0mis_allowlisted\u001b[0m\u001b[1;33m(\u001b[0m\u001b[0mf\u001b[0m\u001b[1;33m)\u001b[0m\u001b[1;33m:\u001b[0m\u001b[1;33m\u001b[0m\u001b[1;33m\u001b[0m\u001b[0m\n\u001b[1;32m--> 383\u001b[1;33m     \u001b[1;32mreturn\u001b[0m \u001b[0m_call_unconverted\u001b[0m\u001b[1;33m(\u001b[0m\u001b[0mf\u001b[0m\u001b[1;33m,\u001b[0m \u001b[0margs\u001b[0m\u001b[1;33m,\u001b[0m \u001b[0mkwargs\u001b[0m\u001b[1;33m,\u001b[0m \u001b[0moptions\u001b[0m\u001b[1;33m)\u001b[0m\u001b[1;33m\u001b[0m\u001b[1;33m\u001b[0m\u001b[0m\n\u001b[0m\u001b[0;32m    384\u001b[0m \u001b[1;33m\u001b[0m\u001b[0m\n\u001b[0;32m    385\u001b[0m   \u001b[1;31m# internal_convert_user_code is for example turned off when issuing a dynamic\u001b[0m\u001b[1;33m\u001b[0m\u001b[1;33m\u001b[0m\u001b[1;33m\u001b[0m\u001b[0m\n",
      "\u001b[1;32m~\\Anaconda3\\envs\\tf\\lib\\site-packages\\tensorflow\\python\\autograph\\impl\\api.py\u001b[0m in \u001b[0;36m_call_unconverted\u001b[1;34m(f, args, kwargs, options, update_cache)\u001b[0m\n\u001b[0;32m    462\u001b[0m \u001b[1;33m\u001b[0m\u001b[0m\n\u001b[0;32m    463\u001b[0m   \u001b[1;32mif\u001b[0m \u001b[0mkwargs\u001b[0m \u001b[1;32mis\u001b[0m \u001b[1;32mnot\u001b[0m \u001b[1;32mNone\u001b[0m\u001b[1;33m:\u001b[0m\u001b[1;33m\u001b[0m\u001b[1;33m\u001b[0m\u001b[0m\n\u001b[1;32m--> 464\u001b[1;33m     \u001b[1;32mreturn\u001b[0m \u001b[0mf\u001b[0m\u001b[1;33m(\u001b[0m\u001b[1;33m*\u001b[0m\u001b[0margs\u001b[0m\u001b[1;33m,\u001b[0m \u001b[1;33m**\u001b[0m\u001b[0mkwargs\u001b[0m\u001b[1;33m)\u001b[0m\u001b[1;33m\u001b[0m\u001b[1;33m\u001b[0m\u001b[0m\n\u001b[0m\u001b[0;32m    465\u001b[0m   \u001b[1;32mreturn\u001b[0m \u001b[0mf\u001b[0m\u001b[1;33m(\u001b[0m\u001b[1;33m*\u001b[0m\u001b[0margs\u001b[0m\u001b[1;33m)\u001b[0m\u001b[1;33m\u001b[0m\u001b[1;33m\u001b[0m\u001b[0m\n\u001b[0;32m    466\u001b[0m \u001b[1;33m\u001b[0m\u001b[0m\n",
      "\u001b[1;32m~\\Anaconda3\\envs\\tf\\lib\\site-packages\\keras\\engine\\training.py\u001b[0m in \u001b[0;36mrun_step\u001b[1;34m(data)\u001b[0m\n\u001b[0;32m   1347\u001b[0m \u001b[1;33m\u001b[0m\u001b[0m\n\u001b[0;32m   1348\u001b[0m       \u001b[1;32mdef\u001b[0m \u001b[0mrun_step\u001b[0m\u001b[1;33m(\u001b[0m\u001b[0mdata\u001b[0m\u001b[1;33m)\u001b[0m\u001b[1;33m:\u001b[0m\u001b[1;33m\u001b[0m\u001b[1;33m\u001b[0m\u001b[0m\n\u001b[1;32m-> 1349\u001b[1;33m         \u001b[0moutputs\u001b[0m \u001b[1;33m=\u001b[0m \u001b[0mmodel\u001b[0m\u001b[1;33m.\u001b[0m\u001b[0mtest_step\u001b[0m\u001b[1;33m(\u001b[0m\u001b[0mdata\u001b[0m\u001b[1;33m)\u001b[0m\u001b[1;33m\u001b[0m\u001b[1;33m\u001b[0m\u001b[0m\n\u001b[0m\u001b[0;32m   1350\u001b[0m         \u001b[1;31m# Ensure counter is updated only if `test_step` succeeds.\u001b[0m\u001b[1;33m\u001b[0m\u001b[1;33m\u001b[0m\u001b[1;33m\u001b[0m\u001b[0m\n\u001b[0;32m   1351\u001b[0m         \u001b[1;32mwith\u001b[0m \u001b[0mtf\u001b[0m\u001b[1;33m.\u001b[0m\u001b[0mcontrol_dependencies\u001b[0m\u001b[1;33m(\u001b[0m\u001b[0m_minimum_control_deps\u001b[0m\u001b[1;33m(\u001b[0m\u001b[0moutputs\u001b[0m\u001b[1;33m)\u001b[0m\u001b[1;33m)\u001b[0m\u001b[1;33m:\u001b[0m\u001b[1;33m\u001b[0m\u001b[1;33m\u001b[0m\u001b[0m\n",
      "\u001b[1;32m~\\Anaconda3\\envs\\tf\\lib\\site-packages\\keras\\engine\\training.py\u001b[0m in \u001b[0;36mtest_step\u001b[1;34m(self, data)\u001b[0m\n\u001b[0;32m   1301\u001b[0m     \u001b[0mx\u001b[0m\u001b[1;33m,\u001b[0m \u001b[0my\u001b[0m\u001b[1;33m,\u001b[0m \u001b[0msample_weight\u001b[0m \u001b[1;33m=\u001b[0m \u001b[0mdata_adapter\u001b[0m\u001b[1;33m.\u001b[0m\u001b[0munpack_x_y_sample_weight\u001b[0m\u001b[1;33m(\u001b[0m\u001b[0mdata\u001b[0m\u001b[1;33m)\u001b[0m\u001b[1;33m\u001b[0m\u001b[1;33m\u001b[0m\u001b[0m\n\u001b[0;32m   1302\u001b[0m \u001b[1;33m\u001b[0m\u001b[0m\n\u001b[1;32m-> 1303\u001b[1;33m     \u001b[0my_pred\u001b[0m \u001b[1;33m=\u001b[0m \u001b[0mself\u001b[0m\u001b[1;33m(\u001b[0m\u001b[0mx\u001b[0m\u001b[1;33m,\u001b[0m \u001b[0mtraining\u001b[0m\u001b[1;33m=\u001b[0m\u001b[1;32mFalse\u001b[0m\u001b[1;33m)\u001b[0m\u001b[1;33m\u001b[0m\u001b[1;33m\u001b[0m\u001b[0m\n\u001b[0m\u001b[0;32m   1304\u001b[0m     \u001b[1;31m# Updates stateful loss metrics.\u001b[0m\u001b[1;33m\u001b[0m\u001b[1;33m\u001b[0m\u001b[1;33m\u001b[0m\u001b[0m\n\u001b[0;32m   1305\u001b[0m     self.compiled_loss(\n",
      "\u001b[1;32m~\\Anaconda3\\envs\\tf\\lib\\site-packages\\keras\\utils\\traceback_utils.py\u001b[0m in \u001b[0;36merror_handler\u001b[1;34m(*args, **kwargs)\u001b[0m\n\u001b[0;32m     62\u001b[0m     \u001b[0mfiltered_tb\u001b[0m \u001b[1;33m=\u001b[0m \u001b[1;32mNone\u001b[0m\u001b[1;33m\u001b[0m\u001b[1;33m\u001b[0m\u001b[0m\n\u001b[0;32m     63\u001b[0m     \u001b[1;32mtry\u001b[0m\u001b[1;33m:\u001b[0m\u001b[1;33m\u001b[0m\u001b[1;33m\u001b[0m\u001b[0m\n\u001b[1;32m---> 64\u001b[1;33m       \u001b[1;32mreturn\u001b[0m \u001b[0mfn\u001b[0m\u001b[1;33m(\u001b[0m\u001b[1;33m*\u001b[0m\u001b[0margs\u001b[0m\u001b[1;33m,\u001b[0m \u001b[1;33m**\u001b[0m\u001b[0mkwargs\u001b[0m\u001b[1;33m)\u001b[0m\u001b[1;33m\u001b[0m\u001b[1;33m\u001b[0m\u001b[0m\n\u001b[0m\u001b[0;32m     65\u001b[0m     \u001b[1;32mexcept\u001b[0m \u001b[0mException\u001b[0m \u001b[1;32mas\u001b[0m \u001b[0me\u001b[0m\u001b[1;33m:\u001b[0m  \u001b[1;31m# pylint: disable=broad-except\u001b[0m\u001b[1;33m\u001b[0m\u001b[1;33m\u001b[0m\u001b[0m\n\u001b[0;32m     66\u001b[0m       \u001b[0mfiltered_tb\u001b[0m \u001b[1;33m=\u001b[0m \u001b[0m_process_traceback_frames\u001b[0m\u001b[1;33m(\u001b[0m\u001b[0me\u001b[0m\u001b[1;33m.\u001b[0m\u001b[0m__traceback__\u001b[0m\u001b[1;33m)\u001b[0m\u001b[1;33m\u001b[0m\u001b[1;33m\u001b[0m\u001b[0m\n",
      "\u001b[1;32m~\\Anaconda3\\envs\\tf\\lib\\site-packages\\keras\\engine\\base_layer.py\u001b[0m in \u001b[0;36m__call__\u001b[1;34m(self, *args, **kwargs)\u001b[0m\n\u001b[0;32m   1081\u001b[0m         with autocast_variable.enable_auto_cast_variables(\n\u001b[0;32m   1082\u001b[0m             self._compute_dtype_object):\n\u001b[1;32m-> 1083\u001b[1;33m           \u001b[0moutputs\u001b[0m \u001b[1;33m=\u001b[0m \u001b[0mcall_fn\u001b[0m\u001b[1;33m(\u001b[0m\u001b[0minputs\u001b[0m\u001b[1;33m,\u001b[0m \u001b[1;33m*\u001b[0m\u001b[0margs\u001b[0m\u001b[1;33m,\u001b[0m \u001b[1;33m**\u001b[0m\u001b[0mkwargs\u001b[0m\u001b[1;33m)\u001b[0m\u001b[1;33m\u001b[0m\u001b[1;33m\u001b[0m\u001b[0m\n\u001b[0m\u001b[0;32m   1084\u001b[0m \u001b[1;33m\u001b[0m\u001b[0m\n\u001b[0;32m   1085\u001b[0m         \u001b[1;32mif\u001b[0m \u001b[0mself\u001b[0m\u001b[1;33m.\u001b[0m\u001b[0m_activity_regularizer\u001b[0m\u001b[1;33m:\u001b[0m\u001b[1;33m\u001b[0m\u001b[1;33m\u001b[0m\u001b[0m\n",
      "\u001b[1;32m~\\Anaconda3\\envs\\tf\\lib\\site-packages\\keras\\utils\\traceback_utils.py\u001b[0m in \u001b[0;36merror_handler\u001b[1;34m(*args, **kwargs)\u001b[0m\n\u001b[0;32m     90\u001b[0m     \u001b[0mbound_signature\u001b[0m \u001b[1;33m=\u001b[0m \u001b[1;32mNone\u001b[0m\u001b[1;33m\u001b[0m\u001b[1;33m\u001b[0m\u001b[0m\n\u001b[0;32m     91\u001b[0m     \u001b[1;32mtry\u001b[0m\u001b[1;33m:\u001b[0m\u001b[1;33m\u001b[0m\u001b[1;33m\u001b[0m\u001b[0m\n\u001b[1;32m---> 92\u001b[1;33m       \u001b[1;32mreturn\u001b[0m \u001b[0mfn\u001b[0m\u001b[1;33m(\u001b[0m\u001b[1;33m*\u001b[0m\u001b[0margs\u001b[0m\u001b[1;33m,\u001b[0m \u001b[1;33m**\u001b[0m\u001b[0mkwargs\u001b[0m\u001b[1;33m)\u001b[0m\u001b[1;33m\u001b[0m\u001b[1;33m\u001b[0m\u001b[0m\n\u001b[0m\u001b[0;32m     93\u001b[0m     \u001b[1;32mexcept\u001b[0m \u001b[0mException\u001b[0m \u001b[1;32mas\u001b[0m \u001b[0me\u001b[0m\u001b[1;33m:\u001b[0m  \u001b[1;31m# pylint: disable=broad-except\u001b[0m\u001b[1;33m\u001b[0m\u001b[1;33m\u001b[0m\u001b[0m\n\u001b[0;32m     94\u001b[0m       \u001b[1;32mif\u001b[0m \u001b[0mhasattr\u001b[0m\u001b[1;33m(\u001b[0m\u001b[0me\u001b[0m\u001b[1;33m,\u001b[0m \u001b[1;34m'_keras_call_info_injected'\u001b[0m\u001b[1;33m)\u001b[0m\u001b[1;33m:\u001b[0m\u001b[1;33m\u001b[0m\u001b[1;33m\u001b[0m\u001b[0m\n",
      "\u001b[1;32m~\\Anaconda3\\envs\\tf\\lib\\site-packages\\keras\\engine\\functional.py\u001b[0m in \u001b[0;36mcall\u001b[1;34m(self, inputs, training, mask)\u001b[0m\n\u001b[0;32m    449\u001b[0m         \u001b[0ma\u001b[0m \u001b[0mlist\u001b[0m \u001b[0mof\u001b[0m \u001b[0mtensors\u001b[0m \u001b[1;32mif\u001b[0m \u001b[0mthere\u001b[0m \u001b[0mare\u001b[0m \u001b[0mmore\u001b[0m \u001b[0mthan\u001b[0m \u001b[0mone\u001b[0m \u001b[0moutputs\u001b[0m\u001b[1;33m.\u001b[0m\u001b[1;33m\u001b[0m\u001b[1;33m\u001b[0m\u001b[0m\n\u001b[0;32m    450\u001b[0m     \"\"\"\n\u001b[1;32m--> 451\u001b[1;33m     return self._run_internal_graph(\n\u001b[0m\u001b[0;32m    452\u001b[0m         inputs, training=training, mask=mask)\n\u001b[0;32m    453\u001b[0m \u001b[1;33m\u001b[0m\u001b[0m\n",
      "\u001b[1;32m~\\Anaconda3\\envs\\tf\\lib\\site-packages\\keras\\engine\\functional.py\u001b[0m in \u001b[0;36m_run_internal_graph\u001b[1;34m(self, inputs, training, mask)\u001b[0m\n\u001b[0;32m    587\u001b[0m \u001b[1;33m\u001b[0m\u001b[0m\n\u001b[0;32m    588\u001b[0m         \u001b[0margs\u001b[0m\u001b[1;33m,\u001b[0m \u001b[0mkwargs\u001b[0m \u001b[1;33m=\u001b[0m \u001b[0mnode\u001b[0m\u001b[1;33m.\u001b[0m\u001b[0mmap_arguments\u001b[0m\u001b[1;33m(\u001b[0m\u001b[0mtensor_dict\u001b[0m\u001b[1;33m)\u001b[0m\u001b[1;33m\u001b[0m\u001b[1;33m\u001b[0m\u001b[0m\n\u001b[1;32m--> 589\u001b[1;33m         \u001b[0moutputs\u001b[0m \u001b[1;33m=\u001b[0m \u001b[0mnode\u001b[0m\u001b[1;33m.\u001b[0m\u001b[0mlayer\u001b[0m\u001b[1;33m(\u001b[0m\u001b[1;33m*\u001b[0m\u001b[0margs\u001b[0m\u001b[1;33m,\u001b[0m \u001b[1;33m**\u001b[0m\u001b[0mkwargs\u001b[0m\u001b[1;33m)\u001b[0m\u001b[1;33m\u001b[0m\u001b[1;33m\u001b[0m\u001b[0m\n\u001b[0m\u001b[0;32m    590\u001b[0m \u001b[1;33m\u001b[0m\u001b[0m\n\u001b[0;32m    591\u001b[0m         \u001b[1;31m# Update tensor_dict.\u001b[0m\u001b[1;33m\u001b[0m\u001b[1;33m\u001b[0m\u001b[1;33m\u001b[0m\u001b[0m\n",
      "\u001b[1;32m~\\Anaconda3\\envs\\tf\\lib\\site-packages\\keras\\utils\\traceback_utils.py\u001b[0m in \u001b[0;36merror_handler\u001b[1;34m(*args, **kwargs)\u001b[0m\n\u001b[0;32m     62\u001b[0m     \u001b[0mfiltered_tb\u001b[0m \u001b[1;33m=\u001b[0m \u001b[1;32mNone\u001b[0m\u001b[1;33m\u001b[0m\u001b[1;33m\u001b[0m\u001b[0m\n\u001b[0;32m     63\u001b[0m     \u001b[1;32mtry\u001b[0m\u001b[1;33m:\u001b[0m\u001b[1;33m\u001b[0m\u001b[1;33m\u001b[0m\u001b[0m\n\u001b[1;32m---> 64\u001b[1;33m       \u001b[1;32mreturn\u001b[0m \u001b[0mfn\u001b[0m\u001b[1;33m(\u001b[0m\u001b[1;33m*\u001b[0m\u001b[0margs\u001b[0m\u001b[1;33m,\u001b[0m \u001b[1;33m**\u001b[0m\u001b[0mkwargs\u001b[0m\u001b[1;33m)\u001b[0m\u001b[1;33m\u001b[0m\u001b[1;33m\u001b[0m\u001b[0m\n\u001b[0m\u001b[0;32m     65\u001b[0m     \u001b[1;32mexcept\u001b[0m \u001b[0mException\u001b[0m \u001b[1;32mas\u001b[0m \u001b[0me\u001b[0m\u001b[1;33m:\u001b[0m  \u001b[1;31m# pylint: disable=broad-except\u001b[0m\u001b[1;33m\u001b[0m\u001b[1;33m\u001b[0m\u001b[0m\n\u001b[0;32m     66\u001b[0m       \u001b[0mfiltered_tb\u001b[0m \u001b[1;33m=\u001b[0m \u001b[0m_process_traceback_frames\u001b[0m\u001b[1;33m(\u001b[0m\u001b[0me\u001b[0m\u001b[1;33m.\u001b[0m\u001b[0m__traceback__\u001b[0m\u001b[1;33m)\u001b[0m\u001b[1;33m\u001b[0m\u001b[1;33m\u001b[0m\u001b[0m\n",
      "\u001b[1;32m~\\Anaconda3\\envs\\tf\\lib\\site-packages\\keras\\engine\\base_layer.py\u001b[0m in \u001b[0;36m__call__\u001b[1;34m(self, *args, **kwargs)\u001b[0m\n\u001b[0;32m   1081\u001b[0m         with autocast_variable.enable_auto_cast_variables(\n\u001b[0;32m   1082\u001b[0m             self._compute_dtype_object):\n\u001b[1;32m-> 1083\u001b[1;33m           \u001b[0moutputs\u001b[0m \u001b[1;33m=\u001b[0m \u001b[0mcall_fn\u001b[0m\u001b[1;33m(\u001b[0m\u001b[0minputs\u001b[0m\u001b[1;33m,\u001b[0m \u001b[1;33m*\u001b[0m\u001b[0margs\u001b[0m\u001b[1;33m,\u001b[0m \u001b[1;33m**\u001b[0m\u001b[0mkwargs\u001b[0m\u001b[1;33m)\u001b[0m\u001b[1;33m\u001b[0m\u001b[1;33m\u001b[0m\u001b[0m\n\u001b[0m\u001b[0;32m   1084\u001b[0m \u001b[1;33m\u001b[0m\u001b[0m\n\u001b[0;32m   1085\u001b[0m         \u001b[1;32mif\u001b[0m \u001b[0mself\u001b[0m\u001b[1;33m.\u001b[0m\u001b[0m_activity_regularizer\u001b[0m\u001b[1;33m:\u001b[0m\u001b[1;33m\u001b[0m\u001b[1;33m\u001b[0m\u001b[0m\n",
      "\u001b[1;32m~\\Anaconda3\\envs\\tf\\lib\\site-packages\\keras\\utils\\traceback_utils.py\u001b[0m in \u001b[0;36merror_handler\u001b[1;34m(*args, **kwargs)\u001b[0m\n\u001b[0;32m     90\u001b[0m     \u001b[0mbound_signature\u001b[0m \u001b[1;33m=\u001b[0m \u001b[1;32mNone\u001b[0m\u001b[1;33m\u001b[0m\u001b[1;33m\u001b[0m\u001b[0m\n\u001b[0;32m     91\u001b[0m     \u001b[1;32mtry\u001b[0m\u001b[1;33m:\u001b[0m\u001b[1;33m\u001b[0m\u001b[1;33m\u001b[0m\u001b[0m\n\u001b[1;32m---> 92\u001b[1;33m       \u001b[1;32mreturn\u001b[0m \u001b[0mfn\u001b[0m\u001b[1;33m(\u001b[0m\u001b[1;33m*\u001b[0m\u001b[0margs\u001b[0m\u001b[1;33m,\u001b[0m \u001b[1;33m**\u001b[0m\u001b[0mkwargs\u001b[0m\u001b[1;33m)\u001b[0m\u001b[1;33m\u001b[0m\u001b[1;33m\u001b[0m\u001b[0m\n\u001b[0m\u001b[0;32m     93\u001b[0m     \u001b[1;32mexcept\u001b[0m \u001b[0mException\u001b[0m \u001b[1;32mas\u001b[0m \u001b[0me\u001b[0m\u001b[1;33m:\u001b[0m  \u001b[1;31m# pylint: disable=broad-except\u001b[0m\u001b[1;33m\u001b[0m\u001b[1;33m\u001b[0m\u001b[0m\n\u001b[0;32m     94\u001b[0m       \u001b[1;32mif\u001b[0m \u001b[0mhasattr\u001b[0m\u001b[1;33m(\u001b[0m\u001b[0me\u001b[0m\u001b[1;33m,\u001b[0m \u001b[1;34m'_keras_call_info_injected'\u001b[0m\u001b[1;33m)\u001b[0m\u001b[1;33m:\u001b[0m\u001b[1;33m\u001b[0m\u001b[1;33m\u001b[0m\u001b[0m\n",
      "\u001b[1;32m~\\Anaconda3\\envs\\tf\\lib\\site-packages\\keras\\layers\\convolutional.py\u001b[0m in \u001b[0;36mcall\u001b[1;34m(self, inputs)\u001b[0m\n\u001b[0;32m    262\u001b[0m               outputs, _apply_fn, inner_rank=self.rank + 1)\n\u001b[0;32m    263\u001b[0m         \u001b[1;32melse\u001b[0m\u001b[1;33m:\u001b[0m\u001b[1;33m\u001b[0m\u001b[1;33m\u001b[0m\u001b[0m\n\u001b[1;32m--> 264\u001b[1;33m           outputs = tf.nn.bias_add(\n\u001b[0m\u001b[0;32m    265\u001b[0m               outputs, self.bias, data_format=self._tf_data_format)\n\u001b[0;32m    266\u001b[0m \u001b[1;33m\u001b[0m\u001b[0m\n",
      "\u001b[1;32m~\\Anaconda3\\envs\\tf\\lib\\site-packages\\tensorflow\\python\\util\\traceback_utils.py\u001b[0m in \u001b[0;36merror_handler\u001b[1;34m(*args, **kwargs)\u001b[0m\n\u001b[0;32m    148\u001b[0m     \u001b[0mfiltered_tb\u001b[0m \u001b[1;33m=\u001b[0m \u001b[1;32mNone\u001b[0m\u001b[1;33m\u001b[0m\u001b[1;33m\u001b[0m\u001b[0m\n\u001b[0;32m    149\u001b[0m     \u001b[1;32mtry\u001b[0m\u001b[1;33m:\u001b[0m\u001b[1;33m\u001b[0m\u001b[1;33m\u001b[0m\u001b[0m\n\u001b[1;32m--> 150\u001b[1;33m       \u001b[1;32mreturn\u001b[0m \u001b[0mfn\u001b[0m\u001b[1;33m(\u001b[0m\u001b[1;33m*\u001b[0m\u001b[0margs\u001b[0m\u001b[1;33m,\u001b[0m \u001b[1;33m**\u001b[0m\u001b[0mkwargs\u001b[0m\u001b[1;33m)\u001b[0m\u001b[1;33m\u001b[0m\u001b[1;33m\u001b[0m\u001b[0m\n\u001b[0m\u001b[0;32m    151\u001b[0m     \u001b[1;32mexcept\u001b[0m \u001b[0mException\u001b[0m \u001b[1;32mas\u001b[0m \u001b[0me\u001b[0m\u001b[1;33m:\u001b[0m\u001b[1;33m\u001b[0m\u001b[1;33m\u001b[0m\u001b[0m\n\u001b[0;32m    152\u001b[0m       \u001b[0mfiltered_tb\u001b[0m \u001b[1;33m=\u001b[0m \u001b[0m_process_traceback_frames\u001b[0m\u001b[1;33m(\u001b[0m\u001b[0me\u001b[0m\u001b[1;33m.\u001b[0m\u001b[0m__traceback__\u001b[0m\u001b[1;33m)\u001b[0m\u001b[1;33m\u001b[0m\u001b[1;33m\u001b[0m\u001b[0m\n",
      "\u001b[1;32m~\\Anaconda3\\envs\\tf\\lib\\site-packages\\tensorflow\\python\\util\\dispatch.py\u001b[0m in \u001b[0;36mop_dispatch_handler\u001b[1;34m(*args, **kwargs)\u001b[0m\n\u001b[0;32m   1094\u001b[0m       \u001b[1;31m# Fallback dispatch system (dispatch v1):\u001b[0m\u001b[1;33m\u001b[0m\u001b[1;33m\u001b[0m\u001b[1;33m\u001b[0m\u001b[0m\n\u001b[0;32m   1095\u001b[0m       \u001b[1;32mtry\u001b[0m\u001b[1;33m:\u001b[0m\u001b[1;33m\u001b[0m\u001b[1;33m\u001b[0m\u001b[0m\n\u001b[1;32m-> 1096\u001b[1;33m         \u001b[1;32mreturn\u001b[0m \u001b[0mdispatch_target\u001b[0m\u001b[1;33m(\u001b[0m\u001b[1;33m*\u001b[0m\u001b[0margs\u001b[0m\u001b[1;33m,\u001b[0m \u001b[1;33m**\u001b[0m\u001b[0mkwargs\u001b[0m\u001b[1;33m)\u001b[0m\u001b[1;33m\u001b[0m\u001b[1;33m\u001b[0m\u001b[0m\n\u001b[0m\u001b[0;32m   1097\u001b[0m       \u001b[1;32mexcept\u001b[0m \u001b[1;33m(\u001b[0m\u001b[0mTypeError\u001b[0m\u001b[1;33m,\u001b[0m \u001b[0mValueError\u001b[0m\u001b[1;33m)\u001b[0m\u001b[1;33m:\u001b[0m\u001b[1;33m\u001b[0m\u001b[1;33m\u001b[0m\u001b[0m\n\u001b[0;32m   1098\u001b[0m         \u001b[1;31m# Note: convert_to_eager_tensor currently raises a ValueError, not a\u001b[0m\u001b[1;33m\u001b[0m\u001b[1;33m\u001b[0m\u001b[1;33m\u001b[0m\u001b[0m\n",
      "\u001b[1;32m~\\Anaconda3\\envs\\tf\\lib\\site-packages\\tensorflow\\python\\ops\\nn_ops.py\u001b[0m in \u001b[0;36mbias_add\u001b[1;34m(value, bias, data_format, name)\u001b[0m\n\u001b[0;32m   3523\u001b[0m     \u001b[1;32mif\u001b[0m \u001b[1;32mnot\u001b[0m \u001b[0mcontext\u001b[0m\u001b[1;33m.\u001b[0m\u001b[0mexecuting_eagerly\u001b[0m\u001b[1;33m(\u001b[0m\u001b[1;33m)\u001b[0m\u001b[1;33m:\u001b[0m\u001b[1;33m\u001b[0m\u001b[1;33m\u001b[0m\u001b[0m\n\u001b[0;32m   3524\u001b[0m       \u001b[0mvalue\u001b[0m \u001b[1;33m=\u001b[0m \u001b[0mops\u001b[0m\u001b[1;33m.\u001b[0m\u001b[0mconvert_to_tensor\u001b[0m\u001b[1;33m(\u001b[0m\u001b[0mvalue\u001b[0m\u001b[1;33m,\u001b[0m \u001b[0mname\u001b[0m\u001b[1;33m=\u001b[0m\u001b[1;34m\"input\"\u001b[0m\u001b[1;33m)\u001b[0m\u001b[1;33m\u001b[0m\u001b[1;33m\u001b[0m\u001b[0m\n\u001b[1;32m-> 3525\u001b[1;33m       \u001b[0mbias\u001b[0m \u001b[1;33m=\u001b[0m \u001b[0mops\u001b[0m\u001b[1;33m.\u001b[0m\u001b[0mconvert_to_tensor\u001b[0m\u001b[1;33m(\u001b[0m\u001b[0mbias\u001b[0m\u001b[1;33m,\u001b[0m \u001b[0mdtype\u001b[0m\u001b[1;33m=\u001b[0m\u001b[0mvalue\u001b[0m\u001b[1;33m.\u001b[0m\u001b[0mdtype\u001b[0m\u001b[1;33m,\u001b[0m \u001b[0mname\u001b[0m\u001b[1;33m=\u001b[0m\u001b[1;34m\"bias\"\u001b[0m\u001b[1;33m)\u001b[0m\u001b[1;33m\u001b[0m\u001b[1;33m\u001b[0m\u001b[0m\n\u001b[0m\u001b[0;32m   3526\u001b[0m \u001b[1;33m\u001b[0m\u001b[0m\n\u001b[0;32m   3527\u001b[0m     \u001b[1;31m# TODO(duncanriach): Implement deterministic functionality at CUDA kernel\u001b[0m\u001b[1;33m\u001b[0m\u001b[1;33m\u001b[0m\u001b[1;33m\u001b[0m\u001b[0m\n",
      "\u001b[1;32m~\\Anaconda3\\envs\\tf\\lib\\site-packages\\tensorflow\\python\\profiler\\trace.py\u001b[0m in \u001b[0;36mwrapped\u001b[1;34m(*args, **kwargs)\u001b[0m\n\u001b[0;32m    161\u001b[0m         \u001b[1;32mwith\u001b[0m \u001b[0mTrace\u001b[0m\u001b[1;33m(\u001b[0m\u001b[0mtrace_name\u001b[0m\u001b[1;33m,\u001b[0m \u001b[1;33m**\u001b[0m\u001b[0mtrace_kwargs\u001b[0m\u001b[1;33m)\u001b[0m\u001b[1;33m:\u001b[0m\u001b[1;33m\u001b[0m\u001b[1;33m\u001b[0m\u001b[0m\n\u001b[0;32m    162\u001b[0m           \u001b[1;32mreturn\u001b[0m \u001b[0mfunc\u001b[0m\u001b[1;33m(\u001b[0m\u001b[1;33m*\u001b[0m\u001b[0margs\u001b[0m\u001b[1;33m,\u001b[0m \u001b[1;33m**\u001b[0m\u001b[0mkwargs\u001b[0m\u001b[1;33m)\u001b[0m\u001b[1;33m\u001b[0m\u001b[1;33m\u001b[0m\u001b[0m\n\u001b[1;32m--> 163\u001b[1;33m       \u001b[1;32mreturn\u001b[0m \u001b[0mfunc\u001b[0m\u001b[1;33m(\u001b[0m\u001b[1;33m*\u001b[0m\u001b[0margs\u001b[0m\u001b[1;33m,\u001b[0m \u001b[1;33m**\u001b[0m\u001b[0mkwargs\u001b[0m\u001b[1;33m)\u001b[0m\u001b[1;33m\u001b[0m\u001b[1;33m\u001b[0m\u001b[0m\n\u001b[0m\u001b[0;32m    164\u001b[0m \u001b[1;33m\u001b[0m\u001b[0m\n\u001b[0;32m    165\u001b[0m     \u001b[1;32mreturn\u001b[0m \u001b[0mwrapped\u001b[0m\u001b[1;33m\u001b[0m\u001b[1;33m\u001b[0m\u001b[0m\n",
      "\u001b[1;32m~\\Anaconda3\\envs\\tf\\lib\\site-packages\\tensorflow\\python\\framework\\ops.py\u001b[0m in \u001b[0;36mconvert_to_tensor\u001b[1;34m(value, dtype, name, as_ref, preferred_dtype, dtype_hint, ctx, accepted_result_types)\u001b[0m\n\u001b[0;32m   1619\u001b[0m \u001b[1;33m\u001b[0m\u001b[0m\n\u001b[0;32m   1620\u001b[0m     \u001b[1;32mif\u001b[0m \u001b[0mret\u001b[0m \u001b[1;32mis\u001b[0m \u001b[1;32mNone\u001b[0m\u001b[1;33m:\u001b[0m\u001b[1;33m\u001b[0m\u001b[1;33m\u001b[0m\u001b[0m\n\u001b[1;32m-> 1621\u001b[1;33m       \u001b[0mret\u001b[0m \u001b[1;33m=\u001b[0m \u001b[0mconversion_func\u001b[0m\u001b[1;33m(\u001b[0m\u001b[0mvalue\u001b[0m\u001b[1;33m,\u001b[0m \u001b[0mdtype\u001b[0m\u001b[1;33m=\u001b[0m\u001b[0mdtype\u001b[0m\u001b[1;33m,\u001b[0m \u001b[0mname\u001b[0m\u001b[1;33m=\u001b[0m\u001b[0mname\u001b[0m\u001b[1;33m,\u001b[0m \u001b[0mas_ref\u001b[0m\u001b[1;33m=\u001b[0m\u001b[0mas_ref\u001b[0m\u001b[1;33m)\u001b[0m\u001b[1;33m\u001b[0m\u001b[1;33m\u001b[0m\u001b[0m\n\u001b[0m\u001b[0;32m   1622\u001b[0m \u001b[1;33m\u001b[0m\u001b[0m\n\u001b[0;32m   1623\u001b[0m     \u001b[1;32mif\u001b[0m \u001b[0mret\u001b[0m \u001b[1;32mis\u001b[0m \u001b[0mNotImplemented\u001b[0m\u001b[1;33m:\u001b[0m\u001b[1;33m\u001b[0m\u001b[1;33m\u001b[0m\u001b[0m\n",
      "\u001b[1;32m~\\Anaconda3\\envs\\tf\\lib\\site-packages\\tensorflow\\python\\ops\\resource_variable_ops.py\u001b[0m in \u001b[0;36m_dense_var_to_tensor\u001b[1;34m(var, dtype, name, as_ref)\u001b[0m\n\u001b[0;32m   2061\u001b[0m \u001b[1;33m\u001b[0m\u001b[0m\n\u001b[0;32m   2062\u001b[0m \u001b[1;32mdef\u001b[0m \u001b[0m_dense_var_to_tensor\u001b[0m\u001b[1;33m(\u001b[0m\u001b[0mvar\u001b[0m\u001b[1;33m,\u001b[0m \u001b[0mdtype\u001b[0m\u001b[1;33m=\u001b[0m\u001b[1;32mNone\u001b[0m\u001b[1;33m,\u001b[0m \u001b[0mname\u001b[0m\u001b[1;33m=\u001b[0m\u001b[1;32mNone\u001b[0m\u001b[1;33m,\u001b[0m \u001b[0mas_ref\u001b[0m\u001b[1;33m=\u001b[0m\u001b[1;32mFalse\u001b[0m\u001b[1;33m)\u001b[0m\u001b[1;33m:\u001b[0m\u001b[1;33m\u001b[0m\u001b[1;33m\u001b[0m\u001b[0m\n\u001b[1;32m-> 2063\u001b[1;33m   \u001b[1;32mreturn\u001b[0m \u001b[0mvar\u001b[0m\u001b[1;33m.\u001b[0m\u001b[0m_dense_var_to_tensor\u001b[0m\u001b[1;33m(\u001b[0m\u001b[0mdtype\u001b[0m\u001b[1;33m=\u001b[0m\u001b[0mdtype\u001b[0m\u001b[1;33m,\u001b[0m \u001b[0mname\u001b[0m\u001b[1;33m=\u001b[0m\u001b[0mname\u001b[0m\u001b[1;33m,\u001b[0m \u001b[0mas_ref\u001b[0m\u001b[1;33m=\u001b[0m\u001b[0mas_ref\u001b[0m\u001b[1;33m)\u001b[0m  \u001b[1;31m# pylint: disable=protected-access\u001b[0m\u001b[1;33m\u001b[0m\u001b[1;33m\u001b[0m\u001b[0m\n\u001b[0m\u001b[0;32m   2064\u001b[0m \u001b[1;33m\u001b[0m\u001b[0m\n\u001b[0;32m   2065\u001b[0m \u001b[1;33m\u001b[0m\u001b[0m\n",
      "\u001b[1;32m~\\Anaconda3\\envs\\tf\\lib\\site-packages\\tensorflow\\python\\ops\\resource_variable_ops.py\u001b[0m in \u001b[0;36m_dense_var_to_tensor\u001b[1;34m(***failed resolving arguments***)\u001b[0m\n\u001b[0;32m   1439\u001b[0m       \u001b[1;32mreturn\u001b[0m \u001b[0mself\u001b[0m\u001b[1;33m.\u001b[0m\u001b[0mread_value\u001b[0m\u001b[1;33m(\u001b[0m\u001b[1;33m)\u001b[0m\u001b[1;33m.\u001b[0m\u001b[0mop\u001b[0m\u001b[1;33m.\u001b[0m\u001b[0minputs\u001b[0m\u001b[1;33m[\u001b[0m\u001b[1;36m0\u001b[0m\u001b[1;33m]\u001b[0m\u001b[1;33m\u001b[0m\u001b[1;33m\u001b[0m\u001b[0m\n\u001b[0;32m   1440\u001b[0m     \u001b[1;32melse\u001b[0m\u001b[1;33m:\u001b[0m\u001b[1;33m\u001b[0m\u001b[1;33m\u001b[0m\u001b[0m\n\u001b[1;32m-> 1441\u001b[1;33m       \u001b[1;32mreturn\u001b[0m \u001b[0mself\u001b[0m\u001b[1;33m.\u001b[0m\u001b[0mvalue\u001b[0m\u001b[1;33m(\u001b[0m\u001b[1;33m)\u001b[0m\u001b[1;33m\u001b[0m\u001b[1;33m\u001b[0m\u001b[0m\n\u001b[0m\u001b[0;32m   1442\u001b[0m \u001b[1;33m\u001b[0m\u001b[0m\n\u001b[0;32m   1443\u001b[0m   \u001b[1;32mdef\u001b[0m \u001b[0m__iadd__\u001b[0m\u001b[1;33m(\u001b[0m\u001b[0mself\u001b[0m\u001b[1;33m,\u001b[0m \u001b[0munused_other\u001b[0m\u001b[1;33m)\u001b[0m\u001b[1;33m:\u001b[0m\u001b[1;33m\u001b[0m\u001b[1;33m\u001b[0m\u001b[0m\n",
      "\u001b[1;32m~\\Anaconda3\\envs\\tf\\lib\\site-packages\\tensorflow\\python\\ops\\resource_variable_ops.py\u001b[0m in \u001b[0;36mvalue\u001b[1;34m(self)\u001b[0m\n\u001b[0;32m    588\u001b[0m       \u001b[1;32mreturn\u001b[0m \u001b[0mself\u001b[0m\u001b[1;33m.\u001b[0m\u001b[0m_cached_value\u001b[0m\u001b[1;33m\u001b[0m\u001b[1;33m\u001b[0m\u001b[0m\n\u001b[0;32m    589\u001b[0m     \u001b[1;32mwith\u001b[0m \u001b[0mops\u001b[0m\u001b[1;33m.\u001b[0m\u001b[0mcolocate_with\u001b[0m\u001b[1;33m(\u001b[0m\u001b[1;32mNone\u001b[0m\u001b[1;33m,\u001b[0m \u001b[0mignore_existing\u001b[0m\u001b[1;33m=\u001b[0m\u001b[1;32mTrue\u001b[0m\u001b[1;33m)\u001b[0m\u001b[1;33m:\u001b[0m\u001b[1;33m\u001b[0m\u001b[1;33m\u001b[0m\u001b[0m\n\u001b[1;32m--> 590\u001b[1;33m       \u001b[1;32mreturn\u001b[0m \u001b[0mself\u001b[0m\u001b[1;33m.\u001b[0m\u001b[0m_read_variable_op\u001b[0m\u001b[1;33m(\u001b[0m\u001b[1;33m)\u001b[0m\u001b[1;33m\u001b[0m\u001b[1;33m\u001b[0m\u001b[0m\n\u001b[0m\u001b[0;32m    591\u001b[0m \u001b[1;33m\u001b[0m\u001b[0m\n\u001b[0;32m    592\u001b[0m   \u001b[1;32mdef\u001b[0m \u001b[0m_as_graph_element\u001b[0m\u001b[1;33m(\u001b[0m\u001b[0mself\u001b[0m\u001b[1;33m)\u001b[0m\u001b[1;33m:\u001b[0m\u001b[1;33m\u001b[0m\u001b[1;33m\u001b[0m\u001b[0m\n",
      "\u001b[1;32m~\\Anaconda3\\envs\\tf\\lib\\site-packages\\tensorflow\\python\\ops\\resource_variable_ops.py\u001b[0m in \u001b[0;36m_read_variable_op\u001b[1;34m(self)\u001b[0m\n\u001b[0;32m    697\u001b[0m           \u001b[0mresult\u001b[0m \u001b[1;33m=\u001b[0m \u001b[0mread_and_set_handle\u001b[0m\u001b[1;33m(\u001b[0m\u001b[1;33m)\u001b[0m\u001b[1;33m\u001b[0m\u001b[1;33m\u001b[0m\u001b[0m\n\u001b[0;32m    698\u001b[0m     \u001b[1;32melse\u001b[0m\u001b[1;33m:\u001b[0m\u001b[1;33m\u001b[0m\u001b[1;33m\u001b[0m\u001b[0m\n\u001b[1;32m--> 699\u001b[1;33m       \u001b[0mresult\u001b[0m \u001b[1;33m=\u001b[0m \u001b[0mread_and_set_handle\u001b[0m\u001b[1;33m(\u001b[0m\u001b[1;33m)\u001b[0m\u001b[1;33m\u001b[0m\u001b[1;33m\u001b[0m\u001b[0m\n\u001b[0m\u001b[0;32m    700\u001b[0m \u001b[1;33m\u001b[0m\u001b[0m\n\u001b[0;32m    701\u001b[0m     \u001b[1;32mif\u001b[0m \u001b[1;32mnot\u001b[0m \u001b[0mcontext\u001b[0m\u001b[1;33m.\u001b[0m\u001b[0mexecuting_eagerly\u001b[0m\u001b[1;33m(\u001b[0m\u001b[1;33m)\u001b[0m\u001b[1;33m:\u001b[0m\u001b[1;33m\u001b[0m\u001b[1;33m\u001b[0m\u001b[0m\n",
      "\u001b[1;32m~\\Anaconda3\\envs\\tf\\lib\\site-packages\\tensorflow\\python\\ops\\resource_variable_ops.py\u001b[0m in \u001b[0;36mread_and_set_handle\u001b[1;34m()\u001b[0m\n\u001b[0;32m    687\u001b[0m \u001b[1;33m\u001b[0m\u001b[0m\n\u001b[0;32m    688\u001b[0m     \u001b[1;32mdef\u001b[0m \u001b[0mread_and_set_handle\u001b[0m\u001b[1;33m(\u001b[0m\u001b[1;33m)\u001b[0m\u001b[1;33m:\u001b[0m\u001b[1;33m\u001b[0m\u001b[1;33m\u001b[0m\u001b[0m\n\u001b[1;32m--> 689\u001b[1;33m       result = gen_resource_variable_ops.read_variable_op(\n\u001b[0m\u001b[0;32m    690\u001b[0m           self.handle, self._dtype)\n\u001b[0;32m    691\u001b[0m       \u001b[0m_maybe_set_handle_data\u001b[0m\u001b[1;33m(\u001b[0m\u001b[0mself\u001b[0m\u001b[1;33m.\u001b[0m\u001b[0m_dtype\u001b[0m\u001b[1;33m,\u001b[0m \u001b[0mself\u001b[0m\u001b[1;33m.\u001b[0m\u001b[0mhandle\u001b[0m\u001b[1;33m,\u001b[0m \u001b[0mresult\u001b[0m\u001b[1;33m)\u001b[0m\u001b[1;33m\u001b[0m\u001b[1;33m\u001b[0m\u001b[0m\n",
      "\u001b[1;32m~\\Anaconda3\\envs\\tf\\lib\\site-packages\\tensorflow\\python\\ops\\gen_resource_variable_ops.py\u001b[0m in \u001b[0;36mread_variable_op\u001b[1;34m(resource, dtype, name)\u001b[0m\n\u001b[0;32m    481\u001b[0m   \u001b[1;31m# Add nodes to the TensorFlow graph.\u001b[0m\u001b[1;33m\u001b[0m\u001b[1;33m\u001b[0m\u001b[1;33m\u001b[0m\u001b[0m\n\u001b[0;32m    482\u001b[0m   \u001b[0mdtype\u001b[0m \u001b[1;33m=\u001b[0m \u001b[0m_execute\u001b[0m\u001b[1;33m.\u001b[0m\u001b[0mmake_type\u001b[0m\u001b[1;33m(\u001b[0m\u001b[0mdtype\u001b[0m\u001b[1;33m,\u001b[0m \u001b[1;34m\"dtype\"\u001b[0m\u001b[1;33m)\u001b[0m\u001b[1;33m\u001b[0m\u001b[1;33m\u001b[0m\u001b[0m\n\u001b[1;32m--> 483\u001b[1;33m   _, _, _op, _outputs = _op_def_library._apply_op_helper(\n\u001b[0m\u001b[0;32m    484\u001b[0m         \"ReadVariableOp\", resource=resource, dtype=dtype, name=name)\n\u001b[0;32m    485\u001b[0m   \u001b[0m_result\u001b[0m \u001b[1;33m=\u001b[0m \u001b[0m_outputs\u001b[0m\u001b[1;33m[\u001b[0m\u001b[1;33m:\u001b[0m\u001b[1;33m]\u001b[0m\u001b[1;33m\u001b[0m\u001b[1;33m\u001b[0m\u001b[0m\n",
      "\u001b[1;32m~\\Anaconda3\\envs\\tf\\lib\\site-packages\\tensorflow\\python\\framework\\op_def_library.py\u001b[0m in \u001b[0;36m_apply_op_helper\u001b[1;34m(op_type_name, name, **keywords)\u001b[0m\n\u001b[0;32m    510\u001b[0m                   preferred_dtype=default_dtype)\n\u001b[0;32m    511\u001b[0m           \u001b[1;32melse\u001b[0m\u001b[1;33m:\u001b[0m\u001b[1;33m\u001b[0m\u001b[1;33m\u001b[0m\u001b[0m\n\u001b[1;32m--> 512\u001b[1;33m             values = ops.convert_to_tensor(\n\u001b[0m\u001b[0;32m    513\u001b[0m                 \u001b[0mvalues\u001b[0m\u001b[1;33m,\u001b[0m\u001b[1;33m\u001b[0m\u001b[1;33m\u001b[0m\u001b[0m\n\u001b[0;32m    514\u001b[0m                 \u001b[0mname\u001b[0m\u001b[1;33m=\u001b[0m\u001b[0minput_arg\u001b[0m\u001b[1;33m.\u001b[0m\u001b[0mname\u001b[0m\u001b[1;33m,\u001b[0m\u001b[1;33m\u001b[0m\u001b[1;33m\u001b[0m\u001b[0m\n",
      "\u001b[1;32m~\\Anaconda3\\envs\\tf\\lib\\site-packages\\tensorflow\\python\\profiler\\trace.py\u001b[0m in \u001b[0;36mwrapped\u001b[1;34m(*args, **kwargs)\u001b[0m\n\u001b[0;32m    161\u001b[0m         \u001b[1;32mwith\u001b[0m \u001b[0mTrace\u001b[0m\u001b[1;33m(\u001b[0m\u001b[0mtrace_name\u001b[0m\u001b[1;33m,\u001b[0m \u001b[1;33m**\u001b[0m\u001b[0mtrace_kwargs\u001b[0m\u001b[1;33m)\u001b[0m\u001b[1;33m:\u001b[0m\u001b[1;33m\u001b[0m\u001b[1;33m\u001b[0m\u001b[0m\n\u001b[0;32m    162\u001b[0m           \u001b[1;32mreturn\u001b[0m \u001b[0mfunc\u001b[0m\u001b[1;33m(\u001b[0m\u001b[1;33m*\u001b[0m\u001b[0margs\u001b[0m\u001b[1;33m,\u001b[0m \u001b[1;33m**\u001b[0m\u001b[0mkwargs\u001b[0m\u001b[1;33m)\u001b[0m\u001b[1;33m\u001b[0m\u001b[1;33m\u001b[0m\u001b[0m\n\u001b[1;32m--> 163\u001b[1;33m       \u001b[1;32mreturn\u001b[0m \u001b[0mfunc\u001b[0m\u001b[1;33m(\u001b[0m\u001b[1;33m*\u001b[0m\u001b[0margs\u001b[0m\u001b[1;33m,\u001b[0m \u001b[1;33m**\u001b[0m\u001b[0mkwargs\u001b[0m\u001b[1;33m)\u001b[0m\u001b[1;33m\u001b[0m\u001b[1;33m\u001b[0m\u001b[0m\n\u001b[0m\u001b[0;32m    164\u001b[0m \u001b[1;33m\u001b[0m\u001b[0m\n\u001b[0;32m    165\u001b[0m     \u001b[1;32mreturn\u001b[0m \u001b[0mwrapped\u001b[0m\u001b[1;33m\u001b[0m\u001b[1;33m\u001b[0m\u001b[0m\n",
      "\u001b[1;32m~\\Anaconda3\\envs\\tf\\lib\\site-packages\\tensorflow\\python\\framework\\ops.py\u001b[0m in \u001b[0;36mconvert_to_tensor\u001b[1;34m(value, dtype, name, as_ref, preferred_dtype, dtype_hint, ctx, accepted_result_types)\u001b[0m\n\u001b[0;32m   1580\u001b[0m         raise RuntimeError(\"Attempting to capture an EagerTensor without \"\n\u001b[0;32m   1581\u001b[0m                            \"building a function.\")\n\u001b[1;32m-> 1582\u001b[1;33m       \u001b[1;32mreturn\u001b[0m \u001b[0mgraph\u001b[0m\u001b[1;33m.\u001b[0m\u001b[0mcapture\u001b[0m\u001b[1;33m(\u001b[0m\u001b[0mvalue\u001b[0m\u001b[1;33m,\u001b[0m \u001b[0mname\u001b[0m\u001b[1;33m=\u001b[0m\u001b[0mname\u001b[0m\u001b[1;33m)\u001b[0m\u001b[1;33m\u001b[0m\u001b[1;33m\u001b[0m\u001b[0m\n\u001b[0m\u001b[0;32m   1583\u001b[0m \u001b[1;33m\u001b[0m\u001b[0m\n\u001b[0;32m   1584\u001b[0m   \u001b[1;32mif\u001b[0m \u001b[0mdtype\u001b[0m \u001b[1;32mis\u001b[0m \u001b[1;32mnot\u001b[0m \u001b[1;32mNone\u001b[0m\u001b[1;33m:\u001b[0m\u001b[1;33m\u001b[0m\u001b[1;33m\u001b[0m\u001b[0m\n",
      "\u001b[1;32m~\\Anaconda3\\envs\\tf\\lib\\site-packages\\tensorflow\\python\\framework\\func_graph.py\u001b[0m in \u001b[0;36mcapture\u001b[1;34m(self, tensor, name, shape)\u001b[0m\n\u001b[0;32m    723\u001b[0m \u001b[1;33m\u001b[0m\u001b[0m\n\u001b[0;32m    724\u001b[0m       \u001b[1;31m# Large EagerTensors and resources are captured with Placeholder ops\u001b[0m\u001b[1;33m\u001b[0m\u001b[1;33m\u001b[0m\u001b[1;33m\u001b[0m\u001b[0m\n\u001b[1;32m--> 725\u001b[1;33m       \u001b[1;32mreturn\u001b[0m \u001b[0mself\u001b[0m\u001b[1;33m.\u001b[0m\u001b[0m_capture_helper\u001b[0m\u001b[1;33m(\u001b[0m\u001b[0mtensor\u001b[0m\u001b[1;33m,\u001b[0m \u001b[0mname\u001b[0m\u001b[1;33m,\u001b[0m \u001b[0mshape\u001b[0m\u001b[1;33m)\u001b[0m\u001b[1;33m\u001b[0m\u001b[1;33m\u001b[0m\u001b[0m\n\u001b[0m\u001b[0;32m    726\u001b[0m     \u001b[1;32mif\u001b[0m \u001b[0mtensor\u001b[0m\u001b[1;33m.\u001b[0m\u001b[0mgraph\u001b[0m \u001b[1;32mis\u001b[0m \u001b[1;32mnot\u001b[0m \u001b[0mself\u001b[0m\u001b[1;33m:\u001b[0m\u001b[1;33m\u001b[0m\u001b[1;33m\u001b[0m\u001b[0m\n\u001b[0;32m    727\u001b[0m       \u001b[1;32mif\u001b[0m \u001b[0mname\u001b[0m \u001b[1;32mis\u001b[0m \u001b[1;32mNone\u001b[0m\u001b[1;33m:\u001b[0m\u001b[1;33m\u001b[0m\u001b[1;33m\u001b[0m\u001b[0m\n",
      "\u001b[1;32m~\\Anaconda3\\envs\\tf\\lib\\site-packages\\tensorflow\\python\\framework\\func_graph.py\u001b[0m in \u001b[0;36m_capture_helper\u001b[1;34m(self, tensor, name, shape)\u001b[0m\n\u001b[0;32m    745\u001b[0m     \u001b[0mcapture\u001b[0m \u001b[1;33m=\u001b[0m \u001b[0mself\u001b[0m\u001b[1;33m.\u001b[0m\u001b[0m_captures\u001b[0m\u001b[1;33m.\u001b[0m\u001b[0mget\u001b[0m\u001b[1;33m(\u001b[0m\u001b[0mid\u001b[0m\u001b[1;33m(\u001b[0m\u001b[0mtensor\u001b[0m\u001b[1;33m)\u001b[0m\u001b[1;33m)\u001b[0m\u001b[1;33m\u001b[0m\u001b[1;33m\u001b[0m\u001b[0m\n\u001b[0;32m    746\u001b[0m     \u001b[1;32mif\u001b[0m \u001b[0mcapture\u001b[0m \u001b[1;32mis\u001b[0m \u001b[1;32mNone\u001b[0m\u001b[1;33m:\u001b[0m\u001b[1;33m\u001b[0m\u001b[1;33m\u001b[0m\u001b[0m\n\u001b[1;32m--> 747\u001b[1;33m       placeholder = _create_substitute_placeholder(\n\u001b[0m\u001b[0;32m    748\u001b[0m           tensor, name=name, dtype=tensor.dtype, shape=shape)\n\u001b[0;32m    749\u001b[0m       \u001b[1;31m# Record the composite device as an attribute to the placeholder.\u001b[0m\u001b[1;33m\u001b[0m\u001b[1;33m\u001b[0m\u001b[1;33m\u001b[0m\u001b[0m\n",
      "\u001b[1;32m~\\Anaconda3\\envs\\tf\\lib\\site-packages\\tensorflow\\python\\framework\\func_graph.py\u001b[0m in \u001b[0;36m_create_substitute_placeholder\u001b[1;34m(value, name, dtype, shape)\u001b[0m\n\u001b[0;32m   1285\u001b[0m     \u001b[0mshape\u001b[0m \u001b[1;33m=\u001b[0m \u001b[0mvalue\u001b[0m\u001b[1;33m.\u001b[0m\u001b[0mshape\u001b[0m\u001b[1;33m\u001b[0m\u001b[1;33m\u001b[0m\u001b[0m\n\u001b[0;32m   1286\u001b[0m   \u001b[1;32mwith\u001b[0m \u001b[0mops\u001b[0m\u001b[1;33m.\u001b[0m\u001b[0mcontrol_dependencies\u001b[0m\u001b[1;33m(\u001b[0m\u001b[1;32mNone\u001b[0m\u001b[1;33m)\u001b[0m\u001b[1;33m:\u001b[0m\u001b[1;33m\u001b[0m\u001b[1;33m\u001b[0m\u001b[0m\n\u001b[1;32m-> 1287\u001b[1;33m     placeholder = graph_placeholder(\n\u001b[0m\u001b[0;32m   1288\u001b[0m         dtype=dtype or value.dtype, shape=shape, name=name)\n\u001b[0;32m   1289\u001b[0m   \u001b[0mhandle_data_util\u001b[0m\u001b[1;33m.\u001b[0m\u001b[0mcopy_handle_data\u001b[0m\u001b[1;33m(\u001b[0m\u001b[0mvalue\u001b[0m\u001b[1;33m,\u001b[0m \u001b[0mplaceholder\u001b[0m\u001b[1;33m)\u001b[0m\u001b[1;33m\u001b[0m\u001b[1;33m\u001b[0m\u001b[0m\n",
      "\u001b[1;32m~\\Anaconda3\\envs\\tf\\lib\\site-packages\\tensorflow\\python\\eager\\graph_only_ops.py\u001b[0m in \u001b[0;36mgraph_placeholder\u001b[1;34m(dtype, shape, name)\u001b[0m\n\u001b[0;32m     36\u001b[0m   \u001b[0mg\u001b[0m \u001b[1;33m=\u001b[0m \u001b[0mops\u001b[0m\u001b[1;33m.\u001b[0m\u001b[0mget_default_graph\u001b[0m\u001b[1;33m(\u001b[0m\u001b[1;33m)\u001b[0m\u001b[1;33m\u001b[0m\u001b[1;33m\u001b[0m\u001b[0m\n\u001b[0;32m     37\u001b[0m   \u001b[0mattrs\u001b[0m \u001b[1;33m=\u001b[0m \u001b[1;33m{\u001b[0m\u001b[1;34m\"dtype\"\u001b[0m\u001b[1;33m:\u001b[0m \u001b[0mdtype_value\u001b[0m\u001b[1;33m,\u001b[0m \u001b[1;34m\"shape\"\u001b[0m\u001b[1;33m:\u001b[0m \u001b[0mshape\u001b[0m\u001b[1;33m}\u001b[0m\u001b[1;33m\u001b[0m\u001b[1;33m\u001b[0m\u001b[0m\n\u001b[1;32m---> 38\u001b[1;33m   op = g._create_op_internal(  # pylint: disable=protected-access\n\u001b[0m\u001b[0;32m     39\u001b[0m       \u001b[1;34m\"Placeholder\"\u001b[0m\u001b[1;33m,\u001b[0m \u001b[1;33m[\u001b[0m\u001b[1;33m]\u001b[0m\u001b[1;33m,\u001b[0m \u001b[1;33m[\u001b[0m\u001b[0mdtype\u001b[0m\u001b[1;33m]\u001b[0m\u001b[1;33m,\u001b[0m \u001b[0minput_types\u001b[0m\u001b[1;33m=\u001b[0m\u001b[1;33m[\u001b[0m\u001b[1;33m]\u001b[0m\u001b[1;33m,\u001b[0m\u001b[1;33m\u001b[0m\u001b[1;33m\u001b[0m\u001b[0m\n\u001b[0;32m     40\u001b[0m       attrs=attrs, name=name)\n",
      "\u001b[1;32m~\\Anaconda3\\envs\\tf\\lib\\site-packages\\tensorflow\\python\\framework\\func_graph.py\u001b[0m in \u001b[0;36m_create_op_internal\u001b[1;34m(self, op_type, inputs, dtypes, input_types, name, attrs, op_def, compute_device)\u001b[0m\n\u001b[0;32m    687\u001b[0m       \u001b[0minp\u001b[0m \u001b[1;33m=\u001b[0m \u001b[0mself\u001b[0m\u001b[1;33m.\u001b[0m\u001b[0mcapture\u001b[0m\u001b[1;33m(\u001b[0m\u001b[0minp\u001b[0m\u001b[1;33m)\u001b[0m\u001b[1;33m\u001b[0m\u001b[1;33m\u001b[0m\u001b[0m\n\u001b[0;32m    688\u001b[0m       \u001b[0mcaptured_inputs\u001b[0m\u001b[1;33m.\u001b[0m\u001b[0mappend\u001b[0m\u001b[1;33m(\u001b[0m\u001b[0minp\u001b[0m\u001b[1;33m)\u001b[0m\u001b[1;33m\u001b[0m\u001b[1;33m\u001b[0m\u001b[0m\n\u001b[1;32m--> 689\u001b[1;33m     return super(FuncGraph, self)._create_op_internal(  # pylint: disable=protected-access\n\u001b[0m\u001b[0;32m    690\u001b[0m         \u001b[0mop_type\u001b[0m\u001b[1;33m,\u001b[0m \u001b[0mcaptured_inputs\u001b[0m\u001b[1;33m,\u001b[0m \u001b[0mdtypes\u001b[0m\u001b[1;33m,\u001b[0m \u001b[0minput_types\u001b[0m\u001b[1;33m,\u001b[0m \u001b[0mname\u001b[0m\u001b[1;33m,\u001b[0m \u001b[0mattrs\u001b[0m\u001b[1;33m,\u001b[0m \u001b[0mop_def\u001b[0m\u001b[1;33m,\u001b[0m\u001b[1;33m\u001b[0m\u001b[1;33m\u001b[0m\u001b[0m\n\u001b[0;32m    691\u001b[0m         compute_device)\n",
      "\u001b[1;32m~\\Anaconda3\\envs\\tf\\lib\\site-packages\\tensorflow\\python\\framework\\ops.py\u001b[0m in \u001b[0;36m_create_op_internal\u001b[1;34m(self, op_type, inputs, dtypes, input_types, name, attrs, op_def, compute_device)\u001b[0m\n\u001b[0;32m   3695\u001b[0m     \u001b[1;31m# Session.run call cannot occur between creating and mutating the op.\u001b[0m\u001b[1;33m\u001b[0m\u001b[1;33m\u001b[0m\u001b[1;33m\u001b[0m\u001b[0m\n\u001b[0;32m   3696\u001b[0m     \u001b[1;32mwith\u001b[0m \u001b[0mself\u001b[0m\u001b[1;33m.\u001b[0m\u001b[0m_mutation_lock\u001b[0m\u001b[1;33m(\u001b[0m\u001b[1;33m)\u001b[0m\u001b[1;33m:\u001b[0m\u001b[1;33m\u001b[0m\u001b[1;33m\u001b[0m\u001b[0m\n\u001b[1;32m-> 3697\u001b[1;33m       ret = Operation(\n\u001b[0m\u001b[0;32m   3698\u001b[0m           \u001b[0mnode_def\u001b[0m\u001b[1;33m,\u001b[0m\u001b[1;33m\u001b[0m\u001b[1;33m\u001b[0m\u001b[0m\n\u001b[0;32m   3699\u001b[0m           \u001b[0mself\u001b[0m\u001b[1;33m,\u001b[0m\u001b[1;33m\u001b[0m\u001b[1;33m\u001b[0m\u001b[0m\n",
      "\u001b[1;32m~\\Anaconda3\\envs\\tf\\lib\\site-packages\\tensorflow\\python\\framework\\ops.py\u001b[0m in \u001b[0;36m__init__\u001b[1;34m(self, node_def, g, inputs, output_types, control_inputs, input_types, original_op, op_def)\u001b[0m\n\u001b[0;32m   2095\u001b[0m       \u001b[1;32mif\u001b[0m \u001b[0mop_def\u001b[0m \u001b[1;32mis\u001b[0m \u001b[1;32mNone\u001b[0m\u001b[1;33m:\u001b[0m\u001b[1;33m\u001b[0m\u001b[1;33m\u001b[0m\u001b[0m\n\u001b[0;32m   2096\u001b[0m         \u001b[0mop_def\u001b[0m \u001b[1;33m=\u001b[0m \u001b[0mself\u001b[0m\u001b[1;33m.\u001b[0m\u001b[0m_graph\u001b[0m\u001b[1;33m.\u001b[0m\u001b[0m_get_op_def\u001b[0m\u001b[1;33m(\u001b[0m\u001b[0mnode_def\u001b[0m\u001b[1;33m.\u001b[0m\u001b[0mop\u001b[0m\u001b[1;33m)\u001b[0m\u001b[1;33m\u001b[0m\u001b[1;33m\u001b[0m\u001b[0m\n\u001b[1;32m-> 2097\u001b[1;33m       self._c_op = _create_c_op(self._graph, node_def, inputs,\n\u001b[0m\u001b[0;32m   2098\u001b[0m                                 control_input_ops, op_def)\n\u001b[0;32m   2099\u001b[0m       \u001b[0mname\u001b[0m \u001b[1;33m=\u001b[0m \u001b[0mcompat\u001b[0m\u001b[1;33m.\u001b[0m\u001b[0mas_str\u001b[0m\u001b[1;33m(\u001b[0m\u001b[0mnode_def\u001b[0m\u001b[1;33m.\u001b[0m\u001b[0mname\u001b[0m\u001b[1;33m)\u001b[0m\u001b[1;33m\u001b[0m\u001b[1;33m\u001b[0m\u001b[0m\n",
      "\u001b[1;32m~\\Anaconda3\\envs\\tf\\lib\\site-packages\\tensorflow\\python\\util\\traceback_utils.py\u001b[0m in \u001b[0;36merror_handler\u001b[1;34m(*args, **kwargs)\u001b[0m\n\u001b[0;32m    148\u001b[0m     \u001b[0mfiltered_tb\u001b[0m \u001b[1;33m=\u001b[0m \u001b[1;32mNone\u001b[0m\u001b[1;33m\u001b[0m\u001b[1;33m\u001b[0m\u001b[0m\n\u001b[0;32m    149\u001b[0m     \u001b[1;32mtry\u001b[0m\u001b[1;33m:\u001b[0m\u001b[1;33m\u001b[0m\u001b[1;33m\u001b[0m\u001b[0m\n\u001b[1;32m--> 150\u001b[1;33m       \u001b[1;32mreturn\u001b[0m \u001b[0mfn\u001b[0m\u001b[1;33m(\u001b[0m\u001b[1;33m*\u001b[0m\u001b[0margs\u001b[0m\u001b[1;33m,\u001b[0m \u001b[1;33m**\u001b[0m\u001b[0mkwargs\u001b[0m\u001b[1;33m)\u001b[0m\u001b[1;33m\u001b[0m\u001b[1;33m\u001b[0m\u001b[0m\n\u001b[0m\u001b[0;32m    151\u001b[0m     \u001b[1;32mexcept\u001b[0m \u001b[0mException\u001b[0m \u001b[1;32mas\u001b[0m \u001b[0me\u001b[0m\u001b[1;33m:\u001b[0m\u001b[1;33m\u001b[0m\u001b[1;33m\u001b[0m\u001b[0m\n\u001b[0;32m    152\u001b[0m       \u001b[0mfiltered_tb\u001b[0m \u001b[1;33m=\u001b[0m \u001b[0m_process_traceback_frames\u001b[0m\u001b[1;33m(\u001b[0m\u001b[0me\u001b[0m\u001b[1;33m.\u001b[0m\u001b[0m__traceback__\u001b[0m\u001b[1;33m)\u001b[0m\u001b[1;33m\u001b[0m\u001b[1;33m\u001b[0m\u001b[0m\n",
      "\u001b[1;32m~\\Anaconda3\\envs\\tf\\lib\\site-packages\\tensorflow\\python\\framework\\ops.py\u001b[0m in \u001b[0;36m_create_c_op\u001b[1;34m(graph, node_def, inputs, control_inputs, op_def)\u001b[0m\n\u001b[0;32m   1934\u001b[0m \u001b[1;33m\u001b[0m\u001b[0m\n\u001b[0;32m   1935\u001b[0m   \u001b[1;32mtry\u001b[0m\u001b[1;33m:\u001b[0m\u001b[1;33m\u001b[0m\u001b[1;33m\u001b[0m\u001b[0m\n\u001b[1;32m-> 1936\u001b[1;33m     \u001b[0mc_op\u001b[0m \u001b[1;33m=\u001b[0m \u001b[0mpywrap_tf_session\u001b[0m\u001b[1;33m.\u001b[0m\u001b[0mTF_FinishOperation\u001b[0m\u001b[1;33m(\u001b[0m\u001b[0mop_desc\u001b[0m\u001b[1;33m)\u001b[0m\u001b[1;33m\u001b[0m\u001b[1;33m\u001b[0m\u001b[0m\n\u001b[0m\u001b[0;32m   1937\u001b[0m   \u001b[1;32mexcept\u001b[0m \u001b[0merrors\u001b[0m\u001b[1;33m.\u001b[0m\u001b[0mInvalidArgumentError\u001b[0m \u001b[1;32mas\u001b[0m \u001b[0me\u001b[0m\u001b[1;33m:\u001b[0m\u001b[1;33m\u001b[0m\u001b[1;33m\u001b[0m\u001b[0m\n\u001b[0;32m   1938\u001b[0m     \u001b[1;31m# Convert to ValueError for backwards compatibility.\u001b[0m\u001b[1;33m\u001b[0m\u001b[1;33m\u001b[0m\u001b[1;33m\u001b[0m\u001b[0m\n",
      "\u001b[1;31mKeyboardInterrupt\u001b[0m: "
     ]
    }
   ],
   "source": [
    "from IPython.display import display\n",
    "\n",
    "start = False\n",
    "for arch_name in arch2module_name:\n",
    "    if not start:\n",
    "        # start at the model with error to debug\n",
    "        if arch_name == 'MobileNetV3Large':\n",
    "            start = True\n",
    "        else:\n",
    "            continue\n",
    "    model_fn, preprocess_input = get_model_and_preprocess_func(arch_name)\n",
    "    model = get_model(model_fn)\n",
    "    display(preprocess_input)\n",
    "    train_ds, val_ds, test_ds = get_ds(preprocess_fn=preprocess_input)\n",
    "    print(f\"[INFO] Training model for '{arch_name}'...\")\n",
    "    start_time = time.perf_counter()\n",
    "    H = model.fit(\n",
    "        train_ds,\n",
    "        validation_data=val_ds,\n",
    "        epochs=10\n",
    "    )\n",
    "    end_time = time.perf_counter()\n",
    "    print(f\"[INFO] Total time: {end_time - start_time:.2f} s\\n\")"
   ]
  },
  {
   "cell_type": "code",
   "execution_count": 75,
   "id": "7c2cd8ee",
   "metadata": {},
   "outputs": [
    {
     "name": "stdout",
     "output_type": "stream",
     "text": [
      "[INFO] preparing model for ResNet152...\n"
     ]
    },
    {
     "data": {
      "text/plain": [
       "<function keras.applications.resnet.preprocess_input(x, data_format=None)>"
      ]
     },
     "metadata": {},
     "output_type": "display_data"
    },
    {
     "name": "stdout",
     "output_type": "stream",
     "text": [
      "[INFO] Training model for 'ResNet152'...\n",
      "Epoch 1/5\n",
      "66/66 [==============================] - 27s 307ms/step - loss: 0.6550 - accuracy: 0.7412 - val_loss: 0.2830 - val_accuracy: 0.8880\n",
      "Epoch 2/5\n",
      "66/66 [==============================] - 17s 254ms/step - loss: 0.4549 - accuracy: 0.7981 - val_loss: 0.2160 - val_accuracy: 0.9184\n",
      "Epoch 3/5\n",
      "66/66 [==============================] - 18s 271ms/step - loss: 0.3712 - accuracy: 0.8289 - val_loss: 0.1872 - val_accuracy: 0.9203\n",
      "Epoch 4/5\n",
      "66/66 [==============================] - 19s 281ms/step - loss: 0.3395 - accuracy: 0.8450 - val_loss: 0.1801 - val_accuracy: 0.9260\n",
      "Epoch 5/5\n",
      "66/66 [==============================] - 18s 278ms/step - loss: 0.3090 - accuracy: 0.8649 - val_loss: 0.1464 - val_accuracy: 0.9412\n",
      "[INFO] Total time: 98.71 s\n",
      "\n",
      "[INFO] preparing model for ResNet152V2...\n",
      "Downloading data from https://storage.googleapis.com/tensorflow/keras-applications/resnet/resnet152v2_weights_tf_dim_ordering_tf_kernels_notop.h5\n",
      "234553344/234545216 [==============================] - 24s 0us/step\n",
      "234561536/234545216 [==============================] - 24s 0us/step\n"
     ]
    },
    {
     "data": {
      "text/plain": [
       "<function keras.applications.resnet_v2.preprocess_input(x, data_format=None)>"
      ]
     },
     "metadata": {},
     "output_type": "display_data"
    },
    {
     "name": "stdout",
     "output_type": "stream",
     "text": [
      "[INFO] Training model for 'ResNet152V2'...\n",
      "Epoch 1/5\n",
      "66/66 [==============================] - 26s 297ms/step - loss: 0.7515 - accuracy: 0.6398 - val_loss: 0.4097 - val_accuracy: 0.8159\n",
      "Epoch 2/5\n",
      "66/66 [==============================] - 19s 287ms/step - loss: 0.5008 - accuracy: 0.7654 - val_loss: 0.4138 - val_accuracy: 0.7989\n",
      "Epoch 3/5\n",
      "66/66 [==============================] - 19s 284ms/step - loss: 0.4363 - accuracy: 0.8118 - val_loss: 0.3448 - val_accuracy: 0.8501\n",
      "Epoch 4/5\n",
      "66/66 [==============================] - 18s 276ms/step - loss: 0.3942 - accuracy: 0.8237 - val_loss: 0.3484 - val_accuracy: 0.8387\n",
      "Epoch 5/5\n",
      "66/66 [==============================] - 19s 290ms/step - loss: 0.3726 - accuracy: 0.8213 - val_loss: 0.2825 - val_accuracy: 0.8880\n",
      "[INFO] Total time: 100.85 s\n",
      "\n",
      "[INFO] preparing model for ResNet50...\n"
     ]
    },
    {
     "data": {
      "text/plain": [
       "<function keras.applications.resnet.preprocess_input(x, data_format=None)>"
      ]
     },
     "metadata": {},
     "output_type": "display_data"
    },
    {
     "name": "stdout",
     "output_type": "stream",
     "text": [
      "[INFO] Training model for 'ResNet50'...\n",
      "Epoch 1/5\n",
      "66/66 [==============================] - 12s 142ms/step - loss: 0.6759 - accuracy: 0.7223 - val_loss: 0.3961 - val_accuracy: 0.8178\n",
      "Epoch 2/5\n",
      "66/66 [==============================] - 8s 122ms/step - loss: 0.4484 - accuracy: 0.8071 - val_loss: 0.2792 - val_accuracy: 0.8861\n",
      "Epoch 3/5\n",
      "66/66 [==============================] - 8s 122ms/step - loss: 0.3768 - accuracy: 0.8322 - val_loss: 0.3020 - val_accuracy: 0.8748\n",
      "Epoch 4/5\n",
      "66/66 [==============================] - 8s 122ms/step - loss: 0.3160 - accuracy: 0.8550 - val_loss: 0.2708 - val_accuracy: 0.8861\n",
      "Epoch 5/5\n",
      "66/66 [==============================] - 8s 128ms/step - loss: 0.3027 - accuracy: 0.8597 - val_loss: 0.2589 - val_accuracy: 0.8861\n",
      "[INFO] Total time: 44.90 s\n",
      "\n",
      "[INFO] preparing model for ResNet50V2...\n",
      "Downloading data from https://storage.googleapis.com/tensorflow/keras-applications/resnet/resnet50v2_weights_tf_dim_ordering_tf_kernels_notop.h5\n",
      "94674944/94668760 [==============================] - 8s 0us/step\n",
      "94683136/94668760 [==============================] - 8s 0us/step\n"
     ]
    },
    {
     "data": {
      "text/plain": [
       "<function keras.applications.resnet_v2.preprocess_input(x, data_format=None)>"
      ]
     },
     "metadata": {},
     "output_type": "display_data"
    },
    {
     "name": "stdout",
     "output_type": "stream",
     "text": [
      "[INFO] Training model for 'ResNet50V2'...\n",
      "Epoch 1/5\n",
      "66/66 [==============================] - 11s 121ms/step - loss: 0.7652 - accuracy: 0.6583 - val_loss: 0.5467 - val_accuracy: 0.7495\n",
      "Epoch 2/5\n",
      "66/66 [==============================] - 8s 120ms/step - loss: 0.5268 - accuracy: 0.7616 - val_loss: 0.4413 - val_accuracy: 0.8027\n",
      "Epoch 3/5\n",
      "66/66 [==============================] - 7s 110ms/step - loss: 0.4659 - accuracy: 0.7905 - val_loss: 0.4008 - val_accuracy: 0.8254\n",
      "Epoch 4/5\n",
      "66/66 [==============================] - 7s 106ms/step - loss: 0.4300 - accuracy: 0.7934 - val_loss: 0.3823 - val_accuracy: 0.8292\n",
      "Epoch 5/5\n",
      "66/66 [==============================] - 7s 110ms/step - loss: 0.3772 - accuracy: 0.8232 - val_loss: 0.2951 - val_accuracy: 0.8767\n",
      "[INFO] Total time: 40.40 s\n",
      "\n",
      "[INFO] preparing model for VGG16...\n",
      "Downloading data from https://storage.googleapis.com/tensorflow/keras-applications/vgg16/vgg16_weights_tf_dim_ordering_tf_kernels_notop.h5\n",
      "58892288/58889256 [==============================] - 4s 0us/step\n",
      "58900480/58889256 [==============================] - 4s 0us/step\n"
     ]
    },
    {
     "data": {
      "text/plain": [
       "<function keras.applications.vgg16.preprocess_input(x, data_format=None)>"
      ]
     },
     "metadata": {},
     "output_type": "display_data"
    },
    {
     "name": "stdout",
     "output_type": "stream",
     "text": [
      "[INFO] Training model for 'VGG16'...\n",
      "Epoch 1/5\n",
      "66/66 [==============================] - 19s 208ms/step - loss: 1.9762 - accuracy: 0.5915 - val_loss: 0.6585 - val_accuracy: 0.7609\n",
      "Epoch 2/5\n",
      "66/66 [==============================] - 7s 114ms/step - loss: 1.2893 - accuracy: 0.7014 - val_loss: 0.5958 - val_accuracy: 0.7799\n",
      "Epoch 3/5\n",
      "66/66 [==============================] - 8s 126ms/step - loss: 1.0379 - accuracy: 0.7308 - val_loss: 0.5075 - val_accuracy: 0.7837\n",
      "Epoch 4/5\n",
      "66/66 [==============================] - 8s 119ms/step - loss: 0.8787 - accuracy: 0.7607 - val_loss: 0.4449 - val_accuracy: 0.8046\n",
      "Epoch 5/5\n",
      "66/66 [==============================] - 8s 119ms/step - loss: 0.7769 - accuracy: 0.7635 - val_loss: 0.3920 - val_accuracy: 0.8254\n",
      "[INFO] Total time: 50.52 s\n",
      "\n",
      "[INFO] preparing model for VGG19...\n",
      "Downloading data from https://storage.googleapis.com/tensorflow/keras-applications/vgg19/vgg19_weights_tf_dim_ordering_tf_kernels_notop.h5\n",
      "80142336/80134624 [==============================] - 8s 0us/step\n",
      "80150528/80134624 [==============================] - 8s 0us/step\n"
     ]
    },
    {
     "data": {
      "text/plain": [
       "<function keras.applications.vgg19.preprocess_input(x, data_format=None)>"
      ]
     },
     "metadata": {},
     "output_type": "display_data"
    },
    {
     "name": "stdout",
     "output_type": "stream",
     "text": [
      "[INFO] Training model for 'VGG19'...\n",
      "Epoch 1/5\n",
      "66/66 [==============================] - 11s 147ms/step - loss: 1.8355 - accuracy: 0.6284 - val_loss: 0.7694 - val_accuracy: 0.6869\n",
      "Epoch 2/5\n",
      "66/66 [==============================] - 9s 142ms/step - loss: 1.1399 - accuracy: 0.6995 - val_loss: 0.5100 - val_accuracy: 0.8065\n",
      "Epoch 3/5\n",
      "66/66 [==============================] - 10s 148ms/step - loss: 0.9153 - accuracy: 0.7502 - val_loss: 0.5896 - val_accuracy: 0.7723\n",
      "Epoch 4/5\n",
      "66/66 [==============================] - 10s 145ms/step - loss: 0.7927 - accuracy: 0.7725 - val_loss: 0.5210 - val_accuracy: 0.7761\n",
      "Epoch 5/5\n",
      "66/66 [==============================] - 9s 143ms/step - loss: 0.7025 - accuracy: 0.7791 - val_loss: 0.4179 - val_accuracy: 0.8178\n",
      "[INFO] Total time: 49.49 s\n",
      "\n",
      "[INFO] preparing model for Xception...\n",
      "Downloading data from https://storage.googleapis.com/tensorflow/keras-applications/xception/xception_weights_tf_dim_ordering_tf_kernels_notop.h5\n",
      "83689472/83683744 [==============================] - 7s 0us/step\n",
      "83697664/83683744 [==============================] - 7s 0us/step\n"
     ]
    },
    {
     "data": {
      "text/plain": [
       "<function keras.applications.xception.preprocess_input(x, data_format=None)>"
      ]
     },
     "metadata": {},
     "output_type": "display_data"
    },
    {
     "name": "stdout",
     "output_type": "stream",
     "text": [
      "[INFO] Training model for 'Xception'...\n",
      "Epoch 1/5\n",
      "66/66 [==============================] - 14s 164ms/step - loss: 0.5908 - accuracy: 0.6825 - val_loss: 0.4755 - val_accuracy: 0.7666\n",
      "Epoch 2/5\n",
      "66/66 [==============================] - 10s 146ms/step - loss: 0.4777 - accuracy: 0.7777 - val_loss: 0.3803 - val_accuracy: 0.8311\n",
      "Epoch 3/5\n",
      "66/66 [==============================] - 9s 140ms/step - loss: 0.4280 - accuracy: 0.7981 - val_loss: 0.3836 - val_accuracy: 0.8235\n",
      "Epoch 4/5\n",
      "66/66 [==============================] - 10s 146ms/step - loss: 0.3988 - accuracy: 0.8152 - val_loss: 0.3491 - val_accuracy: 0.8425\n",
      "Epoch 5/5\n",
      "66/66 [==============================] - 9s 138ms/step - loss: 0.3658 - accuracy: 0.8384 - val_loss: 0.3409 - val_accuracy: 0.8520\n",
      "[INFO] Total time: 51.22 s\n",
      "\n"
     ]
    }
   ],
   "source": [
    "from IPython.display import display\n",
    "\n",
    "start = False\n",
    "for arch_name in arch2module_name:\n",
    "    if not start:\n",
    "        # start at the model with error to debug\n",
    "        if arch_name == 'ResNet152':\n",
    "            start = True\n",
    "        else:\n",
    "            continue\n",
    "    model_fn, preprocess_input = get_model_and_preprocess_func(arch_name)\n",
    "    model = get_model(model_fn)\n",
    "    display(preprocess_input)\n",
    "    train_ds, val_ds, test_ds = get_ds(preprocess_fn=preprocess_input)\n",
    "    print(f\"[INFO] Training model for '{arch_name}'...\")\n",
    "    start_time = time.perf_counter()\n",
    "    H = model.fit(\n",
    "        train_ds,\n",
    "        validation_data=val_ds,\n",
    "        epochs=5\n",
    "    )\n",
    "    end_time = time.perf_counter()\n",
    "    print(f\"[INFO] Total time: {end_time - start_time:.2f} s\\n\")"
   ]
  },
  {
   "cell_type": "markdown",
   "id": "56c6fc2f",
   "metadata": {},
   "source": [
    "# Save and check training result"
   ]
  },
  {
   "cell_type": "code",
   "execution_count": 30,
   "id": "32f698c6-fab7-4ce8-b1a9-9c483c5c8567",
   "metadata": {},
   "outputs": [
    {
     "name": "stdout",
     "output_type": "stream",
     "text": [
      "[INFO] saving model...\n"
     ]
    },
    {
     "name": "stderr",
     "output_type": "stream",
     "text": [
      "C:\\Users\\user\\anaconda3\\envs\\tfod\\lib\\site-packages\\tensorflow\\python\\keras\\utils\\generic_utils.py:494: CustomMaskWarning: Custom mask layers require a config and must override get_config. When loading, the custom mask layer must be passed to the custom_objects argument.\n",
      "  warnings.warn('Custom mask layers require a config and must override '\n"
     ]
    }
   ],
   "source": [
    "# serialize the model to disk\n",
    "print(\"[INFO] saving model...\")\n",
    "model.save(MODEL_PATH, save_format=\"h5\")"
   ]
  },
  {
   "cell_type": "code",
   "execution_count": 31,
   "id": "c2aaf309-b213-4d2a-baad-3167dda6a201",
   "metadata": {},
   "outputs": [
    {
     "name": "stdout",
     "output_type": "stream",
     "text": [
      "Total epochs: 10\n",
      "Min val_loss: 0.17224 at epoch 9\n",
      "\n"
     ]
    },
    {
     "data": {
      "image/png": "[encoded data removed]",
      "text/plain": [
       "<Figure size 640x480 with 1 Axes>"
      ]
     },
     "metadata": {},
     "output_type": "display_data"
    }
   ],
   "source": [
    "# plot the training and validation results\n",
    "val_loss = H.history[\"val_loss\"]\n",
    "min_val_loss = np.min(val_loss)\n",
    "epoch_min_val_loss = val_loss.index(min_val_loss) + 1\n",
    "total_epochs = len(val_loss)\n",
    "print(f\"Total epochs: {total_epochs}\")\n",
    "print(f\"Min val_loss: {min_val_loss:.5f} at epoch {epoch_min_val_loss}\\n\")\n",
    "\n",
    "N = NUM_EPOCHS\n",
    "plt.style.use(\"ggplot\")\n",
    "plt.xticks(np.arange(1, N + 1))\n",
    "plt.plot(np.arange(1, N + 1), H.history[\"loss\"], label=\"train_loss\")\n",
    "plt.plot(np.arange(1, N + 1), H.history[\"val_loss\"], label=\"val_loss\")\n",
    "plt.plot(np.arange(1, N + 1), H.history[\"accuracy\"], label=\"train_acc\")\n",
    "plt.plot(np.arange(1, N + 1), H.history[\"val_accuracy\"], label=\"val_acc\")\n",
    "plt.title(\"Training Loss and Accuracy on Dataset\")\n",
    "plt.xlabel(\"Epoch #\")\n",
    "plt.ylabel(\"Loss/Accuracy\")\n",
    "plt.legend(loc=\"upper left\")\n",
    "# save the figure\n",
    "plt.savefig(PLOT_PATH)\n",
    "plt.show()"
   ]
  },
  {
   "cell_type": "markdown",
   "id": "41d17f08-c9da-4fa1-b749-195e3d0cf991",
   "metadata": {},
   "source": [
    "# Evaluation"
   ]
  },
  {
   "cell_type": "markdown",
   "id": "49dc27a4-a6c2-43ae-a84c-407045be9672",
   "metadata": {},
   "source": [
    "Similar to our previous notebook."
   ]
  },
  {
   "cell_type": "code",
   "execution_count": 32,
   "id": "bf5a713a-10d7-4416-9b9e-0ab49e386dfa",
   "metadata": {},
   "outputs": [
    {
     "name": "stdout",
     "output_type": "stream",
     "text": [
      "[INFO] Loading model ...\n",
      "[INFO] Done. [1.40 s]\n"
     ]
    }
   ],
   "source": [
    "# Load entire saved model directly\n",
    "start_time = time.perf_counter()\n",
    "print(f\"[INFO] Loading model ...\")\n",
    "model = tf.keras.models.load_model(MODEL_PATH)\n",
    "end_time = time.perf_counter()\n",
    "print(f\"[INFO] Done. [{end_time - start_time:.2f} s]\")"
   ]
  },
  {
   "cell_type": "code",
   "execution_count": 33,
   "id": "dfabbdbc-f04b-4659-873c-6a68816a9b6c",
   "metadata": {},
   "outputs": [
    {
     "name": "stdout",
     "output_type": "stream",
     "text": [
      "17/17 [==============================] - 4s 159ms/step - loss: 0.1932 - accuracy: 0.9298\n",
      "[INFO] Validation Accuracy: 92.98%\n",
      "21/21 [==============================] - 4s 192ms/step - loss: 0.2910 - accuracy: 0.8682\n",
      "[INFO] Testing Accuracy: 86.82%\n"
     ]
    }
   ],
   "source": [
    "# show the accuracy on the validation set\n",
    "(loss, accuracy) = model.evaluate(val_ds)\n",
    "print(\"[INFO] Validation Accuracy: {:.2f}%\".format(accuracy * 100))\n",
    "(loss, accuracy) = model.evaluate(test_ds)\n",
    "print(\"[INFO] Testing Accuracy: {:.2f}%\".format(accuracy * 100))"
   ]
  },
  {
   "cell_type": "code",
   "execution_count": 34,
   "id": "45a05f6d-23bc-49ae-93a5-706720555271",
   "metadata": {},
   "outputs": [
    {
     "name": "stdout",
     "output_type": "stream",
     "text": [
      "Wall time: 3.95 s\n"
     ]
    },
    {
     "data": {
      "text/plain": [
       "(660, 2)"
      ]
     },
     "execution_count": 34,
     "metadata": {},
     "output_type": "execute_result"
    }
   ],
   "source": [
    "%%time\n",
    "preds = model.predict(test_ds)\n",
    "preds.shape"
   ]
  },
  {
   "cell_type": "code",
   "execution_count": 35,
   "id": "246eda0d-7919-40fe-84e0-2952a799fdfd",
   "metadata": {},
   "outputs": [
    {
     "data": {
      "text/plain": [
       "(660,)"
      ]
     },
     "execution_count": 35,
     "metadata": {},
     "output_type": "execute_result"
    }
   ],
   "source": [
    "preds = np.argmax(preds, axis=-1)\n",
    "preds.shape"
   ]
  },
  {
   "cell_type": "code",
   "execution_count": 36,
   "id": "2e6ae1e6-6629-40bc-bf99-b1ad4312dbee",
   "metadata": {},
   "outputs": [
    {
     "data": {
      "text/plain": [
       "(660,)"
      ]
     },
     "execution_count": 36,
     "metadata": {},
     "output_type": "execute_result"
    }
   ],
   "source": [
    "y_true = np.concatenate([y for x, y in test_ds], axis=0)\n",
    "y_true.shape"
   ]
  },
  {
   "cell_type": "code",
   "execution_count": 37,
   "id": "9ebb44d1-254c-4122-acf8-becd54d36742",
   "metadata": {},
   "outputs": [
    {
     "name": "stdout",
     "output_type": "stream",
     "text": [
      "              precision    recall  f1-score   support\n",
      "\n",
      "      benign       0.89      0.86      0.88       360\n",
      "   malignant       0.84      0.87      0.86       300\n",
      "\n",
      "    accuracy                           0.87       660\n",
      "   macro avg       0.87      0.87      0.87       660\n",
      "weighted avg       0.87      0.87      0.87       660\n",
      "\n"
     ]
    }
   ],
   "source": [
    "from sklearn.metrics import classification_report\n",
    "\n",
    "# show a nicely formatted classification report\n",
    "classif_report = classification_report(\n",
    "    y_true, preds, target_names=CLASS_NAMES\n",
    ")\n",
    "print(classif_report)\n",
    "with open(CLASSIF_REPORT_PATH, \"w\") as f:\n",
    "    f.write(classif_report)"
   ]
  },
  {
   "cell_type": "code",
   "execution_count": 44,
   "id": "bc439bc7-0dd9-4eb1-9200-907e89acb51e",
   "metadata": {},
   "outputs": [
    {
     "data": {
      "text/plain": [
       "660"
      ]
     },
     "execution_count": 44,
     "metadata": {},
     "output_type": "execute_result"
    }
   ],
   "source": [
    "np.sum(cm)"
   ]
  },
  {
   "cell_type": "code",
   "execution_count": 51,
   "id": "520f6edd-134f-411c-8944-5350fa326cba",
   "metadata": {},
   "outputs": [
    {
     "data": {
      "image/png": "[encoded data removed]",
      "text/plain": [
       "<Figure size 300x300 with 1 Axes>"
      ]
     },
     "metadata": {},
     "output_type": "display_data"
    }
   ],
   "source": [
    "from sklearn.metrics import confusion_matrix\n",
    "import seaborn as sns\n",
    "\n",
    "cm = confusion_matrix(y_true, preds)\n",
    "\n",
    "fig = plt.figure(figsize=(3, 3))\n",
    "ax = sns.heatmap(\n",
    "    cm,\n",
    "    cmap=\"Blues\",\n",
    "    annot=True,\n",
    "    fmt=\"d\",\n",
    "    cbar=False,\n",
    ")\n",
    "\n",
    "plt.title(\"Confusion Matrix\", size=12, fontfamily=\"serif\")\n",
    "plt.savefig(os.path.join(OUTPUTS_PATH, \"cm_skin_cancer.png\"))\n",
    "plt.ylabel('Actual')\n",
    "plt.xlabel('Predicted')\n",
    "plt.show()"
   ]
  },
  {
   "cell_type": "code",
   "execution_count": null,
   "id": "93fd3541-e571-47c9-b009-824ef94e9175",
   "metadata": {},
   "outputs": [],
   "source": []
  }
 ],
 "metadata": {
  "interpreter": {
   "hash": "8ece60ddf05e2bb1a3a95dc6d6135ea35551fa72f2095c0fd3feb56b01070d12"
  },
  "kernelspec": {
   "display_name": "Python 3.8.11 64-bit ('tfod': conda)",
   "name": "python3"
  },
  "language_info": {
   "codemirror_mode": {
    "name": "ipython",
    "version": 3
   },
   "file_extension": ".py",
   "mimetype": "text/x-python",
   "name": "python",
   "nbconvert_exporter": "python",
   "pygments_lexer": "ipython3",
   "version": "3.8.12"
  }
 },
 "nbformat": 4,
 "nbformat_minor": 5
}
